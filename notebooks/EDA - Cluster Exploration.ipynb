{
 "metadata": {
  "language_info": {
   "codemirror_mode": {
    "name": "ipython",
    "version": 3
   },
   "file_extension": ".py",
   "mimetype": "text/x-python",
   "name": "python",
   "nbconvert_exporter": "python",
   "pygments_lexer": "ipython3",
   "version": "3.6.9-final"
  },
  "orig_nbformat": 2,
  "kernelspec": {
   "name": "python3",
   "display_name": "Python 3.6.9 64-bit ('py36': conda)",
   "metadata": {
    "interpreter": {
     "hash": "e4583e3e051816b4ac89cf1b6baba6f81196736b754b6f0341f1424c68064e5b"
    }
   }
  }
 },
 "nbformat": 4,
 "nbformat_minor": 2,
 "cells": [
  {
   "cell_type": "code",
   "execution_count": null,
   "metadata": {},
   "outputs": [],
   "source": [
    "import ast\n",
    "import os\n",
    "import sys\n",
    "import json\n",
    "import copy\n",
    "from glob import glob\n",
    "from collections import Counter\n",
    "sys.path.insert(0, '../')\n",
    "\n",
    "import pandas as pd\n",
    "import numpy as np\n",
    "from sklearn.model_selection import train_test_split\n",
    "from sklearn.feature_extraction.text import TfidfVectorizer\n",
    "from sklearn.decomposition import PCA\n",
    "\n",
    "import matplotlib\n",
    "import matplotlib.pyplot as plt\n",
    "import matplotlib.font_manager as fm\n",
    "import seaborn as sns\n",
    "path = r'C:\\Users\\iloveslowfood\\Desktop\\iloveslowfood\\etc\\fonts\\AppleSDGothicNeo\\AppleSDGothicNeoSB.ttf'\n",
    "font_name = fm.FontProperties(fname=path, size=50).get_name()\n",
    "matplotlib.rcParams['axes.unicode_minus'] = False\n",
    "plt.rc('font', family=font_name)\n",
    "plt.style.use('ggplot')\n",
    "print(font_name)\n",
    "\n",
    "# custom\n",
    "from modules.load_data import load\n",
    "from modules.tf_idf import get_tfidf\n",
    "from modules.utils import str2list, squeeze"
   ]
  },
  {
   "cell_type": "code",
   "execution_count": null,
   "metadata": {},
   "outputs": [],
   "source": [
    "PATH = \"../raw/preprocessed/\"\n",
    "SIZE = 100000"
   ]
  },
  {
   "cell_type": "code",
   "execution_count": null,
   "metadata": {},
   "outputs": [],
   "source": [
    "metadata_core = pd.read_csv(os.path.join(PATH, 'metadata_vocab7000.csv'))\n",
    "metadata_core['keyword_list'] = metadata_core['keyword_list'].apply(lambda x: str2list(x))\n",
    "metadata_core.shape"
   ]
  },
  {
   "cell_type": "code",
   "execution_count": null,
   "metadata": {},
   "outputs": [],
   "source": [
    "vocab7000 = pd.read_csv(os.path.join(PATH, 'tag_vocab7000.csv'))\n",
    "vocab = vocab7000['tag'].tolist()\n",
    "len(vocab)"
   ]
  },
  {
   "cell_type": "code",
   "execution_count": null,
   "metadata": {},
   "outputs": [],
   "source": [
    "np.random.seed(42)\n",
    "sample_indices = np.random.choice(a=[i for i in range(573039)], size=SIZE, replace=False).tolist()\n",
    "user_id = metadata_core['user_id'].iloc[sample_indices].tolist()"
   ]
  },
  {
   "cell_type": "code",
   "execution_count": null,
   "metadata": {},
   "outputs": [],
   "source": [
    "metadata_tfidf = get_tfidf(metadata_core, vocab=vocab, indices=sample_indices)\n",
    "metadata_tfidf.shape"
   ]
  },
  {
   "cell_type": "code",
   "execution_count": null,
   "metadata": {},
   "outputs": [],
   "source": [
    "pca = PCA(n_components=3, random_state=3)\n",
    "pca.fit(metadata_tfidf)"
   ]
  },
  {
   "cell_type": "code",
   "execution_count": null,
   "metadata": {},
   "outputs": [],
   "source": [
    "metadata_pca = pd.DataFrame(pca.transform(metadata_tfidf), columns=['comp1', 'comp2', 'comp3'])\n",
    "metadata_pca['user_id'] = user_id"
   ]
  },
  {
   "cell_type": "code",
   "execution_count": null,
   "metadata": {},
   "outputs": [],
   "source": [
    "fig = plt.figure(figsize=(10,10))\n",
    "ax = fig.gca(projection='3d')\n",
    "\n",
    "x = metadata_pca['comp1']\n",
    "y = metadata_pca['comp2']\n",
    "z = metadata_pca['comp3']\n",
    "\n",
    "ax.scatter(x, y, z)\n",
    "ax.set_xlabel('Component 1')\n",
    "ax.set_ylabel('Component 2')\n",
    "ax.set_zlabel('Component 3')\n",
    "# plt.tight_layout()\n",
    "plt.title(f'글별 태그의 TF-IDF을 활용한 임베딩 결과 | 글 개수: {SIZE}')\n",
    "plt.savefig(f'./plots/({SIZE})글별 태그의 TF-IDF을 활용한 임베딩 결과.png', dpi=300)\n",
    "plt.show()"
   ]
  },
  {
   "cell_type": "code",
   "execution_count": null,
   "metadata": {},
   "outputs": [],
   "source": [
    "fig, ax = plt.subplots(1, 3, figsize=(18, 6))\n",
    "sns.scatterplot(x='comp1', y='comp3', data=metadata_pca, ax=ax[0], alpha=.5)\n",
    "sns.scatterplot(x='comp1', y='comp2', data=metadata_pca, ax=ax[1], alpha=.5)\n",
    "sns.scatterplot(x='comp2', y='comp3', data=metadata_pca, ax=ax[2], alpha=.5)\n",
    "plt.show()"
   ]
  },
  {
   "cell_type": "code",
   "execution_count": null,
   "metadata": {},
   "outputs": [],
   "source": [
    "from sklearn.cluster import KMeans"
   ]
  },
  {
   "cell_type": "code",
   "execution_count": null,
   "metadata": {},
   "outputs": [],
   "source": [
    "kmeans = KMeans(n_clusters=6, random_state=42).fit(metadata_pca[['comp1', 'comp2', 'comp3']])"
   ]
  },
  {
   "cell_type": "code",
   "execution_count": null,
   "metadata": {},
   "outputs": [],
   "source": [
    "metadata_pca['group'] = kmeans.labels_"
   ]
  },
  {
   "cell_type": "code",
   "execution_count": null,
   "metadata": {},
   "outputs": [],
   "source": [
    "fig, ax = plt.subplots(1, 3, figsize=(18, 6))\n",
    "sns.scatterplot(x='comp1', y='comp3', hue='group', data=metadata_pca, ax=ax[0], alpha=.5)\n",
    "sns.scatterplot(x='comp1', y='comp2', hue='group', data=metadata_pca, ax=ax[1], alpha=.5)\n",
    "sns.scatterplot(x='comp2', y='comp3', hue='group', data=metadata_pca, ax=ax[2], alpha=.5)\n",
    "plt.show()"
   ]
  },
  {
   "cell_type": "code",
   "execution_count": null,
   "metadata": {},
   "outputs": [],
   "source": [
    "user_g0 = metadata_pca[metadata_pca['group'] == 0]['user_id'].tolist()\n",
    "user_g1 = metadata_pca[metadata_pca['group'] == 1]['user_id'].tolist()\n",
    "user_g2 = metadata_pca[metadata_pca['group'] == 2]['user_id'].tolist()\n",
    "user_g3 = metadata_pca[metadata_pca['group'] == 3]['user_id'].tolist()\n",
    "user_g4 = metadata_pca[metadata_pca['group'] == 4]['user_id'].tolist()\n",
    "user_g5 = metadata_pca[metadata_pca['group'] == 5]['user_id'].tolist()"
   ]
  },
  {
   "cell_type": "code",
   "execution_count": null,
   "metadata": {},
   "outputs": [],
   "source": [
    "kwd_g0 = Counter(squeeze(metadata_core[metadata_core['user_id'].isin(user_g0)]['keyword_list'].tolist()))\n",
    "kwd_g1 = Counter(squeeze(metadata_core[metadata_core['user_id'].isin(user_g1)]['keyword_list'].tolist()))\n",
    "kwd_g2 = Counter(squeeze(metadata_core[metadata_core['user_id'].isin(user_g2)]['keyword_list'].tolist()))\n",
    "kwd_g3 = Counter(squeeze(metadata_core[metadata_core['user_id'].isin(user_g3)]['keyword_list'].tolist()))\n",
    "kwd_g4 = Counter(squeeze(metadata_core[metadata_core['user_id'].isin(user_g4)]['keyword_list'].tolist()))\n",
    "kwd_g5 = Counter(squeeze(metadata_core[metadata_core['user_id'].isin(user_g5)]['keyword_list'].tolist()))"
   ]
  },
  {
   "cell_type": "code",
   "execution_count": null,
   "metadata": {},
   "outputs": [],
   "source": [
    "tag_freq_g0 = pd.Series(kwd_g0).to_frame('freq').reset_index().rename({'index': 'tag'}, axis=1).sort_values(by='freq', ascending=False)\n",
    "tag_freq_g1 = pd.Series(kwd_g1).to_frame('freq').reset_index().rename({'index': 'tag'}, axis=1).sort_values(by='freq', ascending=False)\n",
    "tag_freq_g2 = pd.Series(kwd_g2).to_frame('freq').reset_index().rename({'index': 'tag'}, axis=1).sort_values(by='freq', ascending=False)\n",
    "tag_freq_g3 = pd.Series(kwd_g3).to_frame('freq').reset_index().rename({'index': 'tag'}, axis=1).sort_values(by='freq', ascending=False)\n",
    "tag_freq_g4 = pd.Series(kwd_g4).to_frame('freq').reset_index().rename({'index': 'tag'}, axis=1).sort_values(by='freq', ascending=False)\n",
    "tag_freq_g5 = pd.Series(kwd_g5).to_frame('freq').reset_index().rename({'index': 'tag'}, axis=1).sort_values(by='freq', ascending=False)"
   ]
  },
  {
   "cell_type": "code",
   "execution_count": null,
   "metadata": {},
   "outputs": [],
   "source": [
    "plt.figure(figsize=(8, 4))\n",
    "sns.barplot(y='tag', x='freq', data=tag_freq_g0.head(15), palette='spring')\n",
    "plt.show()"
   ]
  },
  {
   "cell_type": "code",
   "execution_count": null,
   "metadata": {},
   "outputs": [],
   "source": [
    "plt.figure(figsize=(8, 4))\n",
    "sns.barplot(y='tag', x='freq', data=tag_freq_g1.head(15), palette='summer')\n",
    "plt.show()"
   ]
  },
  {
   "cell_type": "code",
   "execution_count": null,
   "metadata": {},
   "outputs": [],
   "source": [
    "plt.figure(figsize=(8, 4))\n",
    "sns.barplot(y='tag', x='freq', data=tag_freq_g3.head(15), palette='winter')\n",
    "plt.show()"
   ]
  },
  {
   "cell_type": "code",
   "execution_count": null,
   "metadata": {},
   "outputs": [],
   "source": [
    "plt.figure(figsize=(8, 4))\n",
    "sns.barplot(y='tag', x='freq', data=tag_freq_g4.head(15), palette='Reds_r')\n",
    "plt.show()"
   ]
  },
  {
   "cell_type": "code",
   "execution_count": null,
   "metadata": {},
   "outputs": [],
   "source": [
    "plt.figure(figsize=(8, 4))\n",
    "sns.barplot(y='tag', x='freq', data=tag_freq_g5.head(15), palette='Blues_r')\n",
    "plt.show()"
   ]
  }
 ]
}