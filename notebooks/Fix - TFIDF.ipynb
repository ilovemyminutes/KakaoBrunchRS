{
 "metadata": {
  "language_info": {
   "codemirror_mode": {
    "name": "ipython",
    "version": 3
   },
   "file_extension": ".py",
   "mimetype": "text/x-python",
   "name": "python",
   "nbconvert_exporter": "python",
   "pygments_lexer": "ipython3",
   "version": "3.7.10-final"
  },
  "orig_nbformat": 2,
  "kernelspec": {
   "name": "python3",
   "display_name": "Python 3.7.10 64-bit",
   "metadata": {
    "interpreter": {
     "hash": "31f2aee4e71d21fbe5cf8b01ff0e069b9275f58929596ceb00d14d90e3e16cd6"
    }
   }
  }
 },
 "nbformat": 4,
 "nbformat_minor": 2,
 "cells": [
  {
   "cell_type": "code",
   "execution_count": 1,
   "metadata": {},
   "outputs": [],
   "source": [
    "import copy\n",
    "import sys\n",
    "from tqdm import tqdm\n",
    "from collections import Counter\n",
    "sys.path.insert(0, '../')\n",
    "\n",
    "import pandas as pd\n",
    "import numpy as np\n",
    "\n",
    "from utils import squeeze\n",
    "from load_data import load\n",
    "from tf_idf import get_tfidf"
   ]
  },
  {
   "cell_type": "code",
   "execution_count": 2,
   "metadata": {},
   "outputs": [],
   "source": [
    "metadata = load('metadata').head(1000)\n",
    "vocab = pd.read_csv('../raw/preprocessed/tag_vocab7000.csv')['tag'].tolist()"
   ]
  },
  {
   "source": [
    "# metadata['post_id'].tolist()"
   ],
   "cell_type": "code",
   "metadata": {},
   "execution_count": 6,
   "outputs": []
  },
  {
   "cell_type": "code",
   "execution_count": 7,
   "metadata": {},
   "outputs": [
    {
     "output_type": "stream",
     "name": "stderr",
     "text": [
      "Getting IDF: 100%|██████████| 1058/1058 [00:00<00:00, 1296.87it/s]\n",
      "/usr/local/lib/python3.7/dist-packages/tqdm/std.py:658: FutureWarning: The Panel class is removed from pandas. Accessing it from the top-level namespace will also be removed in the next version\n",
      "  from pandas import Panel\n",
      "Getting TF: 100%|██████████| 1000/1000 [00:00<00:00, 3100.55it/s]Aggregating TF and IDF...\n",
      "\n"
     ]
    }
   ],
   "source": [
    "tfidf = get_tfidf(data=metadata, vocab=vocab)"
   ]
  },
  {
   "cell_type": "code",
   "execution_count": 9,
   "metadata": {},
   "outputs": [],
   "source": [
    "tfidf.index = metadata['post_id'].tolist()\n",
    ".to_csv('test_tfidf.csv', encoding='euc-kr')"
   ]
  },
  {
   "cell_type": "code",
   "execution_count": 15,
   "metadata": {},
   "outputs": [
    {
     "output_type": "execute_result",
     "data": {
      "text/plain": [
       "               post_id        여행   영화   사랑  에세이  ...   본인  체험학습  선물투자  시금치   벌금\n",
       "0          @bookdb_782  2.847312  0.0  0.0  0.0  ...  0.0   0.0   0.0  0.0  0.0\n",
       "1        @kohwang56_81  0.000000  0.0  0.0  0.0  ...  0.0   0.0   0.0  0.0  0.0\n",
       "2       @hannahajink_4  0.000000  0.0  0.0  0.0  ...  0.0   0.0   0.0  0.0  0.0\n",
       "3     @bryceandjuli_88  0.000000  0.0  0.0  0.0  ...  0.0   0.0   0.0  0.0  0.0\n",
       "4      @mijeongpark_34  0.000000  0.0  0.0  0.0  ...  0.0   0.0   0.0  0.0  0.0\n",
       "..                 ...       ...  ...  ...  ...  ...  ...   ...   ...  ...  ...\n",
       "995      @leemansup_89  2.847312  0.0  0.0  0.0  ...  0.0   0.0   0.0  0.0  0.0\n",
       "996          @kshee_95  0.000000  0.0  0.0  0.0  ...  0.0   0.0   0.0  0.0  0.0\n",
       "997        @kangbcc_20  0.000000  0.0  0.0  0.0  ...  0.0   0.0   0.0  0.0  0.0\n",
       "998      @tenbody_1205  0.000000  0.0  0.0  0.0  ...  0.0   0.0   0.0  0.0  0.0\n",
       "999  @oncesimonsaid_57  0.000000  0.0  0.0  0.0  ...  0.0   0.0   0.0  0.0  0.0\n",
       "\n",
       "[1000 rows x 7001 columns]"
      ],
      "text/html": "<div>\n<style scoped>\n    .dataframe tbody tr th:only-of-type {\n        vertical-align: middle;\n    }\n\n    .dataframe tbody tr th {\n        vertical-align: top;\n    }\n\n    .dataframe thead th {\n        text-align: right;\n    }\n</style>\n<table border=\"1\" class=\"dataframe\">\n  <thead>\n    <tr style=\"text-align: right;\">\n      <th></th>\n      <th>post_id</th>\n      <th>여행</th>\n      <th>영화</th>\n      <th>사랑</th>\n      <th>에세이</th>\n      <th>그림일기</th>\n      <th>생각</th>\n      <th>공감에세이</th>\n      <th>일상</th>\n      <th>글쓰기</th>\n      <th>감성에세이</th>\n      <th>인생</th>\n      <th>행복</th>\n      <th>연애</th>\n      <th>소설</th>\n      <th>드로잉</th>\n      <th>독서</th>\n      <th>육아</th>\n      <th>그림</th>\n      <th>마음</th>\n      <th>사진</th>\n      <th>리뷰</th>\n      <th>엄마</th>\n      <th>음악</th>\n      <th>스타트업</th>\n      <th>시</th>\n      <th>유럽여행</th>\n      <th>일러스트</th>\n      <th>이별</th>\n      <th>마케팅</th>\n      <th>고양이</th>\n      <th>디자인</th>\n      <th>영화리뷰</th>\n      <th>웹툰</th>\n      <th>IT</th>\n      <th>직장인</th>\n      <th>감성</th>\n      <th>일기</th>\n      <th>사람</th>\n      <th>결혼</th>\n      <th>...</th>\n      <th>식도락</th>\n      <th>서민</th>\n      <th>F1</th>\n      <th>라디오헤드</th>\n      <th>연민</th>\n      <th>운동방법</th>\n      <th>여교사</th>\n      <th>하체</th>\n      <th>한약</th>\n      <th>족저근막염</th>\n      <th>좋은음악</th>\n      <th>총기</th>\n      <th>폭탄</th>\n      <th>도파민</th>\n      <th>산행후기</th>\n      <th>간병인</th>\n      <th>시화</th>\n      <th>고요함</th>\n      <th>멤버십</th>\n      <th>푸조</th>\n      <th>유럽연합</th>\n      <th>매체</th>\n      <th>눈높이</th>\n      <th>댄서</th>\n      <th>대상포진</th>\n      <th>블랙박스</th>\n      <th>불가능</th>\n      <th>연수</th>\n      <th>외침</th>\n      <th>신트라</th>\n      <th>삿포로여행</th>\n      <th>김수현</th>\n      <th>고부갈등</th>\n      <th>배달음식</th>\n      <th>의류</th>\n      <th>본인</th>\n      <th>체험학습</th>\n      <th>선물투자</th>\n      <th>시금치</th>\n      <th>벌금</th>\n    </tr>\n  </thead>\n  <tbody>\n    <tr>\n      <th>0</th>\n      <td>@bookdb_782</td>\n      <td>2.847312</td>\n      <td>0.0</td>\n      <td>0.0</td>\n      <td>0.0</td>\n      <td>0.0</td>\n      <td>0.0</td>\n      <td>0.0</td>\n      <td>0.0</td>\n      <td>0.0</td>\n      <td>0.0</td>\n      <td>0.0</td>\n      <td>0.0</td>\n      <td>0.0</td>\n      <td>0.0</td>\n      <td>0.0</td>\n      <td>0.0</td>\n      <td>0.0</td>\n      <td>0.0</td>\n      <td>0.000000</td>\n      <td>0.0</td>\n      <td>0.0</td>\n      <td>0.0</td>\n      <td>0.0</td>\n      <td>0.0</td>\n      <td>0.0</td>\n      <td>0.000000</td>\n      <td>0.0</td>\n      <td>0.0</td>\n      <td>0.0</td>\n      <td>0.0</td>\n      <td>0.0</td>\n      <td>0.0</td>\n      <td>0.0</td>\n      <td>0.0</td>\n      <td>0.0</td>\n      <td>0.0</td>\n      <td>0.0</td>\n      <td>0.0</td>\n      <td>0.0</td>\n      <td>...</td>\n      <td>0.0</td>\n      <td>0.0</td>\n      <td>0.0</td>\n      <td>0.0</td>\n      <td>0.0</td>\n      <td>0.0</td>\n      <td>0.0</td>\n      <td>0.0</td>\n      <td>0.0</td>\n      <td>0.0</td>\n      <td>0.0</td>\n      <td>0.0</td>\n      <td>0.0</td>\n      <td>0.0</td>\n      <td>0.0</td>\n      <td>0.0</td>\n      <td>0.0</td>\n      <td>0.0</td>\n      <td>0.0</td>\n      <td>0.0</td>\n      <td>0.0</td>\n      <td>0.0</td>\n      <td>0.0</td>\n      <td>0.0</td>\n      <td>0.0</td>\n      <td>0.0</td>\n      <td>0.0</td>\n      <td>0.0</td>\n      <td>0.0</td>\n      <td>0.0</td>\n      <td>0.0</td>\n      <td>0.0</td>\n      <td>0.0</td>\n      <td>0.0</td>\n      <td>0.0</td>\n      <td>0.0</td>\n      <td>0.0</td>\n      <td>0.0</td>\n      <td>0.0</td>\n      <td>0.0</td>\n    </tr>\n    <tr>\n      <th>1</th>\n      <td>@kohwang56_81</td>\n      <td>0.000000</td>\n      <td>0.0</td>\n      <td>0.0</td>\n      <td>0.0</td>\n      <td>0.0</td>\n      <td>0.0</td>\n      <td>0.0</td>\n      <td>0.0</td>\n      <td>0.0</td>\n      <td>0.0</td>\n      <td>0.0</td>\n      <td>0.0</td>\n      <td>0.0</td>\n      <td>0.0</td>\n      <td>0.0</td>\n      <td>0.0</td>\n      <td>0.0</td>\n      <td>0.0</td>\n      <td>0.000000</td>\n      <td>0.0</td>\n      <td>0.0</td>\n      <td>0.0</td>\n      <td>0.0</td>\n      <td>0.0</td>\n      <td>0.0</td>\n      <td>0.000000</td>\n      <td>0.0</td>\n      <td>0.0</td>\n      <td>0.0</td>\n      <td>0.0</td>\n      <td>0.0</td>\n      <td>0.0</td>\n      <td>0.0</td>\n      <td>0.0</td>\n      <td>0.0</td>\n      <td>0.0</td>\n      <td>0.0</td>\n      <td>0.0</td>\n      <td>0.0</td>\n      <td>...</td>\n      <td>0.0</td>\n      <td>0.0</td>\n      <td>0.0</td>\n      <td>0.0</td>\n      <td>0.0</td>\n      <td>0.0</td>\n      <td>0.0</td>\n      <td>0.0</td>\n      <td>0.0</td>\n      <td>0.0</td>\n      <td>0.0</td>\n      <td>0.0</td>\n      <td>0.0</td>\n      <td>0.0</td>\n      <td>0.0</td>\n      <td>0.0</td>\n      <td>0.0</td>\n      <td>0.0</td>\n      <td>0.0</td>\n      <td>0.0</td>\n      <td>0.0</td>\n      <td>0.0</td>\n      <td>0.0</td>\n      <td>0.0</td>\n      <td>0.0</td>\n      <td>0.0</td>\n      <td>0.0</td>\n      <td>0.0</td>\n      <td>0.0</td>\n      <td>0.0</td>\n      <td>0.0</td>\n      <td>0.0</td>\n      <td>0.0</td>\n      <td>0.0</td>\n      <td>0.0</td>\n      <td>0.0</td>\n      <td>0.0</td>\n      <td>0.0</td>\n      <td>0.0</td>\n      <td>0.0</td>\n    </tr>\n    <tr>\n      <th>2</th>\n      <td>@hannahajink_4</td>\n      <td>0.000000</td>\n      <td>0.0</td>\n      <td>0.0</td>\n      <td>0.0</td>\n      <td>0.0</td>\n      <td>0.0</td>\n      <td>0.0</td>\n      <td>0.0</td>\n      <td>0.0</td>\n      <td>0.0</td>\n      <td>0.0</td>\n      <td>0.0</td>\n      <td>0.0</td>\n      <td>0.0</td>\n      <td>0.0</td>\n      <td>0.0</td>\n      <td>0.0</td>\n      <td>0.0</td>\n      <td>0.000000</td>\n      <td>0.0</td>\n      <td>0.0</td>\n      <td>0.0</td>\n      <td>0.0</td>\n      <td>0.0</td>\n      <td>0.0</td>\n      <td>0.000000</td>\n      <td>0.0</td>\n      <td>0.0</td>\n      <td>0.0</td>\n      <td>0.0</td>\n      <td>0.0</td>\n      <td>0.0</td>\n      <td>0.0</td>\n      <td>0.0</td>\n      <td>0.0</td>\n      <td>0.0</td>\n      <td>0.0</td>\n      <td>0.0</td>\n      <td>0.0</td>\n      <td>...</td>\n      <td>0.0</td>\n      <td>0.0</td>\n      <td>0.0</td>\n      <td>0.0</td>\n      <td>0.0</td>\n      <td>0.0</td>\n      <td>0.0</td>\n      <td>0.0</td>\n      <td>0.0</td>\n      <td>0.0</td>\n      <td>0.0</td>\n      <td>0.0</td>\n      <td>0.0</td>\n      <td>0.0</td>\n      <td>0.0</td>\n      <td>0.0</td>\n      <td>0.0</td>\n      <td>0.0</td>\n      <td>0.0</td>\n      <td>0.0</td>\n      <td>0.0</td>\n      <td>0.0</td>\n      <td>0.0</td>\n      <td>0.0</td>\n      <td>0.0</td>\n      <td>0.0</td>\n      <td>0.0</td>\n      <td>0.0</td>\n      <td>0.0</td>\n      <td>0.0</td>\n      <td>0.0</td>\n      <td>0.0</td>\n      <td>0.0</td>\n      <td>0.0</td>\n      <td>0.0</td>\n      <td>0.0</td>\n      <td>0.0</td>\n      <td>0.0</td>\n      <td>0.0</td>\n      <td>0.0</td>\n    </tr>\n    <tr>\n      <th>3</th>\n      <td>@bryceandjuli_88</td>\n      <td>0.000000</td>\n      <td>0.0</td>\n      <td>0.0</td>\n      <td>0.0</td>\n      <td>0.0</td>\n      <td>0.0</td>\n      <td>0.0</td>\n      <td>0.0</td>\n      <td>0.0</td>\n      <td>0.0</td>\n      <td>0.0</td>\n      <td>0.0</td>\n      <td>0.0</td>\n      <td>0.0</td>\n      <td>0.0</td>\n      <td>0.0</td>\n      <td>0.0</td>\n      <td>0.0</td>\n      <td>4.017384</td>\n      <td>0.0</td>\n      <td>0.0</td>\n      <td>0.0</td>\n      <td>0.0</td>\n      <td>0.0</td>\n      <td>0.0</td>\n      <td>0.000000</td>\n      <td>0.0</td>\n      <td>0.0</td>\n      <td>0.0</td>\n      <td>0.0</td>\n      <td>0.0</td>\n      <td>0.0</td>\n      <td>0.0</td>\n      <td>0.0</td>\n      <td>0.0</td>\n      <td>0.0</td>\n      <td>0.0</td>\n      <td>0.0</td>\n      <td>0.0</td>\n      <td>...</td>\n      <td>0.0</td>\n      <td>0.0</td>\n      <td>0.0</td>\n      <td>0.0</td>\n      <td>0.0</td>\n      <td>0.0</td>\n      <td>0.0</td>\n      <td>0.0</td>\n      <td>0.0</td>\n      <td>0.0</td>\n      <td>0.0</td>\n      <td>0.0</td>\n      <td>0.0</td>\n      <td>0.0</td>\n      <td>0.0</td>\n      <td>0.0</td>\n      <td>0.0</td>\n      <td>0.0</td>\n      <td>0.0</td>\n      <td>0.0</td>\n      <td>0.0</td>\n      <td>0.0</td>\n      <td>0.0</td>\n      <td>0.0</td>\n      <td>0.0</td>\n      <td>0.0</td>\n      <td>0.0</td>\n      <td>0.0</td>\n      <td>0.0</td>\n      <td>0.0</td>\n      <td>0.0</td>\n      <td>0.0</td>\n      <td>0.0</td>\n      <td>0.0</td>\n      <td>0.0</td>\n      <td>0.0</td>\n      <td>0.0</td>\n      <td>0.0</td>\n      <td>0.0</td>\n      <td>0.0</td>\n    </tr>\n    <tr>\n      <th>4</th>\n      <td>@mijeongpark_34</td>\n      <td>0.000000</td>\n      <td>0.0</td>\n      <td>0.0</td>\n      <td>0.0</td>\n      <td>0.0</td>\n      <td>0.0</td>\n      <td>0.0</td>\n      <td>0.0</td>\n      <td>0.0</td>\n      <td>0.0</td>\n      <td>0.0</td>\n      <td>0.0</td>\n      <td>0.0</td>\n      <td>0.0</td>\n      <td>0.0</td>\n      <td>0.0</td>\n      <td>0.0</td>\n      <td>0.0</td>\n      <td>0.000000</td>\n      <td>0.0</td>\n      <td>0.0</td>\n      <td>0.0</td>\n      <td>0.0</td>\n      <td>0.0</td>\n      <td>0.0</td>\n      <td>4.342806</td>\n      <td>0.0</td>\n      <td>0.0</td>\n      <td>0.0</td>\n      <td>0.0</td>\n      <td>0.0</td>\n      <td>0.0</td>\n      <td>0.0</td>\n      <td>0.0</td>\n      <td>0.0</td>\n      <td>0.0</td>\n      <td>0.0</td>\n      <td>0.0</td>\n      <td>0.0</td>\n      <td>...</td>\n      <td>0.0</td>\n      <td>0.0</td>\n      <td>0.0</td>\n      <td>0.0</td>\n      <td>0.0</td>\n      <td>0.0</td>\n      <td>0.0</td>\n      <td>0.0</td>\n      <td>0.0</td>\n      <td>0.0</td>\n      <td>0.0</td>\n      <td>0.0</td>\n      <td>0.0</td>\n      <td>0.0</td>\n      <td>0.0</td>\n      <td>0.0</td>\n      <td>0.0</td>\n      <td>0.0</td>\n      <td>0.0</td>\n      <td>0.0</td>\n      <td>0.0</td>\n      <td>0.0</td>\n      <td>0.0</td>\n      <td>0.0</td>\n      <td>0.0</td>\n      <td>0.0</td>\n      <td>0.0</td>\n      <td>0.0</td>\n      <td>0.0</td>\n      <td>0.0</td>\n      <td>0.0</td>\n      <td>0.0</td>\n      <td>0.0</td>\n      <td>0.0</td>\n      <td>0.0</td>\n      <td>0.0</td>\n      <td>0.0</td>\n      <td>0.0</td>\n      <td>0.0</td>\n      <td>0.0</td>\n    </tr>\n    <tr>\n      <th>...</th>\n      <td>...</td>\n      <td>...</td>\n      <td>...</td>\n      <td>...</td>\n      <td>...</td>\n      <td>...</td>\n      <td>...</td>\n      <td>...</td>\n      <td>...</td>\n      <td>...</td>\n      <td>...</td>\n      <td>...</td>\n      <td>...</td>\n      <td>...</td>\n      <td>...</td>\n      <td>...</td>\n      <td>...</td>\n      <td>...</td>\n      <td>...</td>\n      <td>...</td>\n      <td>...</td>\n      <td>...</td>\n      <td>...</td>\n      <td>...</td>\n      <td>...</td>\n      <td>...</td>\n      <td>...</td>\n      <td>...</td>\n      <td>...</td>\n      <td>...</td>\n      <td>...</td>\n      <td>...</td>\n      <td>...</td>\n      <td>...</td>\n      <td>...</td>\n      <td>...</td>\n      <td>...</td>\n      <td>...</td>\n      <td>...</td>\n      <td>...</td>\n      <td>...</td>\n      <td>...</td>\n      <td>...</td>\n      <td>...</td>\n      <td>...</td>\n      <td>...</td>\n      <td>...</td>\n      <td>...</td>\n      <td>...</td>\n      <td>...</td>\n      <td>...</td>\n      <td>...</td>\n      <td>...</td>\n      <td>...</td>\n      <td>...</td>\n      <td>...</td>\n      <td>...</td>\n      <td>...</td>\n      <td>...</td>\n      <td>...</td>\n      <td>...</td>\n      <td>...</td>\n      <td>...</td>\n      <td>...</td>\n      <td>...</td>\n      <td>...</td>\n      <td>...</td>\n      <td>...</td>\n      <td>...</td>\n      <td>...</td>\n      <td>...</td>\n      <td>...</td>\n      <td>...</td>\n      <td>...</td>\n      <td>...</td>\n      <td>...</td>\n      <td>...</td>\n      <td>...</td>\n      <td>...</td>\n      <td>...</td>\n      <td>...</td>\n    </tr>\n    <tr>\n      <th>995</th>\n      <td>@leemansup_89</td>\n      <td>2.847312</td>\n      <td>0.0</td>\n      <td>0.0</td>\n      <td>0.0</td>\n      <td>0.0</td>\n      <td>0.0</td>\n      <td>0.0</td>\n      <td>0.0</td>\n      <td>0.0</td>\n      <td>0.0</td>\n      <td>0.0</td>\n      <td>0.0</td>\n      <td>0.0</td>\n      <td>0.0</td>\n      <td>0.0</td>\n      <td>0.0</td>\n      <td>0.0</td>\n      <td>0.0</td>\n      <td>0.000000</td>\n      <td>0.0</td>\n      <td>0.0</td>\n      <td>0.0</td>\n      <td>0.0</td>\n      <td>0.0</td>\n      <td>0.0</td>\n      <td>0.000000</td>\n      <td>0.0</td>\n      <td>0.0</td>\n      <td>0.0</td>\n      <td>0.0</td>\n      <td>0.0</td>\n      <td>0.0</td>\n      <td>0.0</td>\n      <td>0.0</td>\n      <td>0.0</td>\n      <td>0.0</td>\n      <td>0.0</td>\n      <td>0.0</td>\n      <td>0.0</td>\n      <td>...</td>\n      <td>0.0</td>\n      <td>0.0</td>\n      <td>0.0</td>\n      <td>0.0</td>\n      <td>0.0</td>\n      <td>0.0</td>\n      <td>0.0</td>\n      <td>0.0</td>\n      <td>0.0</td>\n      <td>0.0</td>\n      <td>0.0</td>\n      <td>0.0</td>\n      <td>0.0</td>\n      <td>0.0</td>\n      <td>0.0</td>\n      <td>0.0</td>\n      <td>0.0</td>\n      <td>0.0</td>\n      <td>0.0</td>\n      <td>0.0</td>\n      <td>0.0</td>\n      <td>0.0</td>\n      <td>0.0</td>\n      <td>0.0</td>\n      <td>0.0</td>\n      <td>0.0</td>\n      <td>0.0</td>\n      <td>0.0</td>\n      <td>0.0</td>\n      <td>0.0</td>\n      <td>0.0</td>\n      <td>0.0</td>\n      <td>0.0</td>\n      <td>0.0</td>\n      <td>0.0</td>\n      <td>0.0</td>\n      <td>0.0</td>\n      <td>0.0</td>\n      <td>0.0</td>\n      <td>0.0</td>\n    </tr>\n    <tr>\n      <th>996</th>\n      <td>@kshee_95</td>\n      <td>0.000000</td>\n      <td>0.0</td>\n      <td>0.0</td>\n      <td>0.0</td>\n      <td>0.0</td>\n      <td>0.0</td>\n      <td>0.0</td>\n      <td>0.0</td>\n      <td>0.0</td>\n      <td>0.0</td>\n      <td>0.0</td>\n      <td>0.0</td>\n      <td>0.0</td>\n      <td>0.0</td>\n      <td>0.0</td>\n      <td>0.0</td>\n      <td>0.0</td>\n      <td>0.0</td>\n      <td>0.000000</td>\n      <td>0.0</td>\n      <td>0.0</td>\n      <td>0.0</td>\n      <td>0.0</td>\n      <td>0.0</td>\n      <td>0.0</td>\n      <td>0.000000</td>\n      <td>0.0</td>\n      <td>0.0</td>\n      <td>0.0</td>\n      <td>0.0</td>\n      <td>0.0</td>\n      <td>0.0</td>\n      <td>0.0</td>\n      <td>0.0</td>\n      <td>0.0</td>\n      <td>0.0</td>\n      <td>0.0</td>\n      <td>0.0</td>\n      <td>0.0</td>\n      <td>...</td>\n      <td>0.0</td>\n      <td>0.0</td>\n      <td>0.0</td>\n      <td>0.0</td>\n      <td>0.0</td>\n      <td>0.0</td>\n      <td>0.0</td>\n      <td>0.0</td>\n      <td>0.0</td>\n      <td>0.0</td>\n      <td>0.0</td>\n      <td>0.0</td>\n      <td>0.0</td>\n      <td>0.0</td>\n      <td>0.0</td>\n      <td>0.0</td>\n      <td>0.0</td>\n      <td>0.0</td>\n      <td>0.0</td>\n      <td>0.0</td>\n      <td>0.0</td>\n      <td>0.0</td>\n      <td>0.0</td>\n      <td>0.0</td>\n      <td>0.0</td>\n      <td>0.0</td>\n      <td>0.0</td>\n      <td>0.0</td>\n      <td>0.0</td>\n      <td>0.0</td>\n      <td>0.0</td>\n      <td>0.0</td>\n      <td>0.0</td>\n      <td>0.0</td>\n      <td>0.0</td>\n      <td>0.0</td>\n      <td>0.0</td>\n      <td>0.0</td>\n      <td>0.0</td>\n      <td>0.0</td>\n    </tr>\n    <tr>\n      <th>997</th>\n      <td>@kangbcc_20</td>\n      <td>0.000000</td>\n      <td>0.0</td>\n      <td>0.0</td>\n      <td>0.0</td>\n      <td>0.0</td>\n      <td>0.0</td>\n      <td>0.0</td>\n      <td>0.0</td>\n      <td>0.0</td>\n      <td>0.0</td>\n      <td>0.0</td>\n      <td>0.0</td>\n      <td>0.0</td>\n      <td>0.0</td>\n      <td>0.0</td>\n      <td>0.0</td>\n      <td>0.0</td>\n      <td>0.0</td>\n      <td>0.000000</td>\n      <td>0.0</td>\n      <td>0.0</td>\n      <td>0.0</td>\n      <td>0.0</td>\n      <td>0.0</td>\n      <td>0.0</td>\n      <td>0.000000</td>\n      <td>0.0</td>\n      <td>0.0</td>\n      <td>0.0</td>\n      <td>0.0</td>\n      <td>0.0</td>\n      <td>0.0</td>\n      <td>0.0</td>\n      <td>0.0</td>\n      <td>0.0</td>\n      <td>0.0</td>\n      <td>0.0</td>\n      <td>0.0</td>\n      <td>0.0</td>\n      <td>...</td>\n      <td>0.0</td>\n      <td>0.0</td>\n      <td>0.0</td>\n      <td>0.0</td>\n      <td>0.0</td>\n      <td>0.0</td>\n      <td>0.0</td>\n      <td>0.0</td>\n      <td>0.0</td>\n      <td>0.0</td>\n      <td>0.0</td>\n      <td>0.0</td>\n      <td>0.0</td>\n      <td>0.0</td>\n      <td>0.0</td>\n      <td>0.0</td>\n      <td>0.0</td>\n      <td>0.0</td>\n      <td>0.0</td>\n      <td>0.0</td>\n      <td>0.0</td>\n      <td>0.0</td>\n      <td>0.0</td>\n      <td>0.0</td>\n      <td>0.0</td>\n      <td>0.0</td>\n      <td>0.0</td>\n      <td>0.0</td>\n      <td>0.0</td>\n      <td>0.0</td>\n      <td>0.0</td>\n      <td>0.0</td>\n      <td>0.0</td>\n      <td>0.0</td>\n      <td>0.0</td>\n      <td>0.0</td>\n      <td>0.0</td>\n      <td>0.0</td>\n      <td>0.0</td>\n      <td>0.0</td>\n    </tr>\n    <tr>\n      <th>998</th>\n      <td>@tenbody_1205</td>\n      <td>0.000000</td>\n      <td>0.0</td>\n      <td>0.0</td>\n      <td>0.0</td>\n      <td>0.0</td>\n      <td>0.0</td>\n      <td>0.0</td>\n      <td>0.0</td>\n      <td>0.0</td>\n      <td>0.0</td>\n      <td>0.0</td>\n      <td>0.0</td>\n      <td>0.0</td>\n      <td>0.0</td>\n      <td>0.0</td>\n      <td>0.0</td>\n      <td>0.0</td>\n      <td>0.0</td>\n      <td>0.000000</td>\n      <td>0.0</td>\n      <td>0.0</td>\n      <td>0.0</td>\n      <td>0.0</td>\n      <td>0.0</td>\n      <td>0.0</td>\n      <td>0.000000</td>\n      <td>0.0</td>\n      <td>0.0</td>\n      <td>0.0</td>\n      <td>0.0</td>\n      <td>0.0</td>\n      <td>0.0</td>\n      <td>0.0</td>\n      <td>0.0</td>\n      <td>0.0</td>\n      <td>0.0</td>\n      <td>0.0</td>\n      <td>0.0</td>\n      <td>0.0</td>\n      <td>...</td>\n      <td>0.0</td>\n      <td>0.0</td>\n      <td>0.0</td>\n      <td>0.0</td>\n      <td>0.0</td>\n      <td>0.0</td>\n      <td>0.0</td>\n      <td>0.0</td>\n      <td>0.0</td>\n      <td>0.0</td>\n      <td>0.0</td>\n      <td>0.0</td>\n      <td>0.0</td>\n      <td>0.0</td>\n      <td>0.0</td>\n      <td>0.0</td>\n      <td>0.0</td>\n      <td>0.0</td>\n      <td>0.0</td>\n      <td>0.0</td>\n      <td>0.0</td>\n      <td>0.0</td>\n      <td>0.0</td>\n      <td>0.0</td>\n      <td>0.0</td>\n      <td>0.0</td>\n      <td>0.0</td>\n      <td>0.0</td>\n      <td>0.0</td>\n      <td>0.0</td>\n      <td>0.0</td>\n      <td>0.0</td>\n      <td>0.0</td>\n      <td>0.0</td>\n      <td>0.0</td>\n      <td>0.0</td>\n      <td>0.0</td>\n      <td>0.0</td>\n      <td>0.0</td>\n      <td>0.0</td>\n    </tr>\n    <tr>\n      <th>999</th>\n      <td>@oncesimonsaid_57</td>\n      <td>0.000000</td>\n      <td>0.0</td>\n      <td>0.0</td>\n      <td>0.0</td>\n      <td>0.0</td>\n      <td>0.0</td>\n      <td>0.0</td>\n      <td>0.0</td>\n      <td>0.0</td>\n      <td>0.0</td>\n      <td>0.0</td>\n      <td>0.0</td>\n      <td>0.0</td>\n      <td>0.0</td>\n      <td>0.0</td>\n      <td>0.0</td>\n      <td>0.0</td>\n      <td>0.0</td>\n      <td>0.000000</td>\n      <td>0.0</td>\n      <td>0.0</td>\n      <td>0.0</td>\n      <td>0.0</td>\n      <td>0.0</td>\n      <td>0.0</td>\n      <td>0.000000</td>\n      <td>0.0</td>\n      <td>0.0</td>\n      <td>0.0</td>\n      <td>0.0</td>\n      <td>0.0</td>\n      <td>0.0</td>\n      <td>0.0</td>\n      <td>0.0</td>\n      <td>0.0</td>\n      <td>0.0</td>\n      <td>0.0</td>\n      <td>0.0</td>\n      <td>0.0</td>\n      <td>...</td>\n      <td>0.0</td>\n      <td>0.0</td>\n      <td>0.0</td>\n      <td>0.0</td>\n      <td>0.0</td>\n      <td>0.0</td>\n      <td>0.0</td>\n      <td>0.0</td>\n      <td>0.0</td>\n      <td>0.0</td>\n      <td>0.0</td>\n      <td>0.0</td>\n      <td>0.0</td>\n      <td>0.0</td>\n      <td>0.0</td>\n      <td>0.0</td>\n      <td>0.0</td>\n      <td>0.0</td>\n      <td>0.0</td>\n      <td>0.0</td>\n      <td>0.0</td>\n      <td>0.0</td>\n      <td>0.0</td>\n      <td>0.0</td>\n      <td>0.0</td>\n      <td>0.0</td>\n      <td>0.0</td>\n      <td>0.0</td>\n      <td>0.0</td>\n      <td>0.0</td>\n      <td>0.0</td>\n      <td>0.0</td>\n      <td>0.0</td>\n      <td>0.0</td>\n      <td>0.0</td>\n      <td>0.0</td>\n      <td>0.0</td>\n      <td>0.0</td>\n      <td>0.0</td>\n      <td>0.0</td>\n    </tr>\n  </tbody>\n</table>\n<p>1000 rows × 7001 columns</p>\n</div>"
     },
     "metadata": {},
     "execution_count": 15
    }
   ],
   "source": [
    "tfidf.reset_index().rename({'index': 'post_id'}, axis=1)"
   ]
  },
  {
   "cell_type": "code",
   "execution_count": null,
   "metadata": {},
   "outputs": [],
   "source": [
    "from tqdm.notebook import tqdm\n",
    "\n",
    "def foo():\n",
    "    tqdm.pandas()\n",
    "    idf.progress_apply(lambda x: sum(map(lambda y: x.name in y, kwd_list_total)) if x.name in kwd_list_filtered else 0)\n",
    "\n",
    "%timeit -r1 foo()"
   ]
  },
  {
   "cell_type": "code",
   "execution_count": 67,
   "metadata": {
    "tags": []
   },
   "outputs": [
    {
     "output_type": "display_data",
     "data": {
      "text/plain": "여행      541\n영화      422\n사랑      423\n에세이     245\n그림일기    232\n       ... \n본인        0\n체험학습      0\n선물투자      1\n시금치       0\n벌금        1\nLength: 7000, dtype: int64"
     },
     "metadata": {}
    },
    {
     "output_type": "stream",
     "name": "stdout",
     "text": [
      "3.1554285714285712\n"
     ]
    },
    {
     "output_type": "display_data",
     "data": {
      "text/plain": "여행      541\n영화      422\n사랑      423\n에세이     245\n그림일기    232\n       ... \n본인        0\n체험학습      0\n선물투자      1\n시금치       0\n벌금        1\nLength: 7000, dtype: int64"
     },
     "metadata": {}
    },
    {
     "output_type": "stream",
     "name": "stdout",
     "text": [
      "3.1554285714285712\n"
     ]
    },
    {
     "output_type": "display_data",
     "data": {
      "text/plain": "여행      541\n영화      422\n사랑      423\n에세이     245\n그림일기    232\n       ... \n본인        0\n체험학습      0\n선물투자      1\n시금치       0\n벌금        1\nLength: 7000, dtype: int64"
     },
     "metadata": {}
    },
    {
     "output_type": "stream",
     "name": "stdout",
     "text": [
      "3.1554285714285712\n"
     ]
    },
    {
     "output_type": "display_data",
     "data": {
      "text/plain": "여행      541\n영화      422\n사랑      423\n에세이     245\n그림일기    232\n       ... \n본인        0\n체험학습      0\n선물투자      1\n시금치       0\n벌금        1\nLength: 7000, dtype: int64"
     },
     "metadata": {}
    },
    {
     "output_type": "stream",
     "name": "stdout",
     "text": [
      "3.1554285714285712\n"
     ]
    },
    {
     "output_type": "display_data",
     "data": {
      "text/plain": "여행      541\n영화      422\n사랑      423\n에세이     245\n그림일기    232\n       ... \n본인        0\n체험학습      0\n선물투자      1\n시금치       0\n벌금        1\nLength: 7000, dtype: int64"
     },
     "metadata": {}
    },
    {
     "output_type": "stream",
     "name": "stdout",
     "text": [
      "3.1554285714285712\n"
     ]
    },
    {
     "output_type": "display_data",
     "data": {
      "text/plain": "여행      541\n영화      422\n사랑      423\n에세이     245\n그림일기    232\n       ... \n본인        0\n체험학습      0\n선물투자      1\n시금치       0\n벌금        1\nLength: 7000, dtype: int64"
     },
     "metadata": {}
    },
    {
     "output_type": "stream",
     "name": "stdout",
     "text": [
      "3.1554285714285712\n1 loop, best of 5: 38.2 s per loop\n"
     ]
    }
   ],
   "source": [
    "def foo():\n",
    "    idf = pd.DataFrame(np.zeros((1, len(vocab))), columns=vocab)\n",
    "    # counterized = metadata['keyword_list'].apply(lambda x: Counter(x))\n",
    "    idf = idf.apply(lambda x: np.log(metadata.shape[0] / metadata['keyword_list'].apply(lambda y: x.name in y).sum()))\n",
    "    display(idf)\n",
    "    print(idf.mean())\n",
    "\n",
    "%timeit -r1 foo()"
   ]
  },
  {
   "cell_type": "code",
   "execution_count": 68,
   "metadata": {
    "tags": []
   },
   "outputs": [
    {
     "output_type": "display_data",
     "data": {
      "text/plain": "         여행        영화        사랑       에세이  ...  체험학습     선물투자  시금치       벌금\n0  2.916921  3.165335  3.162968  3.709082  ...   0.0  9.21034  0.0  9.21034\n\n[1 rows x 7000 columns]",
      "text/html": "<div>\n<style scoped>\n    .dataframe tbody tr th:only-of-type {\n        vertical-align: middle;\n    }\n\n    .dataframe tbody tr th {\n        vertical-align: top;\n    }\n\n    .dataframe thead th {\n        text-align: right;\n    }\n</style>\n<table border=\"1\" class=\"dataframe\">\n  <thead>\n    <tr style=\"text-align: right;\">\n      <th></th>\n      <th>여행</th>\n      <th>영화</th>\n      <th>사랑</th>\n      <th>에세이</th>\n      <th>그림일기</th>\n      <th>생각</th>\n      <th>공감에세이</th>\n      <th>일상</th>\n      <th>글쓰기</th>\n      <th>감성에세이</th>\n      <th>인생</th>\n      <th>행복</th>\n      <th>연애</th>\n      <th>소설</th>\n      <th>드로잉</th>\n      <th>독서</th>\n      <th>육아</th>\n      <th>그림</th>\n      <th>마음</th>\n      <th>사진</th>\n      <th>리뷰</th>\n      <th>엄마</th>\n      <th>음악</th>\n      <th>스타트업</th>\n      <th>시</th>\n      <th>유럽여행</th>\n      <th>일러스트</th>\n      <th>이별</th>\n      <th>마케팅</th>\n      <th>고양이</th>\n      <th>디자인</th>\n      <th>영화리뷰</th>\n      <th>웹툰</th>\n      <th>IT</th>\n      <th>직장인</th>\n      <th>감성</th>\n      <th>일기</th>\n      <th>사람</th>\n      <th>결혼</th>\n      <th>친구</th>\n      <th>...</th>\n      <th>식도락</th>\n      <th>서민</th>\n      <th>F1</th>\n      <th>라디오헤드</th>\n      <th>연민</th>\n      <th>운동방법</th>\n      <th>여교사</th>\n      <th>하체</th>\n      <th>한약</th>\n      <th>족저근막염</th>\n      <th>좋은음악</th>\n      <th>총기</th>\n      <th>폭탄</th>\n      <th>도파민</th>\n      <th>산행후기</th>\n      <th>간병인</th>\n      <th>시화</th>\n      <th>고요함</th>\n      <th>멤버십</th>\n      <th>푸조</th>\n      <th>유럽연합</th>\n      <th>매체</th>\n      <th>눈높이</th>\n      <th>댄서</th>\n      <th>대상포진</th>\n      <th>블랙박스</th>\n      <th>불가능</th>\n      <th>연수</th>\n      <th>외침</th>\n      <th>신트라</th>\n      <th>삿포로여행</th>\n      <th>김수현</th>\n      <th>고부갈등</th>\n      <th>배달음식</th>\n      <th>의류</th>\n      <th>본인</th>\n      <th>체험학습</th>\n      <th>선물투자</th>\n      <th>시금치</th>\n      <th>벌금</th>\n    </tr>\n  </thead>\n  <tbody>\n    <tr>\n      <th>0</th>\n      <td>2.916921</td>\n      <td>3.165335</td>\n      <td>3.162968</td>\n      <td>3.709082</td>\n      <td>3.763603</td>\n      <td>3.669077</td>\n      <td>3.94765</td>\n      <td>4.098353</td>\n      <td>4.247496</td>\n      <td>3.927137</td>\n      <td>4.226734</td>\n      <td>4.268698</td>\n      <td>4.374058</td>\n      <td>4.26158</td>\n      <td>4.990833</td>\n      <td>4.755993</td>\n      <td>4.625373</td>\n      <td>4.853632</td>\n      <td>4.398156</td>\n      <td>4.635629</td>\n      <td>4.635629</td>\n      <td>4.699481</td>\n      <td>4.50081</td>\n      <td>4.767689</td>\n      <td>4.55638</td>\n      <td>4.721704</td>\n      <td>4.59522</td>\n      <td>4.677741</td>\n      <td>4.767689</td>\n      <td>4.656463</td>\n      <td>5.099467</td>\n      <td>5.221356</td>\n      <td>5.403678</td>\n      <td>4.866535</td>\n      <td>4.906275</td>\n      <td>5.051457</td>\n      <td>5.132803</td>\n      <td>4.906275</td>\n      <td>5.203007</td>\n      <td>5.184989</td>\n      <td>...</td>\n      <td>0.0</td>\n      <td>0.0</td>\n      <td>0.0</td>\n      <td>9.21034</td>\n      <td>0.0</td>\n      <td>0.0</td>\n      <td>0.0</td>\n      <td>0.0</td>\n      <td>0.0</td>\n      <td>0.0</td>\n      <td>0.0</td>\n      <td>0.0</td>\n      <td>0.0</td>\n      <td>0.0</td>\n      <td>0.0</td>\n      <td>0.0</td>\n      <td>0.0</td>\n      <td>0.0</td>\n      <td>0.0</td>\n      <td>0.0</td>\n      <td>0.0</td>\n      <td>0.0</td>\n      <td>0.0</td>\n      <td>0.0</td>\n      <td>0.0</td>\n      <td>0.0</td>\n      <td>0.0</td>\n      <td>0.0</td>\n      <td>0.0</td>\n      <td>0.0</td>\n      <td>0.0</td>\n      <td>0.0</td>\n      <td>0.0</td>\n      <td>0.0</td>\n      <td>0.0</td>\n      <td>0.0</td>\n      <td>0.0</td>\n      <td>9.21034</td>\n      <td>0.0</td>\n      <td>9.21034</td>\n    </tr>\n  </tbody>\n</table>\n<p>1 rows × 7000 columns</p>\n</div>"
     },
     "metadata": {}
    },
    {
     "output_type": "stream",
     "name": "stdout",
     "text": [
      "0    4.920981\ndtype: float64\n"
     ]
    },
    {
     "output_type": "display_data",
     "data": {
      "text/plain": "         여행        영화        사랑       에세이  ...  체험학습     선물투자  시금치       벌금\n0  2.916921  3.165335  3.162968  3.709082  ...   0.0  9.21034  0.0  9.21034\n\n[1 rows x 7000 columns]",
      "text/html": "<div>\n<style scoped>\n    .dataframe tbody tr th:only-of-type {\n        vertical-align: middle;\n    }\n\n    .dataframe tbody tr th {\n        vertical-align: top;\n    }\n\n    .dataframe thead th {\n        text-align: right;\n    }\n</style>\n<table border=\"1\" class=\"dataframe\">\n  <thead>\n    <tr style=\"text-align: right;\">\n      <th></th>\n      <th>여행</th>\n      <th>영화</th>\n      <th>사랑</th>\n      <th>에세이</th>\n      <th>그림일기</th>\n      <th>생각</th>\n      <th>공감에세이</th>\n      <th>일상</th>\n      <th>글쓰기</th>\n      <th>감성에세이</th>\n      <th>인생</th>\n      <th>행복</th>\n      <th>연애</th>\n      <th>소설</th>\n      <th>드로잉</th>\n      <th>독서</th>\n      <th>육아</th>\n      <th>그림</th>\n      <th>마음</th>\n      <th>사진</th>\n      <th>리뷰</th>\n      <th>엄마</th>\n      <th>음악</th>\n      <th>스타트업</th>\n      <th>시</th>\n      <th>유럽여행</th>\n      <th>일러스트</th>\n      <th>이별</th>\n      <th>마케팅</th>\n      <th>고양이</th>\n      <th>디자인</th>\n      <th>영화리뷰</th>\n      <th>웹툰</th>\n      <th>IT</th>\n      <th>직장인</th>\n      <th>감성</th>\n      <th>일기</th>\n      <th>사람</th>\n      <th>결혼</th>\n      <th>친구</th>\n      <th>...</th>\n      <th>식도락</th>\n      <th>서민</th>\n      <th>F1</th>\n      <th>라디오헤드</th>\n      <th>연민</th>\n      <th>운동방법</th>\n      <th>여교사</th>\n      <th>하체</th>\n      <th>한약</th>\n      <th>족저근막염</th>\n      <th>좋은음악</th>\n      <th>총기</th>\n      <th>폭탄</th>\n      <th>도파민</th>\n      <th>산행후기</th>\n      <th>간병인</th>\n      <th>시화</th>\n      <th>고요함</th>\n      <th>멤버십</th>\n      <th>푸조</th>\n      <th>유럽연합</th>\n      <th>매체</th>\n      <th>눈높이</th>\n      <th>댄서</th>\n      <th>대상포진</th>\n      <th>블랙박스</th>\n      <th>불가능</th>\n      <th>연수</th>\n      <th>외침</th>\n      <th>신트라</th>\n      <th>삿포로여행</th>\n      <th>김수현</th>\n      <th>고부갈등</th>\n      <th>배달음식</th>\n      <th>의류</th>\n      <th>본인</th>\n      <th>체험학습</th>\n      <th>선물투자</th>\n      <th>시금치</th>\n      <th>벌금</th>\n    </tr>\n  </thead>\n  <tbody>\n    <tr>\n      <th>0</th>\n      <td>2.916921</td>\n      <td>3.165335</td>\n      <td>3.162968</td>\n      <td>3.709082</td>\n      <td>3.763603</td>\n      <td>3.669077</td>\n      <td>3.94765</td>\n      <td>4.098353</td>\n      <td>4.247496</td>\n      <td>3.927137</td>\n      <td>4.226734</td>\n      <td>4.268698</td>\n      <td>4.374058</td>\n      <td>4.26158</td>\n      <td>4.990833</td>\n      <td>4.755993</td>\n      <td>4.625373</td>\n      <td>4.853632</td>\n      <td>4.398156</td>\n      <td>4.635629</td>\n      <td>4.635629</td>\n      <td>4.699481</td>\n      <td>4.50081</td>\n      <td>4.767689</td>\n      <td>4.55638</td>\n      <td>4.721704</td>\n      <td>4.59522</td>\n      <td>4.677741</td>\n      <td>4.767689</td>\n      <td>4.656463</td>\n      <td>5.099467</td>\n      <td>5.221356</td>\n      <td>5.403678</td>\n      <td>4.866535</td>\n      <td>4.906275</td>\n      <td>5.051457</td>\n      <td>5.132803</td>\n      <td>4.906275</td>\n      <td>5.203007</td>\n      <td>5.184989</td>\n      <td>...</td>\n      <td>0.0</td>\n      <td>0.0</td>\n      <td>0.0</td>\n      <td>9.21034</td>\n      <td>0.0</td>\n      <td>0.0</td>\n      <td>0.0</td>\n      <td>0.0</td>\n      <td>0.0</td>\n      <td>0.0</td>\n      <td>0.0</td>\n      <td>0.0</td>\n      <td>0.0</td>\n      <td>0.0</td>\n      <td>0.0</td>\n      <td>0.0</td>\n      <td>0.0</td>\n      <td>0.0</td>\n      <td>0.0</td>\n      <td>0.0</td>\n      <td>0.0</td>\n      <td>0.0</td>\n      <td>0.0</td>\n      <td>0.0</td>\n      <td>0.0</td>\n      <td>0.0</td>\n      <td>0.0</td>\n      <td>0.0</td>\n      <td>0.0</td>\n      <td>0.0</td>\n      <td>0.0</td>\n      <td>0.0</td>\n      <td>0.0</td>\n      <td>0.0</td>\n      <td>0.0</td>\n      <td>0.0</td>\n      <td>0.0</td>\n      <td>9.21034</td>\n      <td>0.0</td>\n      <td>9.21034</td>\n    </tr>\n  </tbody>\n</table>\n<p>1 rows × 7000 columns</p>\n</div>"
     },
     "metadata": {}
    },
    {
     "output_type": "stream",
     "name": "stdout",
     "text": [
      "0    4.920981\ndtype: float64\n"
     ]
    },
    {
     "output_type": "display_data",
     "data": {
      "text/plain": "         여행        영화        사랑       에세이  ...  체험학습     선물투자  시금치       벌금\n0  2.916921  3.165335  3.162968  3.709082  ...   0.0  9.21034  0.0  9.21034\n\n[1 rows x 7000 columns]",
      "text/html": "<div>\n<style scoped>\n    .dataframe tbody tr th:only-of-type {\n        vertical-align: middle;\n    }\n\n    .dataframe tbody tr th {\n        vertical-align: top;\n    }\n\n    .dataframe thead th {\n        text-align: right;\n    }\n</style>\n<table border=\"1\" class=\"dataframe\">\n  <thead>\n    <tr style=\"text-align: right;\">\n      <th></th>\n      <th>여행</th>\n      <th>영화</th>\n      <th>사랑</th>\n      <th>에세이</th>\n      <th>그림일기</th>\n      <th>생각</th>\n      <th>공감에세이</th>\n      <th>일상</th>\n      <th>글쓰기</th>\n      <th>감성에세이</th>\n      <th>인생</th>\n      <th>행복</th>\n      <th>연애</th>\n      <th>소설</th>\n      <th>드로잉</th>\n      <th>독서</th>\n      <th>육아</th>\n      <th>그림</th>\n      <th>마음</th>\n      <th>사진</th>\n      <th>리뷰</th>\n      <th>엄마</th>\n      <th>음악</th>\n      <th>스타트업</th>\n      <th>시</th>\n      <th>유럽여행</th>\n      <th>일러스트</th>\n      <th>이별</th>\n      <th>마케팅</th>\n      <th>고양이</th>\n      <th>디자인</th>\n      <th>영화리뷰</th>\n      <th>웹툰</th>\n      <th>IT</th>\n      <th>직장인</th>\n      <th>감성</th>\n      <th>일기</th>\n      <th>사람</th>\n      <th>결혼</th>\n      <th>친구</th>\n      <th>...</th>\n      <th>식도락</th>\n      <th>서민</th>\n      <th>F1</th>\n      <th>라디오헤드</th>\n      <th>연민</th>\n      <th>운동방법</th>\n      <th>여교사</th>\n      <th>하체</th>\n      <th>한약</th>\n      <th>족저근막염</th>\n      <th>좋은음악</th>\n      <th>총기</th>\n      <th>폭탄</th>\n      <th>도파민</th>\n      <th>산행후기</th>\n      <th>간병인</th>\n      <th>시화</th>\n      <th>고요함</th>\n      <th>멤버십</th>\n      <th>푸조</th>\n      <th>유럽연합</th>\n      <th>매체</th>\n      <th>눈높이</th>\n      <th>댄서</th>\n      <th>대상포진</th>\n      <th>블랙박스</th>\n      <th>불가능</th>\n      <th>연수</th>\n      <th>외침</th>\n      <th>신트라</th>\n      <th>삿포로여행</th>\n      <th>김수현</th>\n      <th>고부갈등</th>\n      <th>배달음식</th>\n      <th>의류</th>\n      <th>본인</th>\n      <th>체험학습</th>\n      <th>선물투자</th>\n      <th>시금치</th>\n      <th>벌금</th>\n    </tr>\n  </thead>\n  <tbody>\n    <tr>\n      <th>0</th>\n      <td>2.916921</td>\n      <td>3.165335</td>\n      <td>3.162968</td>\n      <td>3.709082</td>\n      <td>3.763603</td>\n      <td>3.669077</td>\n      <td>3.94765</td>\n      <td>4.098353</td>\n      <td>4.247496</td>\n      <td>3.927137</td>\n      <td>4.226734</td>\n      <td>4.268698</td>\n      <td>4.374058</td>\n      <td>4.26158</td>\n      <td>4.990833</td>\n      <td>4.755993</td>\n      <td>4.625373</td>\n      <td>4.853632</td>\n      <td>4.398156</td>\n      <td>4.635629</td>\n      <td>4.635629</td>\n      <td>4.699481</td>\n      <td>4.50081</td>\n      <td>4.767689</td>\n      <td>4.55638</td>\n      <td>4.721704</td>\n      <td>4.59522</td>\n      <td>4.677741</td>\n      <td>4.767689</td>\n      <td>4.656463</td>\n      <td>5.099467</td>\n      <td>5.221356</td>\n      <td>5.403678</td>\n      <td>4.866535</td>\n      <td>4.906275</td>\n      <td>5.051457</td>\n      <td>5.132803</td>\n      <td>4.906275</td>\n      <td>5.203007</td>\n      <td>5.184989</td>\n      <td>...</td>\n      <td>0.0</td>\n      <td>0.0</td>\n      <td>0.0</td>\n      <td>9.21034</td>\n      <td>0.0</td>\n      <td>0.0</td>\n      <td>0.0</td>\n      <td>0.0</td>\n      <td>0.0</td>\n      <td>0.0</td>\n      <td>0.0</td>\n      <td>0.0</td>\n      <td>0.0</td>\n      <td>0.0</td>\n      <td>0.0</td>\n      <td>0.0</td>\n      <td>0.0</td>\n      <td>0.0</td>\n      <td>0.0</td>\n      <td>0.0</td>\n      <td>0.0</td>\n      <td>0.0</td>\n      <td>0.0</td>\n      <td>0.0</td>\n      <td>0.0</td>\n      <td>0.0</td>\n      <td>0.0</td>\n      <td>0.0</td>\n      <td>0.0</td>\n      <td>0.0</td>\n      <td>0.0</td>\n      <td>0.0</td>\n      <td>0.0</td>\n      <td>0.0</td>\n      <td>0.0</td>\n      <td>0.0</td>\n      <td>0.0</td>\n      <td>9.21034</td>\n      <td>0.0</td>\n      <td>9.21034</td>\n    </tr>\n  </tbody>\n</table>\n<p>1 rows × 7000 columns</p>\n</div>"
     },
     "metadata": {}
    },
    {
     "output_type": "stream",
     "name": "stdout",
     "text": [
      "0    4.920981\ndtype: float64\n"
     ]
    },
    {
     "output_type": "display_data",
     "data": {
      "text/plain": "         여행        영화        사랑       에세이  ...  체험학습     선물투자  시금치       벌금\n0  2.916921  3.165335  3.162968  3.709082  ...   0.0  9.21034  0.0  9.21034\n\n[1 rows x 7000 columns]",
      "text/html": "<div>\n<style scoped>\n    .dataframe tbody tr th:only-of-type {\n        vertical-align: middle;\n    }\n\n    .dataframe tbody tr th {\n        vertical-align: top;\n    }\n\n    .dataframe thead th {\n        text-align: right;\n    }\n</style>\n<table border=\"1\" class=\"dataframe\">\n  <thead>\n    <tr style=\"text-align: right;\">\n      <th></th>\n      <th>여행</th>\n      <th>영화</th>\n      <th>사랑</th>\n      <th>에세이</th>\n      <th>그림일기</th>\n      <th>생각</th>\n      <th>공감에세이</th>\n      <th>일상</th>\n      <th>글쓰기</th>\n      <th>감성에세이</th>\n      <th>인생</th>\n      <th>행복</th>\n      <th>연애</th>\n      <th>소설</th>\n      <th>드로잉</th>\n      <th>독서</th>\n      <th>육아</th>\n      <th>그림</th>\n      <th>마음</th>\n      <th>사진</th>\n      <th>리뷰</th>\n      <th>엄마</th>\n      <th>음악</th>\n      <th>스타트업</th>\n      <th>시</th>\n      <th>유럽여행</th>\n      <th>일러스트</th>\n      <th>이별</th>\n      <th>마케팅</th>\n      <th>고양이</th>\n      <th>디자인</th>\n      <th>영화리뷰</th>\n      <th>웹툰</th>\n      <th>IT</th>\n      <th>직장인</th>\n      <th>감성</th>\n      <th>일기</th>\n      <th>사람</th>\n      <th>결혼</th>\n      <th>친구</th>\n      <th>...</th>\n      <th>식도락</th>\n      <th>서민</th>\n      <th>F1</th>\n      <th>라디오헤드</th>\n      <th>연민</th>\n      <th>운동방법</th>\n      <th>여교사</th>\n      <th>하체</th>\n      <th>한약</th>\n      <th>족저근막염</th>\n      <th>좋은음악</th>\n      <th>총기</th>\n      <th>폭탄</th>\n      <th>도파민</th>\n      <th>산행후기</th>\n      <th>간병인</th>\n      <th>시화</th>\n      <th>고요함</th>\n      <th>멤버십</th>\n      <th>푸조</th>\n      <th>유럽연합</th>\n      <th>매체</th>\n      <th>눈높이</th>\n      <th>댄서</th>\n      <th>대상포진</th>\n      <th>블랙박스</th>\n      <th>불가능</th>\n      <th>연수</th>\n      <th>외침</th>\n      <th>신트라</th>\n      <th>삿포로여행</th>\n      <th>김수현</th>\n      <th>고부갈등</th>\n      <th>배달음식</th>\n      <th>의류</th>\n      <th>본인</th>\n      <th>체험학습</th>\n      <th>선물투자</th>\n      <th>시금치</th>\n      <th>벌금</th>\n    </tr>\n  </thead>\n  <tbody>\n    <tr>\n      <th>0</th>\n      <td>2.916921</td>\n      <td>3.165335</td>\n      <td>3.162968</td>\n      <td>3.709082</td>\n      <td>3.763603</td>\n      <td>3.669077</td>\n      <td>3.94765</td>\n      <td>4.098353</td>\n      <td>4.247496</td>\n      <td>3.927137</td>\n      <td>4.226734</td>\n      <td>4.268698</td>\n      <td>4.374058</td>\n      <td>4.26158</td>\n      <td>4.990833</td>\n      <td>4.755993</td>\n      <td>4.625373</td>\n      <td>4.853632</td>\n      <td>4.398156</td>\n      <td>4.635629</td>\n      <td>4.635629</td>\n      <td>4.699481</td>\n      <td>4.50081</td>\n      <td>4.767689</td>\n      <td>4.55638</td>\n      <td>4.721704</td>\n      <td>4.59522</td>\n      <td>4.677741</td>\n      <td>4.767689</td>\n      <td>4.656463</td>\n      <td>5.099467</td>\n      <td>5.221356</td>\n      <td>5.403678</td>\n      <td>4.866535</td>\n      <td>4.906275</td>\n      <td>5.051457</td>\n      <td>5.132803</td>\n      <td>4.906275</td>\n      <td>5.203007</td>\n      <td>5.184989</td>\n      <td>...</td>\n      <td>0.0</td>\n      <td>0.0</td>\n      <td>0.0</td>\n      <td>9.21034</td>\n      <td>0.0</td>\n      <td>0.0</td>\n      <td>0.0</td>\n      <td>0.0</td>\n      <td>0.0</td>\n      <td>0.0</td>\n      <td>0.0</td>\n      <td>0.0</td>\n      <td>0.0</td>\n      <td>0.0</td>\n      <td>0.0</td>\n      <td>0.0</td>\n      <td>0.0</td>\n      <td>0.0</td>\n      <td>0.0</td>\n      <td>0.0</td>\n      <td>0.0</td>\n      <td>0.0</td>\n      <td>0.0</td>\n      <td>0.0</td>\n      <td>0.0</td>\n      <td>0.0</td>\n      <td>0.0</td>\n      <td>0.0</td>\n      <td>0.0</td>\n      <td>0.0</td>\n      <td>0.0</td>\n      <td>0.0</td>\n      <td>0.0</td>\n      <td>0.0</td>\n      <td>0.0</td>\n      <td>0.0</td>\n      <td>0.0</td>\n      <td>9.21034</td>\n      <td>0.0</td>\n      <td>9.21034</td>\n    </tr>\n  </tbody>\n</table>\n<p>1 rows × 7000 columns</p>\n</div>"
     },
     "metadata": {}
    },
    {
     "output_type": "stream",
     "name": "stdout",
     "text": [
      "0    4.920981\ndtype: float64\n"
     ]
    },
    {
     "output_type": "display_data",
     "data": {
      "text/plain": "         여행        영화        사랑       에세이  ...  체험학습     선물투자  시금치       벌금\n0  2.916921  3.165335  3.162968  3.709082  ...   0.0  9.21034  0.0  9.21034\n\n[1 rows x 7000 columns]",
      "text/html": "<div>\n<style scoped>\n    .dataframe tbody tr th:only-of-type {\n        vertical-align: middle;\n    }\n\n    .dataframe tbody tr th {\n        vertical-align: top;\n    }\n\n    .dataframe thead th {\n        text-align: right;\n    }\n</style>\n<table border=\"1\" class=\"dataframe\">\n  <thead>\n    <tr style=\"text-align: right;\">\n      <th></th>\n      <th>여행</th>\n      <th>영화</th>\n      <th>사랑</th>\n      <th>에세이</th>\n      <th>그림일기</th>\n      <th>생각</th>\n      <th>공감에세이</th>\n      <th>일상</th>\n      <th>글쓰기</th>\n      <th>감성에세이</th>\n      <th>인생</th>\n      <th>행복</th>\n      <th>연애</th>\n      <th>소설</th>\n      <th>드로잉</th>\n      <th>독서</th>\n      <th>육아</th>\n      <th>그림</th>\n      <th>마음</th>\n      <th>사진</th>\n      <th>리뷰</th>\n      <th>엄마</th>\n      <th>음악</th>\n      <th>스타트업</th>\n      <th>시</th>\n      <th>유럽여행</th>\n      <th>일러스트</th>\n      <th>이별</th>\n      <th>마케팅</th>\n      <th>고양이</th>\n      <th>디자인</th>\n      <th>영화리뷰</th>\n      <th>웹툰</th>\n      <th>IT</th>\n      <th>직장인</th>\n      <th>감성</th>\n      <th>일기</th>\n      <th>사람</th>\n      <th>결혼</th>\n      <th>친구</th>\n      <th>...</th>\n      <th>식도락</th>\n      <th>서민</th>\n      <th>F1</th>\n      <th>라디오헤드</th>\n      <th>연민</th>\n      <th>운동방법</th>\n      <th>여교사</th>\n      <th>하체</th>\n      <th>한약</th>\n      <th>족저근막염</th>\n      <th>좋은음악</th>\n      <th>총기</th>\n      <th>폭탄</th>\n      <th>도파민</th>\n      <th>산행후기</th>\n      <th>간병인</th>\n      <th>시화</th>\n      <th>고요함</th>\n      <th>멤버십</th>\n      <th>푸조</th>\n      <th>유럽연합</th>\n      <th>매체</th>\n      <th>눈높이</th>\n      <th>댄서</th>\n      <th>대상포진</th>\n      <th>블랙박스</th>\n      <th>불가능</th>\n      <th>연수</th>\n      <th>외침</th>\n      <th>신트라</th>\n      <th>삿포로여행</th>\n      <th>김수현</th>\n      <th>고부갈등</th>\n      <th>배달음식</th>\n      <th>의류</th>\n      <th>본인</th>\n      <th>체험학습</th>\n      <th>선물투자</th>\n      <th>시금치</th>\n      <th>벌금</th>\n    </tr>\n  </thead>\n  <tbody>\n    <tr>\n      <th>0</th>\n      <td>2.916921</td>\n      <td>3.165335</td>\n      <td>3.162968</td>\n      <td>3.709082</td>\n      <td>3.763603</td>\n      <td>3.669077</td>\n      <td>3.94765</td>\n      <td>4.098353</td>\n      <td>4.247496</td>\n      <td>3.927137</td>\n      <td>4.226734</td>\n      <td>4.268698</td>\n      <td>4.374058</td>\n      <td>4.26158</td>\n      <td>4.990833</td>\n      <td>4.755993</td>\n      <td>4.625373</td>\n      <td>4.853632</td>\n      <td>4.398156</td>\n      <td>4.635629</td>\n      <td>4.635629</td>\n      <td>4.699481</td>\n      <td>4.50081</td>\n      <td>4.767689</td>\n      <td>4.55638</td>\n      <td>4.721704</td>\n      <td>4.59522</td>\n      <td>4.677741</td>\n      <td>4.767689</td>\n      <td>4.656463</td>\n      <td>5.099467</td>\n      <td>5.221356</td>\n      <td>5.403678</td>\n      <td>4.866535</td>\n      <td>4.906275</td>\n      <td>5.051457</td>\n      <td>5.132803</td>\n      <td>4.906275</td>\n      <td>5.203007</td>\n      <td>5.184989</td>\n      <td>...</td>\n      <td>0.0</td>\n      <td>0.0</td>\n      <td>0.0</td>\n      <td>9.21034</td>\n      <td>0.0</td>\n      <td>0.0</td>\n      <td>0.0</td>\n      <td>0.0</td>\n      <td>0.0</td>\n      <td>0.0</td>\n      <td>0.0</td>\n      <td>0.0</td>\n      <td>0.0</td>\n      <td>0.0</td>\n      <td>0.0</td>\n      <td>0.0</td>\n      <td>0.0</td>\n      <td>0.0</td>\n      <td>0.0</td>\n      <td>0.0</td>\n      <td>0.0</td>\n      <td>0.0</td>\n      <td>0.0</td>\n      <td>0.0</td>\n      <td>0.0</td>\n      <td>0.0</td>\n      <td>0.0</td>\n      <td>0.0</td>\n      <td>0.0</td>\n      <td>0.0</td>\n      <td>0.0</td>\n      <td>0.0</td>\n      <td>0.0</td>\n      <td>0.0</td>\n      <td>0.0</td>\n      <td>0.0</td>\n      <td>0.0</td>\n      <td>9.21034</td>\n      <td>0.0</td>\n      <td>9.21034</td>\n    </tr>\n  </tbody>\n</table>\n<p>1 rows × 7000 columns</p>\n</div>"
     },
     "metadata": {}
    },
    {
     "output_type": "stream",
     "name": "stdout",
     "text": [
      "0    4.920981\ndtype: float64\n"
     ]
    },
    {
     "output_type": "display_data",
     "data": {
      "text/plain": "         여행        영화        사랑       에세이  ...  체험학습     선물투자  시금치       벌금\n0  2.916921  3.165335  3.162968  3.709082  ...   0.0  9.21034  0.0  9.21034\n\n[1 rows x 7000 columns]",
      "text/html": "<div>\n<style scoped>\n    .dataframe tbody tr th:only-of-type {\n        vertical-align: middle;\n    }\n\n    .dataframe tbody tr th {\n        vertical-align: top;\n    }\n\n    .dataframe thead th {\n        text-align: right;\n    }\n</style>\n<table border=\"1\" class=\"dataframe\">\n  <thead>\n    <tr style=\"text-align: right;\">\n      <th></th>\n      <th>여행</th>\n      <th>영화</th>\n      <th>사랑</th>\n      <th>에세이</th>\n      <th>그림일기</th>\n      <th>생각</th>\n      <th>공감에세이</th>\n      <th>일상</th>\n      <th>글쓰기</th>\n      <th>감성에세이</th>\n      <th>인생</th>\n      <th>행복</th>\n      <th>연애</th>\n      <th>소설</th>\n      <th>드로잉</th>\n      <th>독서</th>\n      <th>육아</th>\n      <th>그림</th>\n      <th>마음</th>\n      <th>사진</th>\n      <th>리뷰</th>\n      <th>엄마</th>\n      <th>음악</th>\n      <th>스타트업</th>\n      <th>시</th>\n      <th>유럽여행</th>\n      <th>일러스트</th>\n      <th>이별</th>\n      <th>마케팅</th>\n      <th>고양이</th>\n      <th>디자인</th>\n      <th>영화리뷰</th>\n      <th>웹툰</th>\n      <th>IT</th>\n      <th>직장인</th>\n      <th>감성</th>\n      <th>일기</th>\n      <th>사람</th>\n      <th>결혼</th>\n      <th>친구</th>\n      <th>...</th>\n      <th>식도락</th>\n      <th>서민</th>\n      <th>F1</th>\n      <th>라디오헤드</th>\n      <th>연민</th>\n      <th>운동방법</th>\n      <th>여교사</th>\n      <th>하체</th>\n      <th>한약</th>\n      <th>족저근막염</th>\n      <th>좋은음악</th>\n      <th>총기</th>\n      <th>폭탄</th>\n      <th>도파민</th>\n      <th>산행후기</th>\n      <th>간병인</th>\n      <th>시화</th>\n      <th>고요함</th>\n      <th>멤버십</th>\n      <th>푸조</th>\n      <th>유럽연합</th>\n      <th>매체</th>\n      <th>눈높이</th>\n      <th>댄서</th>\n      <th>대상포진</th>\n      <th>블랙박스</th>\n      <th>불가능</th>\n      <th>연수</th>\n      <th>외침</th>\n      <th>신트라</th>\n      <th>삿포로여행</th>\n      <th>김수현</th>\n      <th>고부갈등</th>\n      <th>배달음식</th>\n      <th>의류</th>\n      <th>본인</th>\n      <th>체험학습</th>\n      <th>선물투자</th>\n      <th>시금치</th>\n      <th>벌금</th>\n    </tr>\n  </thead>\n  <tbody>\n    <tr>\n      <th>0</th>\n      <td>2.916921</td>\n      <td>3.165335</td>\n      <td>3.162968</td>\n      <td>3.709082</td>\n      <td>3.763603</td>\n      <td>3.669077</td>\n      <td>3.94765</td>\n      <td>4.098353</td>\n      <td>4.247496</td>\n      <td>3.927137</td>\n      <td>4.226734</td>\n      <td>4.268698</td>\n      <td>4.374058</td>\n      <td>4.26158</td>\n      <td>4.990833</td>\n      <td>4.755993</td>\n      <td>4.625373</td>\n      <td>4.853632</td>\n      <td>4.398156</td>\n      <td>4.635629</td>\n      <td>4.635629</td>\n      <td>4.699481</td>\n      <td>4.50081</td>\n      <td>4.767689</td>\n      <td>4.55638</td>\n      <td>4.721704</td>\n      <td>4.59522</td>\n      <td>4.677741</td>\n      <td>4.767689</td>\n      <td>4.656463</td>\n      <td>5.099467</td>\n      <td>5.221356</td>\n      <td>5.403678</td>\n      <td>4.866535</td>\n      <td>4.906275</td>\n      <td>5.051457</td>\n      <td>5.132803</td>\n      <td>4.906275</td>\n      <td>5.203007</td>\n      <td>5.184989</td>\n      <td>...</td>\n      <td>0.0</td>\n      <td>0.0</td>\n      <td>0.0</td>\n      <td>9.21034</td>\n      <td>0.0</td>\n      <td>0.0</td>\n      <td>0.0</td>\n      <td>0.0</td>\n      <td>0.0</td>\n      <td>0.0</td>\n      <td>0.0</td>\n      <td>0.0</td>\n      <td>0.0</td>\n      <td>0.0</td>\n      <td>0.0</td>\n      <td>0.0</td>\n      <td>0.0</td>\n      <td>0.0</td>\n      <td>0.0</td>\n      <td>0.0</td>\n      <td>0.0</td>\n      <td>0.0</td>\n      <td>0.0</td>\n      <td>0.0</td>\n      <td>0.0</td>\n      <td>0.0</td>\n      <td>0.0</td>\n      <td>0.0</td>\n      <td>0.0</td>\n      <td>0.0</td>\n      <td>0.0</td>\n      <td>0.0</td>\n      <td>0.0</td>\n      <td>0.0</td>\n      <td>0.0</td>\n      <td>0.0</td>\n      <td>0.0</td>\n      <td>9.21034</td>\n      <td>0.0</td>\n      <td>9.21034</td>\n    </tr>\n  </tbody>\n</table>\n<p>1 rows × 7000 columns</p>\n</div>"
     },
     "metadata": {}
    },
    {
     "output_type": "stream",
     "name": "stdout",
     "text": [
      "0    4.920981\ndtype: float64\n1 loop, best of 5: 21.3 s per loop\n"
     ]
    }
   ],
   "source": [
    "def foo():\n",
    "    kwd_list = set(squeeze(metadata['keyword_list'].tolist()))\n",
    "    kwd_list_filtered = list(filter(lambda x: x in vocab, kwd_list))\n",
    "\n",
    "    idf = pd.DataFrame(np.zeros((1, len(vocab))), columns=vocab)\n",
    "    for tag in kwd_list_filtered:\n",
    "        idf.loc[0, tag] = np.log(metadata.shape[0] / sum(metadata['keyword_list'].apply(lambda x: tag in x)))\n",
    "    display(idf)\n",
    "    print(idf.mean(axis=1))\n",
    "\n",
    "%timeit foo()\n"
   ]
  },
  {
   "cell_type": "code",
   "execution_count": null,
   "metadata": {},
   "outputs": [],
   "source": [
    "def foo():\n",
    "    kwd_list = set(squeeze(metadata['keyword_list'].tolist()))\n",
    "    idf = pd.DataFrame(np.zeros((1, len(vocab))), columns=vocab)\n",
    "\n",
    "    for tag in kwd_list:\n",
    "        if tag in vocab:\n",
    "            idf.loc[0, tag] = np.log(metadata.shape[0] / sum(metadata['keyword_list'].apply(lambda x: tag in x)))\n",
    "    display(idf)\n",
    "    print(idf.mean(axis=1))\n",
    "\n",
    "%timeit foo()"
   ]
  },
  {
   "cell_type": "code",
   "execution_count": null,
   "metadata": {},
   "outputs": [],
   "source": [
    "print('Build IDF...')\n",
    "for tag in tqdm(kwd_list):\n",
    "    if tag in vocab:\n",
    "        idf.loc[0, tag] = np.log(num_docs / sum(batch['keyword_list'].apply(lambda x: tag in x)))"
   ]
  }
 ]
}