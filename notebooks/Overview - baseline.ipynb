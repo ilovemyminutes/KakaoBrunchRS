{
 "cells": [
  {
   "cell_type": "code",
   "execution_count": 34,
   "metadata": {},
   "outputs": [],
   "source": [
    "import os\n",
    "from glob import glob\n",
    "import json\n",
    "import tqdm\n",
    "sys.path.insert(0, '../baseline')\n",
    "\n",
    "try:\n",
    "    import cPickle\n",
    "except ImportError:\n",
    "    import pickle as cPickle\n",
    "\n",
    "import pandas as pd\n",
    "import numpy as np\n",
    "\n",
    "from mostpopular import MostPopular\n",
    "from util import iterate_data_files"
   ]
  },
  {
   "cell_type": "code",
   "execution_count": 16,
   "metadata": {},
   "outputs": [],
   "source": [
    "from_dtm = 2019020100\n",
    "to_dtm = 2019022200\n",
    "userlist_path = './tmp/dev.users'\n",
    "out_path = './tmp/dev.users.recommend'\n",
    "\n",
    "mostpop = MostPopular(from_dtm=from_dtm, to_dtm=to_dtm)"
   ]
  },
  {
   "source": [
    "python mostpopular.py --from-dtm 2019020100 --to-dtm 2019022200 recommend ./tmp/dev.users ./tmp/dev.users.recommend"
   ],
   "cell_type": "markdown",
   "metadata": {}
  },
  {
   "cell_type": "code",
   "execution_count": 10,
   "metadata": {},
   "outputs": [],
   "source": [
    "# mostpop.recommend(userlist_path=userlist_path, out_path=out_path)"
   ]
  },
  {
   "cell_type": "code",
   "execution_count": 17,
   "metadata": {},
   "outputs": [
    {
     "output_type": "execute_result",
     "data": {
      "text/plain": [
       "'./tmp/mp.model.2019020100.2019022200'"
      ],
      "application/vnd.google.colaboratory.intrinsic+json": {
       "type": "string"
      }
     },
     "metadata": {},
     "execution_count": 17
    }
   ],
   "source": [
    "mostpop._get_model_path()"
   ]
  },
  {
   "cell_type": "code",
   "execution_count": 18,
   "metadata": {},
   "outputs": [
    {
     "output_type": "execute_result",
     "data": {
      "text/plain": [
       "False"
      ]
     },
     "metadata": {},
     "execution_count": 18
    }
   ],
   "source": [
    "os.path.isfile(mostpop._get_model_path())"
   ]
  },
  {
   "cell_type": "code",
   "execution_count": 22,
   "metadata": {
    "tags": []
   },
   "outputs": [
    {
     "output_type": "stream",
     "name": "stdout",
     "text": [
      "PATH: ../raw/read/2019020115_2019020116, FILE NAME: 2019020115_2019020116\nPATH: ../raw/read/2019020114_2019020115, FILE NAME: 2019020114_2019020115\nPATH: ../raw/read/2019020105_2019020106, FILE NAME: 2019020105_2019020106\n"
     ]
    }
   ],
   "source": [
    "for idx, (path, fname) in enumerate(iterate_data_files(from_dtm=from_dtm, to_dtm=to_dtm)):\n",
    "    if idx < 3:\n",
    "        print(f'PATH: {path}, FILE NAME: {fname}')"
   ]
  },
  {
   "cell_type": "code",
   "execution_count": 25,
   "metadata": {},
   "outputs": [
    {
     "output_type": "stream",
     "name": "stderr",
     "text": [
      "\n",
      "0it [00:00, ?it/s]\u001b[Abuilding model..\n",
      "\n",
      "142it [00:01, 140.33it/s]\u001b[A\n",
      "253it [00:02, 129.51it/s]\u001b[A\n",
      "343it [00:03, 114.08it/s]\u001b[A\n",
      "504it [00:04, 104.75it/s]\n"
     ]
    }
   ],
   "source": [
    "freq = {}\n",
    "print('building model..')\n",
    "for path, _ in tqdm.tqdm(iterate_data_files(from_dtm, to_dtm),\n",
    "                            mininterval=1):\n",
    "    for line in open(path):\n",
    "        seen = line.strip().split()[1:]\n",
    "        for s in seen:\n",
    "            freq[s] = freq.get(s, 0) + 1\n",
    "freq = sorted(freq.items(), key=lambda x: x[1], reverse=True)"
   ]
  },
  {
   "cell_type": "code",
   "execution_count": 32,
   "metadata": {},
   "outputs": [],
   "source": [
    "model_path = 'mp.model.2019020100.2019022200'"
   ]
  },
  {
   "cell_type": "code",
   "execution_count": 31,
   "metadata": {},
   "outputs": [
    {
     "output_type": "execute_result",
     "data": {
      "text/plain": [
       "'./tmp/mp.model.2019020100.2019022200'"
      ],
      "application/vnd.google.colaboratory.intrinsic+json": {
       "type": "string"
      }
     },
     "metadata": {},
     "execution_count": 31
    }
   ],
   "source": [
    "mostpop._get_model_path()"
   ]
  },
  {
   "cell_type": "code",
   "execution_count": 35,
   "metadata": {},
   "outputs": [
    {
     "output_type": "execute_result",
     "data": {
      "text/plain": [
       "7514045"
      ]
     },
     "metadata": {},
     "execution_count": 35
    }
   ],
   "source": [
    "open(model_path, 'wb').write(cPickle.dumps(freq, 2))"
   ]
  },
  {
   "cell_type": "code",
   "execution_count": 37,
   "metadata": {},
   "outputs": [],
   "source": [
    "ret = cPickle.load(open(model_path, 'rb'))\n",
    "mp = [a for a, _ in ret]"
   ]
  },
  {
   "cell_type": "code",
   "execution_count": 40,
   "metadata": {},
   "outputs": [],
   "source": [
    "userlist_path = '../baseline/tmp/dev.users'"
   ]
  },
  {
   "cell_type": "code",
   "execution_count": 41,
   "metadata": {},
   "outputs": [],
   "source": [
    "users = [u.strip() for u in open(userlist_path)]"
   ]
  },
  {
   "cell_type": "code",
   "execution_count": 43,
   "metadata": {},
   "outputs": [],
   "source": [
    "set_users = set(users)"
   ]
  },
  {
   "cell_type": "code",
   "execution_count": 69,
   "metadata": {
    "tags": []
   },
   "outputs": [
    {
     "output_type": "stream",
     "name": "stdout",
     "text": [
      "0th Iter - seens of user [#3fa15bbf72e1a7ca20bd7496954eecf4]:\n",
      "\t['@sangickoh_161', '@sangickoh_161', '@sangickoh_161', '@sangickoh_161']\n",
      "\n",
      "50th Iter - seens of user [#3fa15bbf72e1a7ca20bd7496954eecf4]:\n",
      "\t['@sangickoh_161', '@sangickoh_161', '@sangickoh_161', '@sangickoh_161']\n",
      "\n",
      "100th Iter - seens of user [#3fa15bbf72e1a7ca20bd7496954eecf4]:\n",
      "\t['@sangickoh_161', '@sangickoh_161', '@sangickoh_161', '@sangickoh_161']\n",
      "\n",
      "150th Iter - seens of user [#3fa15bbf72e1a7ca20bd7496954eecf4]:\n",
      "\t['@eastgo_966', '@eastgo_966', '@eastgo_966', '@eastgo_966']\n",
      "\n",
      "200th Iter - seens of user [#3fa15bbf72e1a7ca20bd7496954eecf4]:\n",
      "\t['@prestigegorilla_348', '@prestigegorilla_348', '@prestigegorilla_348', '@prestigegorilla_348']\n",
      "\n",
      "250th Iter - seens of user [#3fa15bbf72e1a7ca20bd7496954eecf4]:\n",
      "\t['@chojeremy_57', '@chojeremy_57', '@chojeremy_57', '@chojeremy_57']\n",
      "\n",
      "300th Iter - seens of user [#3fa15bbf72e1a7ca20bd7496954eecf4]:\n",
      "\t['@chojeremy_57', '@chojeremy_57', '@chojeremy_57', '@chojeremy_57']\n",
      "\n",
      "350th Iter - seens of user [#3fa15bbf72e1a7ca20bd7496954eecf4]:\n",
      "\t['@chojeremy_57', '@chojeremy_57', '@chojeremy_57', '@chojeremy_57']\n",
      "\n",
      "400th Iter - seens of user [#3fa15bbf72e1a7ca20bd7496954eecf4]:\n",
      "\t['@chojeremy_57', '@chojeremy_57', '@chojeremy_57', '@chojeremy_57']\n",
      "\n",
      "450th Iter - seens of user [#3fa15bbf72e1a7ca20bd7496954eecf4]:\n",
      "\t['@ohms_111', '@ohms_111', '@ohms_111', '@ohms_111']\n",
      "\n",
      "500th Iter - seens of user [#3fa15bbf72e1a7ca20bd7496954eecf4]:\n",
      "\t['@ohms_111', '@ohms_111', '@ohms_111', '@ohms_111']\n",
      "\n"
     ]
    }
   ],
   "source": [
    "SAMPLE_ID = '#3fa15bbf72e1a7ca20bd7496954eecf4'\n",
    "seens = {}\n",
    "# path: from_dtm부터 to_dtm까지의 파일별 경로\n",
    "for idx, (path, _) in enumerate(iterate_data_files(from_dtm, to_dtm)):\n",
    "    for line in open(path):\n",
    "        tkns = line.strip().split()\n",
    "        userid, seen = tkns[0], tkns[1:]\n",
    "        if userid not in set_users:\n",
    "            continue\n",
    "        seens[userid] = seen\n",
    "    try:\n",
    "        if idx % 50 == 0:\n",
    "            print(f'{idx}th Iter - seens of user [{SAMPLE_ID}]:\\n\\t{seens[SAMPLE_ID]}\\n')\n",
    "    except:\n",
    "        pass\n"
   ]
  },
  {
   "cell_type": "code",
   "execution_count": 54,
   "metadata": {},
   "outputs": [
    {
     "output_type": "execute_result",
     "data": {
      "text/plain": [
       "['@ohms_111', '@ohms_111', '@ohms_111', '@ohms_111']"
      ]
     },
     "metadata": {},
     "execution_count": 54
    }
   ],
   "source": [
    "seens['#3fa15bbf72e1a7ca20bd7496954eecf4']"
   ]
  },
  {
   "cell_type": "code",
   "execution_count": 51,
   "metadata": {},
   "outputs": [
    {
     "output_type": "execute_result",
     "data": {
      "text/plain": [
       "{'#3fa15bbf72e1a7ca20bd7496954eecf4': ['@sangickoh_161',\n",
       "  '@sangickoh_161',\n",
       "  '@sangickoh_161',\n",
       "  '@sangickoh_161']}"
      ]
     },
     "metadata": {},
     "execution_count": 51
    }
   ],
   "source": [
    "seens"
   ]
  },
  {
   "cell_type": "code",
   "execution_count": 48,
   "metadata": {},
   "outputs": [
    {
     "output_type": "execute_result",
     "data": {
      "text/plain": [
       "'../raw/read/2019020115_2019020116'"
      ],
      "application/vnd.google.colaboratory.intrinsic+json": {
       "type": "string"
      }
     },
     "metadata": {},
     "execution_count": 48
    }
   ],
   "source": [
    "for line in open(temp_path):\n",
    "    tkns = line.strip().split()\n",
    "    userid, seen = tkns[0], tkns[1:]\n",
    "    if userid not in set_users:\n",
    "        continue\n",
    "    seens[userid] = seen"
   ]
  },
  {
   "cell_type": "code",
   "execution_count": 78,
   "metadata": {},
   "outputs": [
    {
     "output_type": "execute_result",
     "data": {
      "text/plain": [
       "{'#074807e76b662c7ab7b116f5c669d58e': ['@dailylife_207'],\n",
       " '#0960aec546537fe4a5260fcc7cd440c4': ['@garangbimaker_125',\n",
       "  '@garangbimaker_126',\n",
       "  '@garangbimaker_127',\n",
       "  '@garangbimaker_128',\n",
       "  '@garangbimaker_129',\n",
       "  '@garangbimaker_130',\n",
       "  '@garangbimaker_131'],\n",
       " '#0a1c08bf77b8124964a4bc72ae13e2ef': ['@eastgo_972', '@shindong_38'],\n",
       " '#0a28e75a77cc1073ccbad4f3ebc6c675': ['@dailylife_741',\n",
       "  '@dailylife_741',\n",
       "  '@dailylife_741',\n",
       "  '@dailylife_741'],\n",
       " '#19d5e802e6382083f3acffa4b2516bed': ['@rockwithyou_22',\n",
       "  '@rockwithyou_22',\n",
       "  '@hoonlove0303_556'],\n",
       " '#1afcdcdc8f23f2ac46274df1c3dad905': ['@thinkaboutlove_233',\n",
       "  '@thinkaboutlove_232',\n",
       "  '@thinkaboutlove_233',\n",
       "  '@leeinseo_27',\n",
       "  '@thinkaboutlove_233',\n",
       "  '@leeinseo_26'],\n",
       " '#1e750bd1bbba85e7ddaf7fcba99a8c2f': ['@linecard_209',\n",
       "  '@fermat39_61',\n",
       "  '@jordan777_2706'],\n",
       " '#2214696b9cdefc507695bf326256e754': ['@binkond_1250', '@binkond_1250'],\n",
       " '#240087addae18ed35908bc0cc4d093cf': ['@jeremysongkr_110'],\n",
       " '#25430a389cd4e3d1cac034d2b60fca68': ['@okbjy_139',\n",
       "  '@okbjy_139',\n",
       "  '@okbjy_139',\n",
       "  '@okbjy_139'],\n",
       " '#2817f53ccac8f0d317b4f4378939514e': ['@holidaymemories_140',\n",
       "  '@holidaymemories_140',\n",
       "  '@holidaymemories_99',\n",
       "  '@holidaymemories_99',\n",
       "  '@holidaymemories_98',\n",
       "  '@holidaymemories_101',\n",
       "  '@holidaymemories_101'],\n",
       " '#28b5d9dbfc4db8b0335a775d0493a00d': ['@brunch_151'],\n",
       " '#2a8b7f80029fc574b5176d96f1e1e219': ['@onsenwhale_45'],\n",
       " '#2b1cf94b66783f6e273c20035502162e': ['@nareun_210',\n",
       "  '@nareun_210',\n",
       "  '@nareun_210',\n",
       "  '@nareun_210'],\n",
       " '#343aa5ca029bb6941cd97b1bb3261177': ['@jangnoah_101',\n",
       "  '@jangnoah_101',\n",
       "  '@jangnoah_102',\n",
       "  '@jangnoah_98',\n",
       "  '@jangnoah_102',\n",
       "  '@jangnoah_101',\n",
       "  '@jangnoah_102',\n",
       "  '@jangnoah_101',\n",
       "  '@jangnoah_49',\n",
       "  '@jangnoah_101',\n",
       "  '@jangnoah_102',\n",
       "  '@jangnoah_49',\n",
       "  '@jangnoah_98',\n",
       "  '@jangnoah_96',\n",
       "  '@jangnoah_96',\n",
       "  '@jangnoah_49',\n",
       "  '@jangnoah_94',\n",
       "  '@jangnoah_96',\n",
       "  '@jangnoah_49',\n",
       "  '@jangnoah_94',\n",
       "  '@jangnoah_96',\n",
       "  '@jangnoah_90',\n",
       "  '@jangnoah_90',\n",
       "  '@jangnoah_87',\n",
       "  '@jangnoah_94',\n",
       "  '@jangnoah_85',\n",
       "  '@jangnoah_85',\n",
       "  '@jangnoah_86',\n",
       "  '@jangnoah_74',\n",
       "  '@jangnoah_85',\n",
       "  '@jangnoah_74',\n",
       "  '@jangnoah_86'],\n",
       " '#353878a26941fb0984fd39916b101bb6': ['@ilwoncoach_65'],\n",
       " '#359510234b46a875472d80f8416dd083': ['@seojoon_314',\n",
       "  '@seojoon_304',\n",
       "  '@seojoon_299',\n",
       "  '@seojoon_296',\n",
       "  '@philosophus_837',\n",
       "  '@philosophus_832',\n",
       "  '@wikitree_54',\n",
       "  '@leejion_36',\n",
       "  '@jumjan_225',\n",
       "  '@jumjan_224',\n",
       "  '@shanghaiesther_46'],\n",
       " '#3633fada0d53dd869d94bfe40a94fb6b': ['@ericablair_67', '@coastsun_51'],\n",
       " '#3c5b272429851b7f7b8287868d8a8e8e': ['@taekangk_42',\n",
       "  '@taekangk_5',\n",
       "  '@awakeup_60',\n",
       "  '@awakeup_53',\n",
       "  '@awakeup_52',\n",
       "  '@awakeup_51'],\n",
       " '#3c9c8a0061a6d5a483ff7622e1295f0e': ['@autopia_34'],\n",
       " '#3def67bc65bb6dbc09b59985c4c900e9': ['@brunch_151', '@brunch_151'],\n",
       " '#3fa15bbf72e1a7ca20bd7496954eecf4': ['@ohms_111',\n",
       "  '@ohms_111',\n",
       "  '@ohms_111',\n",
       "  '@ohms_111'],\n",
       " '#478f00e5a228608c1806130d08784322': ['@jjacksarang_94'],\n",
       " '#4befbf65c51891ac4a3888a605866c4a': ['@jakeyim_22'],\n",
       " '#4fbe1feb129abb4127cb2d51a1259553': ['@wonchu_51',\n",
       "  '@wonchu_52',\n",
       "  '@wonchu_51',\n",
       "  '@dryjshin_255',\n",
       "  '@onea_5'],\n",
       " '#519f45eb14e4807e8714fb7e835463eb': ['@volo_421', '@volo_421'],\n",
       " '#592c43af0fdf0f1c0f8ab50d99bddaaf': ['@tenbody_1164', '@tenbody_1164'],\n",
       " '#5fd7e165beb1ce7b0f2e1877e79044d7': ['@cysstory_109', '@windydog_56'],\n",
       " '#632bfec02c0429e3b17143ab78f4ab1b': ['@jjacksarang_94'],\n",
       " '#648c542101b45c1b505b1422675547b7': ['@shoostory_261',\n",
       "  '@shoostory_261',\n",
       "  '@roysday_314',\n",
       "  '@aemae-human_35',\n",
       "  '@aemae-human_35',\n",
       "  '@jolzzo_103',\n",
       "  '@pliossun_90',\n",
       "  '@onec_542',\n",
       "  '@onec_542',\n",
       "  '@sangster_103',\n",
       "  '@wonderland_131',\n",
       "  '@kyungajgba_131',\n",
       "  '@kyungajgba_131',\n",
       "  '@leeinseo_28',\n",
       "  '@enny-paris_29'],\n",
       " '#64df06f0fef7b086d3672b18c5ae1229': ['@montempsmalta_58',\n",
       "  '@montempsmalta_58',\n",
       "  '@montempsmalta_58',\n",
       "  '@montempsmalta_58'],\n",
       " '#6750787760b9b1e5db5f0e7b3a9b7e7d': ['@haleytravel_4', '@hotelscomkr_615'],\n",
       " '#680a58646ccff2671c6e25bb36b68450': ['@rosa0509_105',\n",
       "  '@kkan_33',\n",
       "  '@rosa0509_105'],\n",
       " '#68a068b7537c9b84a88924e24f6d41ff': ['@pjsprau_148'],\n",
       " '#6978da27daf04c9a47df6c5426747000': ['@gzerof_37',\n",
       "  '@gzerof_37',\n",
       "  '@gzerof_37',\n",
       "  '@gzerof_37',\n",
       "  '@outlines_29',\n",
       "  '@outlines_29'],\n",
       " '#7271b588020daa280dcdabb5e11b46f2': ['@thyoon_23',\n",
       "  '@thyoon_23',\n",
       "  '@thyoon_23'],\n",
       " '#72934c228f85833e12c30b2d8d914e1b': ['@meaningmaker_30',\n",
       "  '@meaningmaker_29',\n",
       "  '@ngm-k_126',\n",
       "  '@miree49_2'],\n",
       " '#76628af3dd340ccbacb1e9a9af1b6647': ['@socialworkers_202',\n",
       "  '@brunch_1',\n",
       "  '@uggae85_178',\n",
       "  '@mapthecity_38'],\n",
       " '#787fe9a800160e92175b4d51544056c1': ['@deckey1985_51',\n",
       "  '@noey_130',\n",
       "  '@wisesaying_16',\n",
       "  '@leesigi_93'],\n",
       " '#7fd516edc58441be774ce5f559747175': ['@ekgus5050_40',\n",
       "  '@ekgus5050_40',\n",
       "  '@stacyonstage_61',\n",
       "  '@stacyonstage_61'],\n",
       " '#800706569522fc06c25ffbd4f5865126': ['@seochogirl_7'],\n",
       " '#8274f3c0300b3c6fcdf631793d5464cb': ['@yumileewyky_310',\n",
       "  '@keeuyo_57',\n",
       "  '@janelee93_56'],\n",
       " '#8768b6199e6a04265600b808805af0a8': ['@englishspeaking_66',\n",
       "  '@englishspeaking_66',\n",
       "  '@englishspeaking_79',\n",
       "  '@englishspeaking_83',\n",
       "  '@englishspeaking_83',\n",
       "  '@englishspeaking_83',\n",
       "  '@englishspeaking_75',\n",
       "  '@englishspeaking_75',\n",
       "  '@englishspeaking_80',\n",
       "  '@englishspeaking_80',\n",
       "  '@englishspeaking_66',\n",
       "  '@englishspeaking_66',\n",
       "  '@englishspeaking_79',\n",
       "  '@englishspeaking_83',\n",
       "  '@englishspeaking_66',\n",
       "  '@englishspeaking_66',\n",
       "  '@englishspeaking_79',\n",
       "  '@englishspeaking_83',\n",
       "  '@englishspeaking_50',\n",
       "  '@englishspeaking_50',\n",
       "  '@englishspeaking_58',\n",
       "  '@englishspeaking_46',\n",
       "  '@englishspeaking_58',\n",
       "  '@englishspeaking_58',\n",
       "  '@englishspeaking_61',\n",
       "  '@englishspeaking_50',\n",
       "  '@englishspeaking_80',\n",
       "  '@englishspeaking_80',\n",
       "  '@englishspeaking_84',\n",
       "  '@englishspeaking_86',\n",
       "  '@englishspeaking_84',\n",
       "  '@englishspeaking_84',\n",
       "  '@englishspeaking_58',\n",
       "  '@englishspeaking_58'],\n",
       " '#87a6479c91e4276374378f1d28eb307c': ['@tnrud572_71', '@brunch_151'],\n",
       " '#8d885037d9d43472c30691755a8b4e73': ['@sunsutu_145', '@ipanema_45'],\n",
       " '#928da2f1bfe304da827ad7d1ef51e556': ['@roh222_305',\n",
       "  '@zavara15_432',\n",
       "  '@acepark_8',\n",
       "  '@sweetannie_145',\n",
       "  '@seochogirl_17',\n",
       "  '@seochogirl_16'],\n",
       " '#9819b9db4519b07c711a2d44c41e9e40': ['@siljonler_64',\n",
       "  '@siljonler_64',\n",
       "  '@siljonler_63'],\n",
       " '#9c3446b09df010f545128b0ee2378b84': ['@vigorous21_557',\n",
       "  '@supernova9_110',\n",
       "  '@munchi_78'],\n",
       " '#9e23c97f7f64b6b680744aa73b4a9abd': ['@choyoungduke_156'],\n",
       " '#9f5cf5f754d7cdda6b44c33120568573': ['@hongmilmil_33'],\n",
       " '#a249d9e2aeb4c50f5d0bf0361fbc1340': ['@dlsen0115_102',\n",
       "  '@dlsen0115_102',\n",
       "  '@aehyun_50',\n",
       "  '@aehyun_50',\n",
       "  '@yyjzang_98',\n",
       "  '@yyjzang_98'],\n",
       " '#a56b20f88ef47541bb6bb8b2f164f565': ['@spring0915_7'],\n",
       " '#a7a87f82d0043b226bab1efa97ec2be2': ['@sungi-kim_43'],\n",
       " '#b042c5fe7b175ee9194ccc05034bf2b1': ['@binkond_1121', '@binkond_1121'],\n",
       " '#bf2206abcf5bc2a131350cddb0982210': ['@hsleey0yb_348',\n",
       "  '@hsleey0yb_348',\n",
       "  '@msra81_359',\n",
       "  '@ricotta-chadder_9',\n",
       "  '@ricotta-chadder_9',\n",
       "  '@lilylala_11',\n",
       "  '@stoneageunion_112',\n",
       "  '@stoneageunion_112',\n",
       "  '@stoneageunion_112',\n",
       "  '@stoneageunion_112',\n",
       "  '@dailylife_207',\n",
       "  '@dailylife_207',\n",
       "  '@dailylife_207',\n",
       "  '@dailylife_207',\n",
       "  '@sangheeshyn_66',\n",
       "  '@sangheeshyn_66',\n",
       "  '@hwj6538_7',\n",
       "  '@hwj6538_7',\n",
       "  '@nplusu_49',\n",
       "  '@nplusu_49',\n",
       "  '@mothertive_73',\n",
       "  '@pomnyun_107',\n",
       "  '@mothertive_73',\n",
       "  '@gorrajeju_385'],\n",
       " '#c1bdb61ae0b8fa39c200ada317886751': ['@dancingsnail_66'],\n",
       " '#c4fc0ecbeb830860b64313a176c2c67d': ['@mothertive_73',\n",
       "  '@moripark_89',\n",
       "  '@moripark_77'],\n",
       " '#c665b60ba46ce1aead85c1ba13a57eb0': ['@socialworkers_202',\n",
       "  '@anetmom_54',\n",
       "  '@anetmom_47'],\n",
       " '#c812673351ee19e96aa6b19ba2fa852a': ['@matthewmin_150', '@matthewmin_150'],\n",
       " '#cacf72f52591ff988af2af936ff8e763': ['@tjl8252_13', '@jessiya7_37'],\n",
       " '#d02602dea61c575934b62d457cff007a': ['@brunch_2',\n",
       "  '@seesawyou_60',\n",
       "  '@brunch_151',\n",
       "  '@punytraveler_14',\n",
       "  '@susussi_1'],\n",
       " '#d1ab25b15510f37e7080ecac69d90014': ['@kookoocory_4',\n",
       "  '@kookoocory_4',\n",
       "  '@kookoocory_1',\n",
       "  '@kookoocory_1',\n",
       "  '@kookoocory_4',\n",
       "  '@kookoocory_4',\n",
       "  '@kookoocory_1'],\n",
       " '#d21878b8c5d94dbc3c84a61b166e762d': ['@parkdabin_863',\n",
       "  '@ssj8201_19',\n",
       "  '@dailylife_207'],\n",
       " '#d452eb07401119ca892d7ed48fa5ab24': ['@tralanara_11',\n",
       "  '@healtip_316',\n",
       "  '@patientmate_43',\n",
       "  '@sooyoung1015_10',\n",
       "  '@healtip_316'],\n",
       " '#d54a9dd577f7e4a5fb183e67a8b4a1e0': ['@kangsunseng_843'],\n",
       " '#df269b1bdfb5db9c57e5fb14d5f285d5': ['@carticker_7'],\n",
       " '#e78183b888756fbabd9385000bb1d048': ['@jogeum_81',\n",
       "  '@jogeum_81',\n",
       "  '@jogeum_81',\n",
       "  '@jogeum_81',\n",
       "  '@openmanh_36',\n",
       "  '@openmanh_36',\n",
       "  '@openmanh_12',\n",
       "  '@openmanh_12',\n",
       "  '@openmanh_10',\n",
       "  '@openmanh_13',\n",
       "  '@openmanh_13',\n",
       "  '@openmanh_13',\n",
       "  '@openmanh_14',\n",
       "  '@openmanh_14',\n",
       "  '@openmanh_15',\n",
       "  '@openmanh_15',\n",
       "  '@openmanh_17',\n",
       "  '@openmanh_17',\n",
       "  '@openmanh_19',\n",
       "  '@openmanh_19',\n",
       "  '@openmanh_18',\n",
       "  '@openmanh_18',\n",
       "  '@openmanh_22',\n",
       "  '@openmanh_22'],\n",
       " '#e81c8a975c6deaede8b7916f2fb92f33': ['@mentorgrace_12',\n",
       "  '@mentorgrace_12',\n",
       "  '@mentorgrace_12',\n",
       "  '@mentorgrace_12'],\n",
       " '#ec389e1eb68c8c3e3ad18b7b56b74aac': ['@syshine7_53',\n",
       "  '@syshine7_54',\n",
       "  '@syshine7_52',\n",
       "  '@syshine7_53',\n",
       "  '@syshine7_55',\n",
       "  '@syshine7_56',\n",
       "  '@syshine7_54',\n",
       "  '@syshine7_55'],\n",
       " '#f50ff33fd02cf3bd2b617900512ccd65': ['@seochogirl_29'],\n",
       " '#f7e262a7fd27b4aeef4216b64ca56615': ['@lovewant_180'],\n",
       " '#f964b18c1b116ef4173866c1d597d355': ['@nrl_74',\n",
       "  '@writermonet_27',\n",
       "  '@dadaworld_26',\n",
       "  '@bree_128',\n",
       "  '@koreakoala_116']}"
      ]
     },
     "metadata": {},
     "execution_count": 78
    }
   ],
   "source": [
    "seens"
   ]
  },
  {
   "cell_type": "code",
   "execution_count": 46,
   "metadata": {},
   "outputs": [
    {
     "output_type": "execute_result",
     "data": {
      "text/plain": [
       "['#8478e0e3e6ff7e7320dd1508abd8d227',\n",
       " '@qkrgydms322_680',\n",
       " '@worknlife_218',\n",
       " '@garangbimaker_128',\n",
       " '@workerhanee_246']"
      ]
     },
     "metadata": {},
     "execution_count": 46
    }
   ],
   "source": [
    "tkns"
   ]
  }
 ],
 "metadata": {
  "kernelspec": {
   "display_name": "Python 3",
   "language": "python",
   "name": "python3"
  },
  "language_info": {
   "codemirror_mode": {
    "name": "ipython",
    "version": 3
   },
   "file_extension": ".py",
   "mimetype": "text/x-python",
   "name": "python",
   "nbconvert_exporter": "python",
   "pygments_lexer": "ipython3",
   "version": "3.7.10-final"
  }
 },
 "nbformat": 4,
 "nbformat_minor": 2
}