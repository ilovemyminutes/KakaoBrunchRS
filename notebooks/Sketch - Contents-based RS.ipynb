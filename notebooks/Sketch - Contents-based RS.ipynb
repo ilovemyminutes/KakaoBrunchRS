{
 "cells": [
  {
   "cell_type": "code",
   "execution_count": 95,
   "metadata": {},
   "outputs": [],
   "source": [
    "import os\n",
    "import ast\n",
    "from tqdm import tqdm\n",
    "import json\n",
    "from glob import glob\n",
    "from collections import Counter\n",
    "import sys\n",
    "sys.path.insert(0, '../')\n",
    "\n",
    "import pandas as pd\n",
    "import numpy as np\n",
    "\n",
    "from load_data import load\n",
    "from tfidf import load_tfidf\n",
    "from config import Config\n",
    "from utils import iterate_data_files"
   ]
  },
  {
   "cell_type": "code",
   "execution_count": 2,
   "metadata": {},
   "outputs": [],
   "source": [
    "tfidf_dir = Config.tfidf_root\n",
    "vocab_dir = Config.vocab_root\n",
    "data_root = Config.data_root"
   ]
  },
  {
   "cell_type": "code",
   "execution_count": 9,
   "metadata": {},
   "outputs": [],
   "source": [
    "START_DEV = '2018100100'\n",
    "END_DEV = '2019022200'\n",
    "ROOT = '../raw'"
   ]
  },
  {
   "cell_type": "code",
   "execution_count": 96,
   "metadata": {
    "tags": []
   },
   "outputs": [
    {
     "output_type": "stream",
     "name": "stderr",
     "text": [
      "2184it [01:29, 24.33it/s]\n"
     ]
    }
   ],
   "source": [
    "records = []\n",
    "for path, filename in tqdm(iterate_data_files(from_dtm=START_DEV, to_dtm='2018123100', root_dir=ROOT)):\n",
    "    records.append([line.strip().split() for line in open(path)])"
   ]
  },
  {
   "cell_type": "code",
   "execution_count": 21,
   "metadata": {},
   "outputs": [],
   "source": [
    "post_meta = pd.read_csv(os.path.join(ROOT, '../raw/preprocessed/post_meta_id.csv'))"
   ]
  },
  {
   "cell_type": "code",
   "execution_count": 23,
   "metadata": {},
   "outputs": [],
   "source": [
    "post_meta_id = post_meta['post_meta_id'].tolist()\n",
    "post_id = post_meta['post_id'].tolist()"
   ]
  },
  {
   "cell_type": "code",
   "execution_count": 52,
   "metadata": {},
   "outputs": [
    {
     "output_type": "execute_result",
     "data": {
      "text/plain": [
       "'@bookdb_782'"
      ],
      "application/vnd.google.colaboratory.intrinsic+json": {
       "type": "string"
      }
     },
     "metadata": {},
     "execution_count": 52
    }
   ],
   "source": [
    "post_id[0]"
   ]
  },
  {
   "cell_type": "code",
   "execution_count": 149,
   "metadata": {},
   "outputs": [],
   "source": [
    "post_id_dict = {i:j for i, j in zip(post_id, post_meta_id)}\n",
    "post_id_decode = {i:j for i, j in zip(post_meta_id, post_id)}"
   ]
  },
  {
   "cell_type": "code",
   "execution_count": 100,
   "metadata": {},
   "outputs": [],
   "source": [
    "from collections import defaultdict\n",
    "user_logs = defaultdict(list) # {유저식별자 : [조회글 목록]}"
   ]
  },
  {
   "cell_type": "code",
   "execution_count": 104,
   "metadata": {
    "tags": []
   },
   "outputs": [
    {
     "output_type": "stream",
     "name": "stderr",
     "text": [
      "\n",
      "\n",
      "\n",
      "  0%|          | 0/5 [00:00<?, ?it/s]\u001b[A\u001b[A\u001b[A\n",
      "\n",
      "\n",
      " 20%|██        | 1/5 [00:28<01:55, 28.85s/it]\u001b[A\u001b[A\u001b[A\n",
      "\n",
      "\n",
      " 40%|████      | 2/5 [01:28<01:53, 37.98s/it]\u001b[A\u001b[A\u001b[A\n",
      "\n",
      "\n",
      " 60%|██████    | 3/5 [01:53<01:08, 34.28s/it]\u001b[A\u001b[A\u001b[A\n",
      "\n",
      "\n",
      " 80%|████████  | 4/5 [02:38<00:37, 37.55s/it]\u001b[A\u001b[A\u001b[A\n",
      "\n",
      "\n",
      "100%|██████████| 5/5 [03:19<00:00, 39.94s/it]\n"
     ]
    }
   ],
   "source": [
    "for record in tqdm(records[:5]):\n",
    "    for r in record:\n",
    "        user, posts_raw = r[0], r[1:]\n",
    "        posts = [post_id_dict[p] for p in posts_raw if p in post_id]\n",
    "        user_logs[user].extend(posts)"
   ]
  },
  {
   "cell_type": "code",
   "execution_count": 111,
   "metadata": {},
   "outputs": [],
   "source": [
    "sample_id_list = user_logs['#fb3b42b92d96f00afd5bf62d3575db53']"
   ]
  },
  {
   "cell_type": "code",
   "execution_count": 112,
   "metadata": {},
   "outputs": [],
   "source": [
    "tfidf = load_tfidf(post_meta_id_list=sample_id_list, tfidf_dir=tfidf_dir, vocab_dir=vocab_dir, drop_id=True)"
   ]
  },
  {
   "cell_type": "code",
   "execution_count": 113,
   "metadata": {},
   "outputs": [],
   "source": [
    "tfidf = tfidf.apply(lambda x: x / np.linalg.norm(x), axis=1)"
   ]
  },
  {
   "cell_type": "code",
   "execution_count": 114,
   "metadata": {},
   "outputs": [],
   "source": [
    "user_preference = tfidf.sum(axis=0)"
   ]
  },
  {
   "cell_type": "code",
   "execution_count": 121,
   "metadata": {},
   "outputs": [],
   "source": [
    "user_preference = user_preference / np.linalg.norm(user_preference)"
   ]
  },
  {
   "cell_type": "code",
   "execution_count": 122,
   "metadata": {},
   "outputs": [
    {
     "output_type": "execute_result",
     "data": {
      "text/plain": [
       "여행      0.000000\n",
       "영화      0.000000\n",
       "사랑      0.186879\n",
       "에세이     0.000000\n",
       "그림일기    0.217054\n",
       "          ...   \n",
       "본인      0.000000\n",
       "체험학습    0.000000\n",
       "선물투자    0.000000\n",
       "시금치     0.000000\n",
       "벌금      0.000000\n",
       "Length: 7000, dtype: float64"
      ]
     },
     "metadata": {},
     "execution_count": 122
    }
   ],
   "source": [
    "user_preference"
   ]
  },
  {
   "cell_type": "code",
   "execution_count": 135,
   "metadata": {},
   "outputs": [],
   "source": [
    "post_subsample = np.random.choice(600000, 1000, replace=False).tolist() # 가중 확률도 괜찮겠다"
   ]
  },
  {
   "cell_type": "code",
   "execution_count": 137,
   "metadata": {},
   "outputs": [],
   "source": [
    "tfidf_subsample = load_tfidf(post_meta_id_list=post_subsample, tfidf_dir=tfidf_dir, vocab_dir=vocab_dir, drop_id=True)"
   ]
  },
  {
   "cell_type": "code",
   "execution_count": 140,
   "metadata": {},
   "outputs": [
    {
     "output_type": "execute_result",
     "data": {
      "text/plain": [
       "array([0.        , 0.        , 0.18687906, ..., 0.        , 0.        ,\n",
       "       0.        ])"
      ]
     },
     "metadata": {},
     "execution_count": 140
    }
   ],
   "source": []
  },
  {
   "cell_type": "code",
   "execution_count": 151,
   "metadata": {},
   "outputs": [],
   "source": [
    "recommend_list = (tfidf_subsample * user_preference.values).sum(axis=1).sort_values(ascending=False).head(100).index.tolist()"
   ]
  },
  {
   "cell_type": "code",
   "execution_count": 154,
   "metadata": {},
   "outputs": [],
   "source": [
    "recommend_list_decoded = [post_id_decode[i] for i in recommend_list]"
   ]
  },
  {
   "cell_type": "code",
   "execution_count": 155,
   "metadata": {},
   "outputs": [
    {
     "output_type": "execute_result",
     "data": {
      "text/plain": [
       "['@tallguy_213',\n",
       " '@sharppen01_20',\n",
       " '@moonwindtre_240',\n",
       " '@bookfit_3642',\n",
       " '@haninorway19_103',\n",
       " '@ameliekim2016_38',\n",
       " '@chkwon91_10',\n",
       " '@mobiinside_559',\n",
       " '@leedongdong_58',\n",
       " '@psychorops_48',\n",
       " '@slist_86',\n",
       " '@drawingbutler_10',\n",
       " '@iampact_27',\n",
       " '@begini_379',\n",
       " '@ranrandambee_53',\n",
       " '@triple_26',\n",
       " '@littlechamber_16',\n",
       " '@ddaddassi_112',\n",
       " '@peregrino97_872',\n",
       " '@ubermensch_29',\n",
       " '@theedit_366',\n",
       " '@capotea_118',\n",
       " '@tomssi_55',\n",
       " '@antifreezie_2',\n",
       " '@yooym2000_162',\n",
       " '@byulkim_102',\n",
       " '@mori3_52',\n",
       " '@tiara8743_31',\n",
       " '@kateyoungheekwo_26',\n",
       " '@byulkim_106',\n",
       " '@eunmikim_146',\n",
       " '@jamon_2',\n",
       " '@hotelscomkr_45',\n",
       " '@9320km_50',\n",
       " '@csco2pw2gt_27',\n",
       " '@simplestories_63',\n",
       " '@bonfire_331',\n",
       " '@gunbbang_408',\n",
       " '@sound-travel_42',\n",
       " '@elang8151_222',\n",
       " '@simplestories_65',\n",
       " '@kohwang56_87',\n",
       " '@vhfhflya_45',\n",
       " '@glassdice_22',\n",
       " '@futurewave_492',\n",
       " '@garbar_384',\n",
       " '@lasw2324_28',\n",
       " '@eewol_41',\n",
       " '@gipyung_159',\n",
       " '@doyeonsunim_168',\n",
       " '@brunchfkx_8',\n",
       " '@marupress_149',\n",
       " '@byulkim_105',\n",
       " '@rana-na_26',\n",
       " '@kimssibang_10',\n",
       " '@travel-bike_392',\n",
       " '@m-life_280',\n",
       " '@m-life_283',\n",
       " '@ssolmii_20',\n",
       " '@glamcha_1',\n",
       " '@slist_82',\n",
       " '@glamcha_8',\n",
       " '@littlechamber_11',\n",
       " '@parksiho_4',\n",
       " '@newdream01_279',\n",
       " '@chofang1_5',\n",
       " '@drawingbutler_13',\n",
       " '@allstay_366',\n",
       " '@pencil-k_470',\n",
       " '@moonwindtre_249',\n",
       " '@starskylight_91',\n",
       " '@baejaka_39',\n",
       " '@day-a_34',\n",
       " '@annashim_3',\n",
       " '@cupandsaucer_29',\n",
       " '@bong_877',\n",
       " '@mrs-ssong_14',\n",
       " '@yourboyhood_44',\n",
       " '@bong_872',\n",
       " '@bryceandjuli_88',\n",
       " '@purnbd_8',\n",
       " '@hyeonwoo_18',\n",
       " '@k-jlee_328',\n",
       " '@acdcrock_282',\n",
       " '@heroyw1_58',\n",
       " '@sting762_9',\n",
       " '@swkyung0221_2',\n",
       " '@fskene_247',\n",
       " '@shinis_26',\n",
       " '@roke_73',\n",
       " '@parksiho_8',\n",
       " '@chkwon91_12',\n",
       " '@byulkim_101',\n",
       " '@onec_516',\n",
       " '@maama_317',\n",
       " '@daro_4',\n",
       " '@hallym_146',\n",
       " '@joeshin_41',\n",
       " '@ihanvin_48',\n",
       " '@paxcom_73']"
      ]
     },
     "metadata": {},
     "execution_count": 155
    }
   ],
   "source": [
    "recommend_list_decoded"
   ]
  }
 ],
 "metadata": {
  "kernelspec": {
   "display_name": "Python 3",
   "language": "python",
   "name": "python3"
  },
  "language_info": {
   "codemirror_mode": {
    "name": "ipython",
    "version": 3
   },
   "file_extension": ".py",
   "mimetype": "text/x-python",
   "name": "python",
   "nbconvert_exporter": "python",
   "pygments_lexer": "ipython3",
   "version": "3.7.10-final"
  }
 },
 "nbformat": 4,
 "nbformat_minor": 2
}