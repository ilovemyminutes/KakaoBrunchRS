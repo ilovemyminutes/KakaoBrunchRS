{
 "cells": [
  {
   "cell_type": "code",
   "execution_count": 2,
   "metadata": {},
   "outputs": [],
   "source": [
    "import os\n",
    "import ast\n",
    "import pickle\n",
    "import time\n",
    "from tqdm import tqdm\n",
    "import json\n",
    "from glob import glob\n",
    "from collections import Counter, defaultdict\n",
    "import sys\n",
    "sys.path.insert(0, '../')\n",
    "\n",
    "import pandas as pd\n",
    "import numpy as np\n",
    "\n",
    "from load_data import load_user_time_read\n",
    "from tfidf import TFIDFGenerator\n",
    "from config import DataRoots\n",
    "from utils import iterate_data_files, squeeze\n",
    "from preprocessing import PostIdEncoder"
   ]
  },
  {
   "cell_type": "code",
   "execution_count": 3,
   "metadata": {},
   "outputs": [
    {
     "output_type": "stream",
     "name": "stdout",
     "text": [
      "Loading time: 13.23488998413086\n"
     ]
    }
   ],
   "source": [
    "start = time.time()\n",
    "user_time_read = load_user_time_read(root_dir='../preprocessed/user_time_read.json')\n",
    "encoder = PostIdEncoder(root_dir='../encodings')\n",
    "tfidf = TFIDFGenerator('../tfidf')\n",
    "print(f'Loading time: {time.time() - start}')"
   ]
  },
  {
   "cell_type": "code",
   "execution_count": 9,
   "metadata": {},
   "outputs": [],
   "source": [
    "user_list = list(user_time_read.keys())\n",
    "history = user_time_read[user_list[0]] # 한 유저의 히스토리"
   ]
  },
  {
   "cell_type": "code",
   "execution_count": 37,
   "metadata": {},
   "outputs": [
    {
     "output_type": "stream",
     "name": "stderr",
     "text": [
      "100%|██████████| 100/100 [02:15<00:00,  1.36s/it]\n"
     ]
    }
   ],
   "source": [
    "user_preferences = []\n",
    "\n",
    "for i in tqdm(range(100)):\n",
    "    history = user_time_read[user_list[i]]\n",
    "    temp = pd.DataFrame()\n",
    "    for h in history:\n",
    "        temp = pd.concat([temp, tfidf.generate(encoder.transform(h[-1]))], axis=0, ignore_index=True)\n",
    "    user_preferences.append(temp.sum())"
   ]
  },
  {
   "cell_type": "code",
   "execution_count": 53,
   "metadata": {},
   "outputs": [],
   "source": [
    "import seaborn as sns"
   ]
  },
  {
   "cell_type": "code",
   "execution_count": null,
   "metadata": {},
   "outputs": [],
   "source": [
    "user_preferences[0].reset_index().reset_index()"
   ]
  },
  {
   "cell_type": "code",
   "execution_count": 11,
   "metadata": {},
   "outputs": [],
   "source": [
    " def load_encoder(root_dir: str):\n",
    "    decoder_path = os.path.join(root_dir, 'post_id_encoding.pickle')\n",
    "    with open(decoder_path, \"rb\") as handle:\n",
    "        decoder = pickle.load(handle)\n",
    "    return decoder"
   ]
  },
  {
   "cell_type": "code",
   "execution_count": 18,
   "metadata": {},
   "outputs": [
    {
     "output_type": "execute_result",
     "data": {
      "text/plain": [
       "False"
      ]
     },
     "metadata": {},
     "execution_count": 18
    }
   ],
   "source": [
    "'1' in encoder.keys()"
   ]
  },
  {
   "cell_type": "code",
   "execution_count": 16,
   "metadata": {},
   "outputs": [
    {
     "output_type": "execute_result",
     "data": {
      "text/plain": [
       "['@miyoungbaek_27']"
      ]
     },
     "metadata": {},
     "execution_count": 16
    }
   ],
   "source": [
    "[i for i in ['@miyoungbaek_27'] if i in encoder]"
   ]
  },
  {
   "cell_type": "code",
   "execution_count": 12,
   "metadata": {},
   "outputs": [],
   "source": [
    "path = {'train': '../preprocessed/train', 'dev': '../preprocessed/dev'}"
   ]
  },
  {
   "cell_type": "code",
   "execution_count": 14,
   "metadata": {},
   "outputs": [],
   "source": [
    "dev = open(path['dev'], 'r').readlines()"
   ]
  },
  {
   "cell_type": "code",
   "execution_count": 16,
   "metadata": {},
   "outputs": [
    {
     "output_type": "execute_result",
     "data": {
      "text/plain": [
       "'#a0923400c3255b40221fcf35a0735bd4 @brunch_151 @syshine7_56 @cli-annah_639 @taekangk_61 @2highlight_63 @brunch_151\\n'"
      ],
      "application/vnd.google.colaboratory.intrinsic+json": {
       "type": "string"
      }
     },
     "metadata": {},
     "execution_count": 16
    }
   ],
   "source": [
    "dev"
   ]
  },
  {
   "cell_type": "code",
   "execution_count": 6,
   "metadata": {},
   "outputs": [
    {
     "output_type": "execute_result",
     "data": {
      "text/plain": [
       "306222"
      ]
     },
     "metadata": {},
     "execution_count": 6
    }
   ],
   "source": [
    "len(user_time_read)"
   ]
  },
  {
   "source": [
    "재구성된 read 데이터\n",
    "```python\n",
    "{\n",
    "    '#유저식별자1': \n",
    "        {\n",
    "            '날짜1': [조회글1, 조회글2, ...],\n",
    "            '날짜2': [조회글1, 조회글2, ...], \n",
    "            ...\n",
    "        },\n",
    "    '#유저식별자2':\n",
    "        {\n",
    "            '날짜1': [조회글1, 조회글2, ...],\n",
    "            '날짜2': [조회글1, 조회글2, ...], \n",
    "            ...\n",
    "        }\n",
    "    \n",
    "}\n",
    "```"
   ],
   "cell_type": "markdown",
   "metadata": {}
  },
  {
   "cell_type": "code",
   "execution_count": 4,
   "metadata": {},
   "outputs": [
    {
     "output_type": "error",
     "ename": "NameError",
     "evalue": "name 'reads' is not defined",
     "traceback": [
      "\u001b[0;31m---------------------------------------------------------------------------\u001b[0m",
      "\u001b[0;31mNameError\u001b[0m                                 Traceback (most recent call last)",
      "\u001b[0;32m<ipython-input-4-5a629b06f38d>\u001b[0m in \u001b[0;36m<module>\u001b[0;34m()\u001b[0m\n\u001b[0;32m----> 1\u001b[0;31m \u001b[0mreads\u001b[0m\u001b[0;34m.\u001b[0m\u001b[0mhead\u001b[0m\u001b[0;34m(\u001b[0m\u001b[0;36m1000\u001b[0m\u001b[0;34m)\u001b[0m\u001b[0;34m\u001b[0m\u001b[0;34m\u001b[0m\u001b[0m\n\u001b[0m",
      "\u001b[0;31mNameError\u001b[0m: name 'reads' is not defined"
     ]
    }
   ],
   "source": [
    "reads.head(1000)"
   ]
  },
  {
   "cell_type": "code",
   "execution_count": 127,
   "metadata": {},
   "outputs": [],
   "source": [
    "reads_subset = reads.head(1000)"
   ]
  },
  {
   "cell_type": "code",
   "execution_count": 128,
   "metadata": {},
   "outputs": [],
   "source": [
    "user_private_list = reads_subset['user_private'].unique().tolist()"
   ]
  },
  {
   "cell_type": "code",
   "execution_count": 103,
   "metadata": {},
   "outputs": [],
   "source": [
    "sample = user_private_list[i]\n",
    "reads_user = reads.loc[reads['user_private']==sample]\n",
    "reads_user = reads_user.drop('user_private', axis=1)"
   ]
  },
  {
   "cell_type": "code",
   "execution_count": null,
   "metadata": {},
   "outputs": [],
   "source": [
    "defaultdict"
   ]
  },
  {
   "cell_type": "code",
   "execution_count": 110,
   "metadata": {},
   "outputs": [],
   "source": [
    "user_log_dict = defaultdict(list)\n",
    "for _, series in reads_user.iterrows():\n",
    "    log_piece = {series['start_time']: series['sequence']}\n",
    "    user_log_dict[sample].append(log_piece)"
   ]
  },
  {
   "cell_type": "code",
   "execution_count": 93,
   "metadata": {},
   "outputs": [],
   "source": [
    "time_logs = reads_user['start_time'].tolist() # start time of log"
   ]
  },
  {
   "cell_type": "code",
   "execution_count": 98,
   "metadata": {},
   "outputs": [
    {
     "output_type": "execute_result",
     "data": {
      "text/plain": [
       "start_time        2019012203\n",
       "sequence      [@dong02_1342]\n",
       "Name: 39, dtype: object"
      ]
     },
     "metadata": {},
     "execution_count": 98
    }
   ],
   "source": [
    "reads_user.iloc[0, :]"
   ]
  },
  {
   "cell_type": "code",
   "execution_count": 82,
   "metadata": {},
   "outputs": [
    {
     "output_type": "execute_result",
     "data": {
      "text/plain": [
       "(88, 3)"
      ]
     },
     "metadata": {},
     "execution_count": 82
    }
   ],
   "source": [
    "reads_user.shape"
   ]
  },
  {
   "cell_type": "code",
   "execution_count": 81,
   "metadata": {},
   "outputs": [
    {
     "output_type": "execute_result",
     "data": {
      "text/plain": [
       "88"
      ]
     },
     "metadata": {},
     "execution_count": 81
    }
   ],
   "source": []
  },
  {
   "cell_type": "code",
   "execution_count": 2,
   "metadata": {},
   "outputs": [],
   "source": [
    "tfidf_dir = Config.tfidf_root\n",
    "vocab_dir = Config.vocab_root\n",
    "data_root = Config.data_root"
   ]
  },
  {
   "cell_type": "code",
   "execution_count": 3,
   "metadata": {},
   "outputs": [
    {
     "output_type": "execute_result",
     "data": {
      "text/plain": [
       "   post_meta_id   여행   영화   사랑  에세이  그림일기  ...   의류   본인  체험학습  선물투자  시금치   벌금\n",
       "0             1  0.0  0.0  0.0  0.0   0.0  ...  0.0  0.0   0.0   0.0  0.0  0.0\n",
       "1             2  0.0  0.0  0.0  0.0   0.0  ...  0.0  0.0   0.0   0.0  0.0  0.0\n",
       "2             3  0.0  0.0  0.0  0.0   0.0  ...  0.0  0.0   0.0   0.0  0.0  0.0\n",
       "\n",
       "[3 rows x 7001 columns]"
      ],
      "text/html": "<div>\n<style scoped>\n    .dataframe tbody tr th:only-of-type {\n        vertical-align: middle;\n    }\n\n    .dataframe tbody tr th {\n        vertical-align: top;\n    }\n\n    .dataframe thead th {\n        text-align: right;\n    }\n</style>\n<table border=\"1\" class=\"dataframe\">\n  <thead>\n    <tr style=\"text-align: right;\">\n      <th></th>\n      <th>post_meta_id</th>\n      <th>여행</th>\n      <th>영화</th>\n      <th>사랑</th>\n      <th>에세이</th>\n      <th>그림일기</th>\n      <th>생각</th>\n      <th>공감에세이</th>\n      <th>일상</th>\n      <th>글쓰기</th>\n      <th>감성에세이</th>\n      <th>인생</th>\n      <th>행복</th>\n      <th>연애</th>\n      <th>소설</th>\n      <th>드로잉</th>\n      <th>독서</th>\n      <th>육아</th>\n      <th>그림</th>\n      <th>마음</th>\n      <th>사진</th>\n      <th>리뷰</th>\n      <th>엄마</th>\n      <th>음악</th>\n      <th>스타트업</th>\n      <th>시</th>\n      <th>유럽여행</th>\n      <th>일러스트</th>\n      <th>이별</th>\n      <th>마케팅</th>\n      <th>고양이</th>\n      <th>디자인</th>\n      <th>영화리뷰</th>\n      <th>웹툰</th>\n      <th>IT</th>\n      <th>직장인</th>\n      <th>감성</th>\n      <th>일기</th>\n      <th>사람</th>\n      <th>결혼</th>\n      <th>...</th>\n      <th>식도락</th>\n      <th>서민</th>\n      <th>F1</th>\n      <th>라디오헤드</th>\n      <th>연민</th>\n      <th>운동방법</th>\n      <th>여교사</th>\n      <th>하체</th>\n      <th>한약</th>\n      <th>족저근막염</th>\n      <th>좋은음악</th>\n      <th>총기</th>\n      <th>폭탄</th>\n      <th>도파민</th>\n      <th>산행후기</th>\n      <th>간병인</th>\n      <th>시화</th>\n      <th>고요함</th>\n      <th>멤버십</th>\n      <th>푸조</th>\n      <th>유럽연합</th>\n      <th>매체</th>\n      <th>눈높이</th>\n      <th>댄서</th>\n      <th>대상포진</th>\n      <th>블랙박스</th>\n      <th>불가능</th>\n      <th>연수</th>\n      <th>외침</th>\n      <th>신트라</th>\n      <th>삿포로여행</th>\n      <th>김수현</th>\n      <th>고부갈등</th>\n      <th>배달음식</th>\n      <th>의류</th>\n      <th>본인</th>\n      <th>체험학습</th>\n      <th>선물투자</th>\n      <th>시금치</th>\n      <th>벌금</th>\n    </tr>\n  </thead>\n  <tbody>\n    <tr>\n      <th>0</th>\n      <td>1</td>\n      <td>0.0</td>\n      <td>0.0</td>\n      <td>0.0</td>\n      <td>0.0</td>\n      <td>0.0</td>\n      <td>0.0</td>\n      <td>0.0</td>\n      <td>0.0</td>\n      <td>0.0</td>\n      <td>0.0</td>\n      <td>0.0</td>\n      <td>0.0</td>\n      <td>0.0</td>\n      <td>0.0</td>\n      <td>0.0</td>\n      <td>0.0</td>\n      <td>0.0</td>\n      <td>0.0</td>\n      <td>0.000000</td>\n      <td>0.0</td>\n      <td>0.0</td>\n      <td>0.0</td>\n      <td>0.0</td>\n      <td>0.0</td>\n      <td>0.0</td>\n      <td>0.0</td>\n      <td>0.0</td>\n      <td>0.0</td>\n      <td>0.0</td>\n      <td>0.0</td>\n      <td>0.0</td>\n      <td>0.0</td>\n      <td>0.0</td>\n      <td>0.0</td>\n      <td>0.0</td>\n      <td>0.0</td>\n      <td>0.0</td>\n      <td>0.0</td>\n      <td>0.0</td>\n      <td>...</td>\n      <td>0.0</td>\n      <td>0.0</td>\n      <td>0.0</td>\n      <td>0.0</td>\n      <td>0.0</td>\n      <td>0.0</td>\n      <td>0.0</td>\n      <td>0.0</td>\n      <td>0.0</td>\n      <td>0.0</td>\n      <td>0.0</td>\n      <td>0.0</td>\n      <td>0.0</td>\n      <td>0.0</td>\n      <td>0.0</td>\n      <td>0.0</td>\n      <td>0.0</td>\n      <td>0.0</td>\n      <td>0.0</td>\n      <td>0.0</td>\n      <td>0.0</td>\n      <td>0.0</td>\n      <td>0.0</td>\n      <td>0.0</td>\n      <td>0.0</td>\n      <td>0.0</td>\n      <td>0.0</td>\n      <td>0.0</td>\n      <td>0.0</td>\n      <td>0.0</td>\n      <td>0.0</td>\n      <td>0.0</td>\n      <td>0.0</td>\n      <td>0.0</td>\n      <td>0.0</td>\n      <td>0.0</td>\n      <td>0.0</td>\n      <td>0.0</td>\n      <td>0.0</td>\n      <td>0.0</td>\n    </tr>\n    <tr>\n      <th>1</th>\n      <td>2</td>\n      <td>0.0</td>\n      <td>0.0</td>\n      <td>0.0</td>\n      <td>0.0</td>\n      <td>0.0</td>\n      <td>0.0</td>\n      <td>0.0</td>\n      <td>0.0</td>\n      <td>0.0</td>\n      <td>0.0</td>\n      <td>0.0</td>\n      <td>0.0</td>\n      <td>0.0</td>\n      <td>0.0</td>\n      <td>0.0</td>\n      <td>0.0</td>\n      <td>0.0</td>\n      <td>0.0</td>\n      <td>0.000000</td>\n      <td>0.0</td>\n      <td>0.0</td>\n      <td>0.0</td>\n      <td>0.0</td>\n      <td>0.0</td>\n      <td>0.0</td>\n      <td>0.0</td>\n      <td>0.0</td>\n      <td>0.0</td>\n      <td>0.0</td>\n      <td>0.0</td>\n      <td>0.0</td>\n      <td>0.0</td>\n      <td>0.0</td>\n      <td>0.0</td>\n      <td>0.0</td>\n      <td>0.0</td>\n      <td>0.0</td>\n      <td>0.0</td>\n      <td>0.0</td>\n      <td>...</td>\n      <td>0.0</td>\n      <td>0.0</td>\n      <td>0.0</td>\n      <td>0.0</td>\n      <td>0.0</td>\n      <td>0.0</td>\n      <td>0.0</td>\n      <td>0.0</td>\n      <td>0.0</td>\n      <td>0.0</td>\n      <td>0.0</td>\n      <td>0.0</td>\n      <td>0.0</td>\n      <td>0.0</td>\n      <td>0.0</td>\n      <td>0.0</td>\n      <td>0.0</td>\n      <td>0.0</td>\n      <td>0.0</td>\n      <td>0.0</td>\n      <td>0.0</td>\n      <td>0.0</td>\n      <td>0.0</td>\n      <td>0.0</td>\n      <td>0.0</td>\n      <td>0.0</td>\n      <td>0.0</td>\n      <td>0.0</td>\n      <td>0.0</td>\n      <td>0.0</td>\n      <td>0.0</td>\n      <td>0.0</td>\n      <td>0.0</td>\n      <td>0.0</td>\n      <td>0.0</td>\n      <td>0.0</td>\n      <td>0.0</td>\n      <td>0.0</td>\n      <td>0.0</td>\n      <td>0.0</td>\n    </tr>\n    <tr>\n      <th>2</th>\n      <td>3</td>\n      <td>0.0</td>\n      <td>0.0</td>\n      <td>0.0</td>\n      <td>0.0</td>\n      <td>0.0</td>\n      <td>0.0</td>\n      <td>0.0</td>\n      <td>0.0</td>\n      <td>0.0</td>\n      <td>0.0</td>\n      <td>0.0</td>\n      <td>0.0</td>\n      <td>0.0</td>\n      <td>0.0</td>\n      <td>0.0</td>\n      <td>0.0</td>\n      <td>0.0</td>\n      <td>0.0</td>\n      <td>8.268116</td>\n      <td>0.0</td>\n      <td>0.0</td>\n      <td>0.0</td>\n      <td>0.0</td>\n      <td>0.0</td>\n      <td>0.0</td>\n      <td>0.0</td>\n      <td>0.0</td>\n      <td>0.0</td>\n      <td>0.0</td>\n      <td>0.0</td>\n      <td>0.0</td>\n      <td>0.0</td>\n      <td>0.0</td>\n      <td>0.0</td>\n      <td>0.0</td>\n      <td>0.0</td>\n      <td>0.0</td>\n      <td>0.0</td>\n      <td>0.0</td>\n      <td>...</td>\n      <td>0.0</td>\n      <td>0.0</td>\n      <td>0.0</td>\n      <td>0.0</td>\n      <td>0.0</td>\n      <td>0.0</td>\n      <td>0.0</td>\n      <td>0.0</td>\n      <td>0.0</td>\n      <td>0.0</td>\n      <td>0.0</td>\n      <td>0.0</td>\n      <td>0.0</td>\n      <td>0.0</td>\n      <td>0.0</td>\n      <td>0.0</td>\n      <td>0.0</td>\n      <td>0.0</td>\n      <td>0.0</td>\n      <td>0.0</td>\n      <td>0.0</td>\n      <td>0.0</td>\n      <td>0.0</td>\n      <td>0.0</td>\n      <td>0.0</td>\n      <td>0.0</td>\n      <td>0.0</td>\n      <td>0.0</td>\n      <td>0.0</td>\n      <td>0.0</td>\n      <td>0.0</td>\n      <td>0.0</td>\n      <td>0.0</td>\n      <td>0.0</td>\n      <td>0.0</td>\n      <td>0.0</td>\n      <td>0.0</td>\n      <td>0.0</td>\n      <td>0.0</td>\n      <td>0.0</td>\n    </tr>\n  </tbody>\n</table>\n<p>3 rows × 7001 columns</p>\n</div>"
     },
     "metadata": {},
     "execution_count": 3
    }
   ],
   "source": [
    "load_tfidf(post_meta_id_list=[1,2,3], tfidf_dir=tfidf_dir, vocab_dir=vocab_dir, drop_id=False)"
   ]
  },
  {
   "cell_type": "code",
   "execution_count": 4,
   "metadata": {},
   "outputs": [],
   "source": [
    "START_DEV = '2018100100'\n",
    "END_DEV = '2018101000'\n",
    "ROOT = '../raw'"
   ]
  },
  {
   "cell_type": "code",
   "execution_count": 7,
   "metadata": {},
   "outputs": [],
   "source": [
    "post_meta = pd.read_csv(os.path.join(ROOT, '../raw/preprocessed/post_meta_id.csv'))\n",
    "\n",
    "post_meta_id = post_meta['post_meta_id'].tolist()\n",
    "post_id = post_meta['post_id'].tolist()\n",
    "\n",
    "post_id_encoding = {i:j for i, j in zip(post_id, post_meta_id)}\n",
    "post_id_decoding = {i:j for i, j in zip(post_meta_id, post_id)}"
   ]
  },
  {
   "cell_type": "code",
   "execution_count": 5,
   "metadata": {
    "tags": []
   },
   "outputs": [
    {
     "output_type": "stream",
     "name": "stderr",
     "text": [
      "216it [00:44,  4.81it/s]\n"
     ]
    }
   ],
   "source": [
    "records = [[line.strip().split() for line in open(path)] for path, _ in tqdm(iterate_data_files(from_dtm=START_DEV, to_dtm=END_DEV, root_dir=ROOT))]r"
   ]
  },
  {
   "cell_type": "code",
   "execution_count": 22,
   "metadata": {},
   "outputs": [],
   "source": [
    "path = glob('../raw/read/*')[0]"
   ]
  },
  {
   "cell_type": "code",
   "execution_count": 57,
   "metadata": {},
   "outputs": [],
   "source": [
    "read_list = glob('../raw/read/*')[:1500]"
   ]
  },
  {
   "cell_type": "code",
   "execution_count": 59,
   "metadata": {},
   "outputs": [
    {
     "output_type": "stream",
     "name": "stdout",
     "text": [
      "0.11149210532506307\n"
     ]
    }
   ],
   "source": [
    "start = time.time()\n",
    "\n",
    "lines = []\n",
    "for path in read_list:\n",
    "    lines.append([line.split() for line in open(path)])\n",
    "\n",
    "print((time.time() - start) / 60)"
   ]
  },
  {
   "cell_type": "code",
   "execution_count": null,
   "metadata": {},
   "outputs": [],
   "source": [
    "def load_read(path: str) -> list:\n",
    "    return [line.split() for line in open(path)]"
   ]
  },
  {
   "cell_type": "code",
   "execution_count": 58,
   "metadata": {
    "tags": []
   },
   "outputs": [
    {
     "output_type": "stream",
     "name": "stdout",
     "text": [
      "3.862061850229899\n"
     ]
    }
   ],
   "source": [
    "start = time.time()\n",
    "\n",
    "output = pd.Series(read_list).apply(lambda x: load_read(x))\n",
    "\n",
    "print((time.time() - start) / 60)"
   ]
  },
  {
   "cell_type": "code",
   "execution_count": 21,
   "metadata": {},
   "outputs": [
    {
     "output_type": "execute_result",
     "data": {
      "text/plain": [
       "    #ac9d9762cb49332f6e2cd153ba91434c @dalda_256 @dalda_256 @seongheeleelrwn_2 @elliyalove_128 @thecapitalist_178 @thecapitalist_178 @jigunamja_1571 @tjkmix_416 @yurigin_115 @yurigin_115 @yurigin_114 \n",
       "0    #b6a40aa32c58fe28e2b823189bffddd0 @dailylife_2...                                                                                                                                                  \n",
       "1      #c85abb6187a05fe5f37eabae6e6e5c0d @hedijung_93                                                                                                                                                   \n",
       "2    #7b321056618b7dfe6723b7db437f4f4e @bang1999_46...                                                                                                                                                  \n",
       "3    #a8a993fd98c4b2ede6296474e6aec399 @hitchwill_1...                                                                                                                                                  \n",
       "4    #a29f5a6f6a6dcfb245ac945c2836a085 @lynnata_191...                                                                                                                                                  \n",
       "..                                                 ...                                                                                                                                                  \n",
       "333  #5a4a085241e6c227238e3c0a1fdd8d24 @hitchwill_1...                                                                                                                                                  \n",
       "334  #59f0bdda5c68a2d5c341add4d4a98cde @beautyinsig...                                                                                                                                                  \n",
       "335  #6116ce0d156cd8a3df7e11fd7a29897e @designforhu...                                                                                                                                                  \n",
       "336  #b5ddf18495eaff52385296b65671603d @paradic_220...                                                                                                                                                  \n",
       "337     #9566654ed5c33352fa5ac78e6d3ca132 @nareun_205                                                                                                                                                   \n",
       "\n",
       "[338 rows x 1 columns]"
      ],
      "text/html": "<div>\n<style scoped>\n    .dataframe tbody tr th:only-of-type {\n        vertical-align: middle;\n    }\n\n    .dataframe tbody tr th {\n        vertical-align: top;\n    }\n\n    .dataframe thead th {\n        text-align: right;\n    }\n</style>\n<table border=\"1\" class=\"dataframe\">\n  <thead>\n    <tr style=\"text-align: right;\">\n      <th></th>\n      <th>#ac9d9762cb49332f6e2cd153ba91434c @dalda_256 @dalda_256 @seongheeleelrwn_2 @elliyalove_128 @thecapitalist_178 @thecapitalist_178 @jigunamja_1571 @tjkmix_416 @yurigin_115 @yurigin_115 @yurigin_114</th>\n    </tr>\n  </thead>\n  <tbody>\n    <tr>\n      <th>0</th>\n      <td>#b6a40aa32c58fe28e2b823189bffddd0 @dailylife_2...</td>\n    </tr>\n    <tr>\n      <th>1</th>\n      <td>#c85abb6187a05fe5f37eabae6e6e5c0d @hedijung_93</td>\n    </tr>\n    <tr>\n      <th>2</th>\n      <td>#7b321056618b7dfe6723b7db437f4f4e @bang1999_46...</td>\n    </tr>\n    <tr>\n      <th>3</th>\n      <td>#a8a993fd98c4b2ede6296474e6aec399 @hitchwill_1...</td>\n    </tr>\n    <tr>\n      <th>4</th>\n      <td>#a29f5a6f6a6dcfb245ac945c2836a085 @lynnata_191...</td>\n    </tr>\n    <tr>\n      <th>...</th>\n      <td>...</td>\n    </tr>\n    <tr>\n      <th>333</th>\n      <td>#5a4a085241e6c227238e3c0a1fdd8d24 @hitchwill_1...</td>\n    </tr>\n    <tr>\n      <th>334</th>\n      <td>#59f0bdda5c68a2d5c341add4d4a98cde @beautyinsig...</td>\n    </tr>\n    <tr>\n      <th>335</th>\n      <td>#6116ce0d156cd8a3df7e11fd7a29897e @designforhu...</td>\n    </tr>\n    <tr>\n      <th>336</th>\n      <td>#b5ddf18495eaff52385296b65671603d @paradic_220...</td>\n    </tr>\n    <tr>\n      <th>337</th>\n      <td>#9566654ed5c33352fa5ac78e6d3ca132 @nareun_205</td>\n    </tr>\n  </tbody>\n</table>\n<p>338 rows × 1 columns</p>\n</div>"
     },
     "metadata": {},
     "execution_count": 21
    }
   ],
   "source": [
    "pd.read_csv(read_list[0])"
   ]
  },
  {
   "cell_type": "code",
   "execution_count": 104,
   "metadata": {
    "tags": []
   },
   "outputs": [
    {
     "output_type": "stream",
     "name": "stderr",
     "text": [
      "\n",
      "\n",
      "\n",
      "  0%|          | 0/5 [00:00<?, ?it/s]\u001b[A\u001b[A\u001b[A\n",
      "\n",
      "\n",
      " 20%|██        | 1/5 [00:28<01:55, 28.85s/it]\u001b[A\u001b[A\u001b[A\n",
      "\n",
      "\n",
      " 40%|████      | 2/5 [01:28<01:53, 37.98s/it]\u001b[A\u001b[A\u001b[A\n",
      "\n",
      "\n",
      " 60%|██████    | 3/5 [01:53<01:08, 34.28s/it]\u001b[A\u001b[A\u001b[A\n",
      "\n",
      "\n",
      " 80%|████████  | 4/5 [02:38<00:37, 37.55s/it]\u001b[A\u001b[A\u001b[A\n",
      "\n",
      "\n",
      "100%|██████████| 5/5 [03:19<00:00, 39.94s/it]\n"
     ]
    }
   ],
   "source": [
    "for record in tqdm(records[:5]):\n",
    "    for r in record:\n",
    "        user, posts_raw = r[0], r[1:]\n",
    "        posts = [post_id_dict[p] for p in posts_raw if p in post_id]\n",
    "        user_logs[user].extend(posts)"
   ]
  },
  {
   "cell_type": "code",
   "execution_count": 111,
   "metadata": {},
   "outputs": [],
   "source": [
    "sample_id_list = user_logs['#fb3b42b92d96f00afd5bf62d3575db53']"
   ]
  },
  {
   "cell_type": "code",
   "execution_count": 112,
   "metadata": {},
   "outputs": [],
   "source": [
    "tfidf = load_tfidf(post_meta_id_list=sample_id_list, tfidf_dir=tfidf_dir, vocab_dir=vocab_dir, drop_id=True)"
   ]
  },
  {
   "cell_type": "code",
   "execution_count": 113,
   "metadata": {},
   "outputs": [],
   "source": [
    "tfidf = tfidf.apply(lambda x: x / np.linalg.norm(x), axis=1)"
   ]
  },
  {
   "cell_type": "code",
   "execution_count": 114,
   "metadata": {},
   "outputs": [],
   "source": [
    "user_preference = tfidf.sum(axis=0)"
   ]
  },
  {
   "cell_type": "code",
   "execution_count": 121,
   "metadata": {},
   "outputs": [],
   "source": [
    "user_preference = user_preference / np.linalg.norm(user_preference)"
   ]
  },
  {
   "cell_type": "code",
   "execution_count": 122,
   "metadata": {},
   "outputs": [
    {
     "output_type": "execute_result",
     "data": {
      "text/plain": [
       "여행      0.000000\n",
       "영화      0.000000\n",
       "사랑      0.186879\n",
       "에세이     0.000000\n",
       "그림일기    0.217054\n",
       "          ...   \n",
       "본인      0.000000\n",
       "체험학습    0.000000\n",
       "선물투자    0.000000\n",
       "시금치     0.000000\n",
       "벌금      0.000000\n",
       "Length: 7000, dtype: float64"
      ]
     },
     "metadata": {},
     "execution_count": 122
    }
   ],
   "source": [
    "user_preference"
   ]
  },
  {
   "cell_type": "code",
   "execution_count": 135,
   "metadata": {},
   "outputs": [],
   "source": [
    "post_subsample = np.random.choice(600000, 1000, replace=False).tolist() # 가중 확률도 괜찮겠다"
   ]
  },
  {
   "cell_type": "code",
   "execution_count": 137,
   "metadata": {},
   "outputs": [],
   "source": [
    "tfidf_subsample = load_tfidf(post_meta_id_list=post_subsample, tfidf_dir=tfidf_dir, vocab_dir=vocab_dir, drop_id=True)"
   ]
  },
  {
   "cell_type": "code",
   "execution_count": 140,
   "metadata": {},
   "outputs": [
    {
     "output_type": "execute_result",
     "data": {
      "text/plain": [
       "array([0.        , 0.        , 0.18687906, ..., 0.        , 0.        ,\n",
       "       0.        ])"
      ]
     },
     "metadata": {},
     "execution_count": 140
    }
   ],
   "source": []
  },
  {
   "cell_type": "code",
   "execution_count": 151,
   "metadata": {},
   "outputs": [],
   "source": [
    "recommend_list = (tfidf_subsample * user_preference.values).sum(axis=1).sort_values(ascending=False).head(100).index.tolist()"
   ]
  },
  {
   "cell_type": "code",
   "execution_count": 154,
   "metadata": {},
   "outputs": [],
   "source": [
    "recommend_list_decoded = [post_id_decode[i] for i in recommend_list]"
   ]
  },
  {
   "cell_type": "code",
   "execution_count": 155,
   "metadata": {},
   "outputs": [
    {
     "output_type": "execute_result",
     "data": {
      "text/plain": [
       "['@tallguy_213',\n",
       " '@sharppen01_20',\n",
       " '@moonwindtre_240',\n",
       " '@bookfit_3642',\n",
       " '@haninorway19_103',\n",
       " '@ameliekim2016_38',\n",
       " '@chkwon91_10',\n",
       " '@mobiinside_559',\n",
       " '@leedongdong_58',\n",
       " '@psychorops_48',\n",
       " '@slist_86',\n",
       " '@drawingbutler_10',\n",
       " '@iampact_27',\n",
       " '@begini_379',\n",
       " '@ranrandambee_53',\n",
       " '@triple_26',\n",
       " '@littlechamber_16',\n",
       " '@ddaddassi_112',\n",
       " '@peregrino97_872',\n",
       " '@ubermensch_29',\n",
       " '@theedit_366',\n",
       " '@capotea_118',\n",
       " '@tomssi_55',\n",
       " '@antifreezie_2',\n",
       " '@yooym2000_162',\n",
       " '@byulkim_102',\n",
       " '@mori3_52',\n",
       " '@tiara8743_31',\n",
       " '@kateyoungheekwo_26',\n",
       " '@byulkim_106',\n",
       " '@eunmikim_146',\n",
       " '@jamon_2',\n",
       " '@hotelscomkr_45',\n",
       " '@9320km_50',\n",
       " '@csco2pw2gt_27',\n",
       " '@simplestories_63',\n",
       " '@bonfire_331',\n",
       " '@gunbbang_408',\n",
       " '@sound-travel_42',\n",
       " '@elang8151_222',\n",
       " '@simplestories_65',\n",
       " '@kohwang56_87',\n",
       " '@vhfhflya_45',\n",
       " '@glassdice_22',\n",
       " '@futurewave_492',\n",
       " '@garbar_384',\n",
       " '@lasw2324_28',\n",
       " '@eewol_41',\n",
       " '@gipyung_159',\n",
       " '@doyeonsunim_168',\n",
       " '@brunchfkx_8',\n",
       " '@marupress_149',\n",
       " '@byulkim_105',\n",
       " '@rana-na_26',\n",
       " '@kimssibang_10',\n",
       " '@travel-bike_392',\n",
       " '@m-life_280',\n",
       " '@m-life_283',\n",
       " '@ssolmii_20',\n",
       " '@glamcha_1',\n",
       " '@slist_82',\n",
       " '@glamcha_8',\n",
       " '@littlechamber_11',\n",
       " '@parksiho_4',\n",
       " '@newdream01_279',\n",
       " '@chofang1_5',\n",
       " '@drawingbutler_13',\n",
       " '@allstay_366',\n",
       " '@pencil-k_470',\n",
       " '@moonwindtre_249',\n",
       " '@starskylight_91',\n",
       " '@baejaka_39',\n",
       " '@day-a_34',\n",
       " '@annashim_3',\n",
       " '@cupandsaucer_29',\n",
       " '@bong_877',\n",
       " '@mrs-ssong_14',\n",
       " '@yourboyhood_44',\n",
       " '@bong_872',\n",
       " '@bryceandjuli_88',\n",
       " '@purnbd_8',\n",
       " '@hyeonwoo_18',\n",
       " '@k-jlee_328',\n",
       " '@acdcrock_282',\n",
       " '@heroyw1_58',\n",
       " '@sting762_9',\n",
       " '@swkyung0221_2',\n",
       " '@fskene_247',\n",
       " '@shinis_26',\n",
       " '@roke_73',\n",
       " '@parksiho_8',\n",
       " '@chkwon91_12',\n",
       " '@byulkim_101',\n",
       " '@onec_516',\n",
       " '@maama_317',\n",
       " '@daro_4',\n",
       " '@hallym_146',\n",
       " '@joeshin_41',\n",
       " '@ihanvin_48',\n",
       " '@paxcom_73']"
      ]
     },
     "metadata": {},
     "execution_count": 155
    }
   ],
   "source": [
    "recommend_list_decoded"
   ]
  }
 ],
 "metadata": {
  "kernelspec": {
   "display_name": "Python 3",
   "language": "python",
   "name": "python3"
  },
  "language_info": {
   "codemirror_mode": {
    "name": "ipython",
    "version": 3
   },
   "file_extension": ".py",
   "mimetype": "text/x-python",
   "name": "python",
   "nbconvert_exporter": "python",
   "pygments_lexer": "ipython3",
   "version": "3.7.10-final"
  }
 },
 "nbformat": 4,
 "nbformat_minor": 2
}