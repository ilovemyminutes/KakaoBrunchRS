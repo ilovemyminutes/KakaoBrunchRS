{
 "cells": [
  {
   "cell_type": "code",
   "execution_count": 17,
   "metadata": {},
   "outputs": [],
   "source": [
    "import os\n",
    "import ast\n",
    "import pickle\n",
    "import time\n",
    "from tqdm import tqdm\n",
    "import json\n",
    "from glob import glob\n",
    "from collections import Counter, defaultdict\n",
    "import sys\n",
    "sys.path.insert(0, '../')\n",
    "\n",
    "import pandas as pd\n",
    "import numpy as np\n",
    "from scipy import sparse\n",
    "\n",
    "from load_data import load_user_time_read, load_raw\n",
    "from tfidf import TFIDFGenerator, get_df\n",
    "from config import Config\n",
    "from utils import iterate_data_files, squeeze, save_as_pickle, load_pickle, squeeze\n",
    "from preprocessing import PostIdEncoder\n",
    "from user_preference import calculate_user_preferences, _filter_read_by_time"
   ]
  },
  {
   "cell_type": "code",
   "execution_count": 4,
   "metadata": {},
   "outputs": [],
   "source": [
    "user_time_read = load_user_time_read('../preprocessed/user_time_read.json')"
   ]
  },
  {
   "cell_type": "code",
   "execution_count": 10,
   "metadata": {},
   "outputs": [
    {
     "output_type": "execute_result",
     "data": {
      "text/plain": [
       "['(2018100100-2019022200)recommend_output.npz',\n",
       " '(2018100100-2019022200)user_preferences.npz',\n",
       " '(2018100100-2019022200)idf.npy',\n",
       " '(2018100100-2019022200)posts.npz',\n",
       " '(2018100100-2019022200)post_meta_id.pkl']"
      ]
     },
     "metadata": {},
     "execution_count": 10
    }
   ],
   "source": [
    "os.listdir('../recommendation_sources/2018100100-2019022200')"
   ]
  },
  {
   "cell_type": "code",
   "execution_count": 9,
   "metadata": {},
   "outputs": [
    {
     "output_type": "execute_result",
     "data": {
      "text/plain": [
       "'./user_id_lists/dev.pkl'"
      ],
      "application/vnd.google.colaboratory.intrinsic+json": {
       "type": "string"
      }
     },
     "metadata": {},
     "execution_count": 9
    }
   ],
   "source": [
    "Config.dev_user_list"
   ]
  },
  {
   "cell_type": "code",
   "execution_count": 11,
   "metadata": {},
   "outputs": [],
   "source": [
    "PATH = '../recommendation_sources/2018100100-2019022200'\n",
    "user_id_list = load_pickle('../user_id_lists/test.pkl')\n",
    "recommend_output = sparse.load_npz(os.path.join(PATH, '(2018100100-2019022200)recommend_output.npz'))\n",
    "post_meta_id = load_pickle(os.path.join(PATH, '(2018100100-2019022200)post_meta_id.pkl'))"
   ]
  },
  {
   "cell_type": "code",
   "execution_count": 12,
   "metadata": {},
   "outputs": [
    {
     "output_type": "execute_result",
     "data": {
      "text/plain": [
       "(217339, 5000)"
      ]
     },
     "metadata": {},
     "execution_count": 12
    }
   ],
   "source": [
    "recommend_output.shape"
   ]
  },
  {
   "cell_type": "code",
   "execution_count": 62,
   "metadata": {},
   "outputs": [
    {
     "output_type": "execute_result",
     "data": {
      "text/plain": [
       "'#8420b9385b282028eebf1ad6b4a221c0'"
      ],
      "application/vnd.google.colaboratory.intrinsic+json": {
       "type": "string"
      }
     },
     "metadata": {},
     "execution_count": 62
    }
   ],
   "source": [
    "user_id_list[1]"
   ]
  },
  {
   "cell_type": "code",
   "execution_count": 64,
   "metadata": {},
   "outputs": [],
   "source": [
    "output_path = '../output'"
   ]
  },
  {
   "cell_type": "code",
   "execution_count": 69,
   "metadata": {},
   "outputs": [],
   "source": [
    "SPACE = ' '\n",
    "with open(os.path.join(output_path, 'recommend.txt'), 'w') as file:\n",
    "    for idx in range(2):\n",
    "        user_id = user_id_list[idx]\n",
    "        seens = _filter_read_by_time(user_time_read[user_id], start=Config.train_start, end=Config.train_end)\n",
    "        seens = squeeze(list(map(lambda x: x[-1], seens)))\n",
    "        recommend_raw = recommend_output[:, idx]\n",
    "        recommend_raw = pd.Series(recommend_raw.toarray().flatten(), index=post_meta_id).sort_values(ascending=False)\n",
    "        recommend_raw = recommend_raw[~recommend_raw.index.isin(seens)].head(100).index.tolist()\n",
    "        recommend = list(map(lambda x: encoder.inverse_transform(x), recommend_raw))\n",
    "        file.write(f'{user_id} ')\n",
    "        file.write(f\"{' '.join(recommend)}\\n\")"
   ]
  },
  {
   "cell_type": "code",
   "execution_count": 58,
   "metadata": {},
   "outputs": [
    {
     "output_type": "execute_result",
     "data": {
      "text/plain": [
       "['@wlsalsdnek_39',\n",
       " '@writeraaa_99',\n",
       " '@namhyojin_2',\n",
       " '@hws321_210',\n",
       " '@melbeducatorb_14',\n",
       " '@lemon-12_131',\n",
       " '@hoza02_11',\n",
       " '@smcv118_28',\n",
       " '@yoonijsong_64',\n",
       " '@selah_37',\n",
       " '@choyh7945_4',\n",
       " '@groscalin_44',\n",
       " '@sting762_145',\n",
       " '@bule13_13',\n",
       " '@johny1140_92',\n",
       " '@in-ego-and-id_19',\n",
       " '@eewol_296',\n",
       " '@wikitree_105',\n",
       " '@snsdhk_2',\n",
       " '@mymykmcyobv_135',\n",
       " '@johny1140_94',\n",
       " '@cosmic0326_114',\n",
       " '@dlawhdgk1205_133',\n",
       " '@dlawhdgk1205_136',\n",
       " '@uracode_10',\n",
       " '@barneconomy_53',\n",
       " '@childshillfox3_104',\n",
       " '@mymean_68',\n",
       " '@childshillfox3_103',\n",
       " '@lieoflie_48',\n",
       " '@haksookim_93',\n",
       " '@litteratus_61',\n",
       " '@silvermouse_113',\n",
       " '@jaol_60',\n",
       " '@joyloveslife_34',\n",
       " '@joyloveslife_33',\n",
       " '@x777song_11',\n",
       " '@aaassd123_50',\n",
       " '@jssartcompany_103',\n",
       " '@hyunjinlnpr_2',\n",
       " '@medstory_16',\n",
       " '@windsol_1673',\n",
       " '@anasfelis_3',\n",
       " '@barneconomy_73',\n",
       " '@barneconomy_77',\n",
       " '@hws321_242',\n",
       " '@rlatkdgus502_94',\n",
       " '@barneconomy_66',\n",
       " '@aeyou5119_26',\n",
       " '@lemon-12_130',\n",
       " '@lemon-12_132',\n",
       " '@freesong_60',\n",
       " '@uracode_11',\n",
       " '@tn3300_12',\n",
       " '@tn3300_17',\n",
       " '@sunmyung_324',\n",
       " '@dollphin1127_48',\n",
       " '@dollphin1127_44',\n",
       " '@dollphin1127_49',\n",
       " '@dollphin1127_43',\n",
       " '@dollphin1127_41',\n",
       " '@feelsleepy_41',\n",
       " '@divewithhana_405',\n",
       " '@jiminyoo_26',\n",
       " '@yoonmadi_52',\n",
       " '@930_64',\n",
       " '@wjddnfka333_28',\n",
       " '@azhambahut_13',\n",
       " '@hansolsuh_26',\n",
       " '@rebefe_13',\n",
       " '@robinsoon_127',\n",
       " '@storypop_114',\n",
       " '@groscalin_70',\n",
       " '@seeandfeel_43',\n",
       " '@johny1140_109',\n",
       " '@parkdabin_847',\n",
       " '@byulpd_449',\n",
       " '@tryjini_65',\n",
       " '@susuhan_72',\n",
       " '@jessiejisulee_90',\n",
       " '@backbone-damien_24',\n",
       " '@janemin96_17',\n",
       " '@poldee_166',\n",
       " '@ddeumi1004_24',\n",
       " '@zerotozero_139',\n",
       " '@cuttt_6',\n",
       " '@pierpeony_79',\n",
       " '@enormous-hat_360',\n",
       " '@najye0903_12',\n",
       " '@varamizoa_76',\n",
       " '@masquenada_29',\n",
       " '@3701yojung_6',\n",
       " '@moonblossom_219',\n",
       " '@elang8151_233',\n",
       " '@chonddugi_2',\n",
       " '@hosungsong_368',\n",
       " '@geulick_140',\n",
       " '@asteroid38ho_12',\n",
       " '@sanwool_20',\n",
       " '@hyobin0603_9']"
      ]
     },
     "metadata": {},
     "execution_count": 58
    }
   ],
   "source": [
    "idx = 6\n",
    "user_id = user_id_list[idx]\n",
    "seens = _filter_read_by_time(user_time_read[user_id], start=Config.train_start, end=Config.train_end)\n",
    "seens = squeeze(list(map(lambda x: x[-1], seens)))\n",
    "recommend_raw = recommend_output[:, idx]\n",
    "recommend_raw = pd.Series(recommend_raw.toarray().flatten(), index=post_meta_id).sort_values(ascending=False)\n",
    "recommend_raw = recommend_raw[~recommend_raw.index.isin(seens)].head(100).index.tolist()\n",
    "recommend = list(map(lambda x: encoder.inverse_transform(x), recommend_raw))\n",
    "recommend"
   ]
  }
 ],
 "metadata": {
  "kernelspec": {
   "display_name": "Python 3",
   "language": "python",
   "name": "python3"
  },
  "language_info": {
   "codemirror_mode": {
    "name": "ipython",
    "version": 3
   },
   "file_extension": ".py",
   "mimetype": "text/x-python",
   "name": "python",
   "nbconvert_exporter": "python",
   "pygments_lexer": "ipython3",
   "version": "3.7.10-final"
  }
 },
 "nbformat": 4,
 "nbformat_minor": 2
}