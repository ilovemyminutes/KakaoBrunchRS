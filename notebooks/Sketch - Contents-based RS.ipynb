{
 "cells": [
  {
   "cell_type": "code",
   "execution_count": 1,
   "metadata": {},
   "outputs": [],
   "source": [
    "import os\n",
    "import ast\n",
    "import pickle\n",
    "import time\n",
    "from tqdm import tqdm\n",
    "import json\n",
    "from glob import glob\n",
    "from collections import Counter, defaultdict\n",
    "import sys\n",
    "sys.path.insert(0, '../')\n",
    "\n",
    "import pandas as pd\n",
    "import numpy as np\n",
    "\n",
    "from load_data import load_user_time_read, load_raw\n",
    "from tfidf import TFIDFGenerator, get_df\n",
    "from config import Config\n",
    "from utils import iterate_data_files, squeeze, save_as_pickle\n",
    "from preprocessing import PostIdEncoder"
   ]
  },
  {
   "cell_type": "code",
   "execution_count": 2,
   "metadata": {},
   "outputs": [
    {
     "output_type": "stream",
     "name": "stdout",
     "text": [
      "Loading time: 17.318955183029175\n"
     ]
    }
   ],
   "source": [
    "start = time.time()\n",
    "user_time_read = load_user_time_read(root_dir='../preprocessed/user_time_read.json')\n",
    "encoder = PostIdEncoder(root_dir='../encodings')\n",
    "tfidf = TFIDFGenerator('../tfidf')\n",
    "print(f'Loading time: {time.time() - start}')"
   ]
  },
  {
   "cell_type": "code",
   "execution_count": 3,
   "metadata": {},
   "outputs": [],
   "source": [
    "user_list = list(user_time_read.keys())\n",
    "history = user_time_read[user_list[0]] # 한 유저의 히스토리"
   ]
  },
  {
   "cell_type": "code",
   "execution_count": 4,
   "metadata": {},
   "outputs": [
    {
     "output_type": "stream",
     "name": "stderr",
     "text": [
      "100%|██████████| 10/10 [00:17<00:00,  1.72s/it]\n"
     ]
    }
   ],
   "source": [
    "# user_preferences = []\n",
    "posts = pd.DataFrame()\n",
    "user_preferences = np.zeros((7000, 1))\n",
    "# posts = np.zeros((1, 7000))\n",
    "\n",
    "\n",
    "for i in tqdm(range(10)):\n",
    "    history = user_time_read[user_list[i]]\n",
    "    # temp = pd.DataFrame()\n",
    "    user_preference = np.zeros((1, 7000))\n",
    "    for h in history:\n",
    "        partial_tfidf = tfidf.generate(encoder.transform(h[-1]), drop_id=False)\n",
    "        # temp = pd.concat([temp, partial_tfidf.drop('post_meta_id', axis=1)])\n",
    "        user_preference += partial_tfidf.drop('post_meta_id', axis=1).values.sum(axis=0)\n",
    "        posts = pd.concat([posts, partial_tfidf], axis=0, ignore_index=True)\n",
    "        # posts = np.vstack([posts, partial_tfidf.drop('post_meta_id', axis=1).values])\n",
    "\n",
    "    user_preferences = np.hstack([user_preferences, user_preference.reshape(7000, 1)])\n",
    "\n",
    "user_preferences = user_preferences[:, 1:]\n",
    "posts = posts.drop_duplicates(ignore_index=True)\n",
    "post_meta_id = posts['post_meta_id'].tolist()\n",
    "posts = posts.drop('post_meta_id', axis=1)\n",
    "idf = np.log(tfidf.DF.values.squeeze()) - np.log((posts != 0).sum().values + 1e-4)"
   ]
  },
  {
   "cell_type": "code",
   "execution_count": 5,
   "metadata": {},
   "outputs": [],
   "source": [
    "recommend_output = np.matmul((posts * idf).values, user_preferences)\n",
    "enc = PostIdEncoder(root_dir='../encodings')"
   ]
  },
  {
   "cell_type": "code",
   "execution_count": 6,
   "metadata": {},
   "outputs": [],
   "source": [
    "recommend_output_user = pd.DataFrame(dict(value=recommend_output[:, 1], id=post_meta_id)).sort_values(by='value', ascending=False)"
   ]
  },
  {
   "cell_type": "code",
   "execution_count": 8,
   "metadata": {},
   "outputs": [],
   "source": [
    "recommend_output_user['id'] = recommend_output_user['id'].apply(lambda x: enc.inverse_transform(x))"
   ]
  },
  {
   "cell_type": "code",
   "execution_count": 10,
   "metadata": {},
   "outputs": [
    {
     "output_type": "execute_result",
     "data": {
      "text/plain": [
       "            value                 id\n",
       "130   6474.603422  @charlieoppa86_39\n",
       "161   6272.859652      @tenbody_1305\n",
       "139   5982.949432       @ohsukwon_17\n",
       "131   5660.779012        @sosoceo_72\n",
       "64    5574.078322     @hanriverkim_4\n",
       "...           ...                ...\n",
       "152   1869.986179    @hyungsukkim_97\n",
       "1395  1867.406208     @thebookman_61\n",
       "674   1853.928372    @yoonjikwon_208\n",
       "154   1850.626101    @hyungsukkim_91\n",
       "961   1844.180934    @gardrna0817_42\n",
       "\n",
       "[100 rows x 2 columns]"
      ],
      "text/html": "<div>\n<style scoped>\n    .dataframe tbody tr th:only-of-type {\n        vertical-align: middle;\n    }\n\n    .dataframe tbody tr th {\n        vertical-align: top;\n    }\n\n    .dataframe thead th {\n        text-align: right;\n    }\n</style>\n<table border=\"1\" class=\"dataframe\">\n  <thead>\n    <tr style=\"text-align: right;\">\n      <th></th>\n      <th>value</th>\n      <th>id</th>\n    </tr>\n  </thead>\n  <tbody>\n    <tr>\n      <th>130</th>\n      <td>6474.603422</td>\n      <td>@charlieoppa86_39</td>\n    </tr>\n    <tr>\n      <th>161</th>\n      <td>6272.859652</td>\n      <td>@tenbody_1305</td>\n    </tr>\n    <tr>\n      <th>139</th>\n      <td>5982.949432</td>\n      <td>@ohsukwon_17</td>\n    </tr>\n    <tr>\n      <th>131</th>\n      <td>5660.779012</td>\n      <td>@sosoceo_72</td>\n    </tr>\n    <tr>\n      <th>64</th>\n      <td>5574.078322</td>\n      <td>@hanriverkim_4</td>\n    </tr>\n    <tr>\n      <th>...</th>\n      <td>...</td>\n      <td>...</td>\n    </tr>\n    <tr>\n      <th>152</th>\n      <td>1869.986179</td>\n      <td>@hyungsukkim_97</td>\n    </tr>\n    <tr>\n      <th>1395</th>\n      <td>1867.406208</td>\n      <td>@thebookman_61</td>\n    </tr>\n    <tr>\n      <th>674</th>\n      <td>1853.928372</td>\n      <td>@yoonjikwon_208</td>\n    </tr>\n    <tr>\n      <th>154</th>\n      <td>1850.626101</td>\n      <td>@hyungsukkim_91</td>\n    </tr>\n    <tr>\n      <th>961</th>\n      <td>1844.180934</td>\n      <td>@gardrna0817_42</td>\n    </tr>\n  </tbody>\n</table>\n<p>100 rows × 2 columns</p>\n</div>"
     },
     "metadata": {},
     "execution_count": 10
    }
   ],
   "source": [
    "recommend_output_user.head(100)"
   ]
  }
 ],
 "metadata": {
  "kernelspec": {
   "display_name": "Python 3",
   "language": "python",
   "name": "python3"
  },
  "language_info": {
   "codemirror_mode": {
    "name": "ipython",
    "version": 3
   },
   "file_extension": ".py",
   "mimetype": "text/x-python",
   "name": "python",
   "nbconvert_exporter": "python",
   "pygments_lexer": "ipython3",
   "version": "3.7.10-final"
  }
 },
 "nbformat": 4,
 "nbformat_minor": 2
}