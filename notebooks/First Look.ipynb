{
 "cells": [
  {
   "cell_type": "markdown",
   "metadata": {},
   "source": [
    "# Kakao Arena Brunch Posts Recommendation: First Look"
   ]
  },
  {
   "cell_type": "code",
   "execution_count": 2,
   "metadata": {},
   "outputs": [],
   "source": [
    "import os\n",
    "import json\n",
    "from glob import glob\n",
    "import urllib\n",
    "import requests\n",
    "\n",
    "import pandas as pd\n",
    "import numpy as np\n",
    "\n",
    "import matplotlib.pyplot as plt\n",
    "import seaborn as sns\n",
    "plt.style.use('ggplot')"
   ]
  },
  {
   "cell_type": "code",
   "execution_count": 70,
   "metadata": {},
   "outputs": [],
   "source": [
    "def get_read(path: str) -> pd.DataFrame:\n",
    "    read = pd.read_csv(path, header=None, names=['log'])\n",
    "    start_time = int(os.path.basename(path).split('_')[0])\n",
    "\n",
    "    read['user_private'] = read['log'].apply(lambda x: x.split()).apply(lambda x: x[0])\n",
    "    read['sequence'] = read['log'].apply(lambda x: x.split()).apply(lambda x: x[1:])\n",
    "    read['start_time'] = start_time\n",
    "\n",
    "    return read[['start_time', 'user_private', 'sequence']]\n",
    "\n",
    "\n",
    "def load(name: str='magazine', root_dir: str='../raw/'):\n",
    "    PATH = {\n",
    "        'magazine': os.path.join(root_dir, 'magazine.json'), \n",
    "        'metadata': os.path.join(root_dir, 'metadata.json'), \n",
    "        'users': os.path.join(root_dir, 'users.json'),\n",
    "        'dev': os.path.join(root_dir, 'predict/dev.users'),\n",
    "        'test': os.path.join(root_dir, 'predict/test.users'),\n",
    "        'read': os.path.join(root_dir, 'read/*')\n",
    "        }\n",
    "    \n",
    "    if name in ['magazine', 'metadata', 'users']:\n",
    "        data = pd.DataFrame([json.loads(line) for line in open(PATH[name], 'r', encoding='utf-8')])\n",
    "        if name == 'magazine':\n",
    "            data = data.rename({'id': 'magazine_id'}, axis=1)\n",
    "        elif name == 'metadata':\n",
    "            data.rename({'id': 'post_id'}, axis=1, inplace=True)\n",
    "        else:\n",
    "            data = data.rename({'id': 'user_private'}, axis=1)[['user_private', 'following_list', 'keyword_list']]\n",
    "\n",
    "    elif name in ['dev', 'test']:\n",
    "        data = pd.read_csv(PATH[name], header=None, names=['user_private'])\n",
    "\n",
    "    elif name == 'read':\n",
    "        data = pd.concat([get_read(path) for path in glob(PATH[name])], axis=0, ignore_index=True)\n",
    "\n",
    "    else:\n",
    "        raise NotImplementedError()\n",
    "\n",
    "    return data\n",
    "\n"
   ]
  },
  {
   "cell_type": "code",
   "execution_count": 71,
   "metadata": {},
   "outputs": [],
   "source": [
    "magazine = load(name='magazine')\n",
    "metadata = load(name='metadata')\n",
    "users = load(name='users')\n",
    "dev = load(name='dev')\n",
    "test  = load(name='test')\n",
    "\n",
    "\n",
    "# # take somewhat long time to load\n",
    "# contents = [json.loads(line) for line in open(\"../raw/contents/data.0\", 'r', encoding='utf-8')]\n",
    "# read = load(name='read')"
   ]
  },
  {
   "source": [
    "# Users\n",
    "- user_private\n",
    "- following_list\n",
    "- keyword_list: 최근 해당 작가의 유입 키워드\n",
    "    - keyword_list가 하나도 없는 유저는 작가가 아닐 가능성이 높음\n",
    "    - 유입 키워드가 많을 수록 인기 있는 작가일 가능성이 높음"
   ],
   "cell_type": "markdown",
   "metadata": {}
  },
  {
   "cell_type": "code",
   "execution_count": 74,
   "metadata": {},
   "outputs": [],
   "source": [
    "users['num_keywords'] = users['keyword_list'].apply(lambda x: len(x))"
   ]
  },
  {
   "cell_type": "code",
   "execution_count": 98,
   "metadata": {},
   "outputs": [
    {
     "output_type": "execute_result",
     "data": {
      "text/plain": [
       "                             user_private  ... num_keywords\n",
       "0       #901985d8bc4c481805c4a4f911814c4a  ...            0\n",
       "1       #1fd89e9dcfa64b45020d9eaca54e0eed  ...            0\n",
       "2       #1d94baaea71a831e1f33e1c6bd126ed5  ...            0\n",
       "3       #04641c01892b12dc018b1410e4928c0d  ...            0\n",
       "4       #65bcaff862aadff877e461f54187ab62  ...            0\n",
       "...                                   ...  ...          ...\n",
       "310753  #2863e47d50f1640df6dac10b7bad94fb  ...            0\n",
       "310754  #4341a155d1966e5618e310c45386aea4  ...            0\n",
       "310755  #0d70f397a78d2ef638f812592fa8e6ba  ...            0\n",
       "310756  #1bbf5e3d1e4c373103981cdd819812da  ...           16\n",
       "310757  #680cbb3ccc817891d2002f20a503e7e6  ...            0\n",
       "\n",
       "[310758 rows x 4 columns]"
      ],
      "text/html": "<div>\n<style scoped>\n    .dataframe tbody tr th:only-of-type {\n        vertical-align: middle;\n    }\n\n    .dataframe tbody tr th {\n        vertical-align: top;\n    }\n\n    .dataframe thead th {\n        text-align: right;\n    }\n</style>\n<table border=\"1\" class=\"dataframe\">\n  <thead>\n    <tr style=\"text-align: right;\">\n      <th></th>\n      <th>user_private</th>\n      <th>following_list</th>\n      <th>keyword_list</th>\n      <th>num_keywords</th>\n    </tr>\n  </thead>\n  <tbody>\n    <tr>\n      <th>0</th>\n      <td>#901985d8bc4c481805c4a4f911814c4a</td>\n      <td>[@perytail, @brunch]</td>\n      <td>[]</td>\n      <td>0</td>\n    </tr>\n    <tr>\n      <th>1</th>\n      <td>#1fd89e9dcfa64b45020d9eaca54e0eed</td>\n      <td>[@holidaymemories, @wadiz, @sciforus, @dailydu...</td>\n      <td>[]</td>\n      <td>0</td>\n    </tr>\n    <tr>\n      <th>2</th>\n      <td>#1d94baaea71a831e1f33e1c6bd126ed5</td>\n      <td>[@commerceguy, @sunsutu, @kakao-it, @joohoonja...</td>\n      <td>[]</td>\n      <td>0</td>\n    </tr>\n    <tr>\n      <th>3</th>\n      <td>#04641c01892b12dc018b1410e4928c0d</td>\n      <td>[@amberjeon48, @forsy20, @nemotokki, @hawann, ...</td>\n      <td>[]</td>\n      <td>0</td>\n    </tr>\n    <tr>\n      <th>4</th>\n      <td>#65bcaff862aadff877e461f54187ab62</td>\n      <td>[@dwcha7342, @iammento, @kakao-it, @dkam, @ant...</td>\n      <td>[]</td>\n      <td>0</td>\n    </tr>\n    <tr>\n      <th>...</th>\n      <td>...</td>\n      <td>...</td>\n      <td>...</td>\n      <td>...</td>\n    </tr>\n    <tr>\n      <th>310753</th>\n      <td>#2863e47d50f1640df6dac10b7bad94fb</td>\n      <td>[@login002, @kkonal, @leeraha, @tobeme, @sohyu...</td>\n      <td>[]</td>\n      <td>0</td>\n    </tr>\n    <tr>\n      <th>310754</th>\n      <td>#4341a155d1966e5618e310c45386aea4</td>\n      <td>[@simplelife-1p, @mint5051, @thecapitalist, @s...</td>\n      <td>[]</td>\n      <td>0</td>\n    </tr>\n    <tr>\n      <th>310755</th>\n      <td>#0d70f397a78d2ef638f812592fa8e6ba</td>\n      <td>[@cometseeker, @bijou, @suhanjang, @brunch]</td>\n      <td>[]</td>\n      <td>0</td>\n    </tr>\n    <tr>\n      <th>310756</th>\n      <td>#1bbf5e3d1e4c373103981cdd819812da</td>\n      <td>[@taekangk, @cielbleu, @yongisa, @joongheekim,...</td>\n      <td>[{'cnt': 1, 'keyword': '꽃병 꽃꽂이'}, {'cnt': 1, '...</td>\n      <td>16</td>\n    </tr>\n    <tr>\n      <th>310757</th>\n      <td>#680cbb3ccc817891d2002f20a503e7e6</td>\n      <td>[]</td>\n      <td>[]</td>\n      <td>0</td>\n    </tr>\n  </tbody>\n</table>\n<p>310758 rows × 4 columns</p>\n</div>"
     },
     "metadata": {},
     "execution_count": 98
    }
   ],
   "source": [
    "users"
   ]
  },
  {
   "source": [
    "# Predict"
   ],
   "cell_type": "markdown",
   "metadata": {}
  },
  {
   "cell_type": "code",
   "execution_count": 97,
   "metadata": {},
   "outputs": [
    {
     "output_type": "execute_result",
     "data": {
      "text/plain": [
       "         start_time  ...                                           sequence\n",
       "3        2018100100  ...  [@hyejinchoi_122, @hyejinchoi_86, @hyejinchoi_...\n",
       "9        2018100100  ...  [@onefineday_225, @varo_634, @gradure_871, @on...\n",
       "10       2018100100  ...                                     [@pliossun_45]\n",
       "18       2018100100  ...                       [@pizzakim_20, @pizzakim_20]\n",
       "34       2018100100  ...                                   [@hee072794_118]\n",
       "...             ...  ...                                                ...\n",
       "3507074  2019022823  ...  [@tenbody_1418, @tenbody_1418, @tenbody_1743, ...\n",
       "3507075  2019022823  ...                                      [@jijuyeo_13]\n",
       "3507080  2019022823  ...                                                 []\n",
       "3507084  2019022823  ...                    [@shrainy80_3, @book-writer_37]\n",
       "3507094  2019022823  ...               [@leewoosview_186, @leewoosview_189]\n",
       "\n",
       "[202754 rows x 3 columns]"
      ],
      "text/html": "<div>\n<style scoped>\n    .dataframe tbody tr th:only-of-type {\n        vertical-align: middle;\n    }\n\n    .dataframe tbody tr th {\n        vertical-align: top;\n    }\n\n    .dataframe thead th {\n        text-align: right;\n    }\n</style>\n<table border=\"1\" class=\"dataframe\">\n  <thead>\n    <tr style=\"text-align: right;\">\n      <th></th>\n      <th>start_time</th>\n      <th>user_private</th>\n      <th>sequence</th>\n    </tr>\n  </thead>\n  <tbody>\n    <tr>\n      <th>3</th>\n      <td>2018100100</td>\n      <td>#b8b9d09fe2961fd62edc94912bf75a90</td>\n      <td>[@hyejinchoi_122, @hyejinchoi_86, @hyejinchoi_...</td>\n    </tr>\n    <tr>\n      <th>9</th>\n      <td>2018100100</td>\n      <td>#748e26f7662012146a77f589dbbd8d69</td>\n      <td>[@onefineday_225, @varo_634, @gradure_871, @on...</td>\n    </tr>\n    <tr>\n      <th>10</th>\n      <td>2018100100</td>\n      <td>#76ddc76b38b3a6efa48a63fadf05b62b</td>\n      <td>[@pliossun_45]</td>\n    </tr>\n    <tr>\n      <th>18</th>\n      <td>2018100100</td>\n      <td>#9ec904c24c42df16f558f5c4407302e1</td>\n      <td>[@pizzakim_20, @pizzakim_20]</td>\n    </tr>\n    <tr>\n      <th>34</th>\n      <td>2018100100</td>\n      <td>#38a8b6e043685216c1240cddf481e6b4</td>\n      <td>[@hee072794_118]</td>\n    </tr>\n    <tr>\n      <th>...</th>\n      <td>...</td>\n      <td>...</td>\n      <td>...</td>\n    </tr>\n    <tr>\n      <th>3507074</th>\n      <td>2019022823</td>\n      <td>#4b0824bc3b78df120fad874dca5fbfec</td>\n      <td>[@tenbody_1418, @tenbody_1418, @tenbody_1743, ...</td>\n    </tr>\n    <tr>\n      <th>3507075</th>\n      <td>2019022823</td>\n      <td>#e93b4cf38313236426195b6a4e46ece8</td>\n      <td>[@jijuyeo_13]</td>\n    </tr>\n    <tr>\n      <th>3507080</th>\n      <td>2019022823</td>\n      <td>#b8f98df48ac08a95665c1e13d680d01e</td>\n      <td>[]</td>\n    </tr>\n    <tr>\n      <th>3507084</th>\n      <td>2019022823</td>\n      <td>#f40308439fc936f375a6c399db65e6bd</td>\n      <td>[@shrainy80_3, @book-writer_37]</td>\n    </tr>\n    <tr>\n      <th>3507094</th>\n      <td>2019022823</td>\n      <td>#3eec960b2ad12fc41ec986032effc8b2</td>\n      <td>[@leewoosview_186, @leewoosview_189]</td>\n    </tr>\n  </tbody>\n</table>\n<p>202754 rows × 3 columns</p>\n</div>"
     },
     "metadata": {},
     "execution_count": 97
    }
   ],
   "source": [
    "read[read['user_private'].isin(dev['user_private'].tolist())]"
   ]
  }
 ],
 "metadata": {
  "kernelspec": {
   "display_name": "Python 3",
   "language": "python",
   "name": "python3"
  },
  "language_info": {
   "codemirror_mode": {
    "name": "ipython",
    "version": 3
   },
   "file_extension": ".py",
   "mimetype": "text/x-python",
   "name": "python",
   "nbconvert_exporter": "python",
   "pygments_lexer": "ipython3",
   "version": "3.7.10-final"
  }
 },
 "nbformat": 4,
 "nbformat_minor": 2
}