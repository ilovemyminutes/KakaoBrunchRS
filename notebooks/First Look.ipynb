{
 "metadata": {
  "language_info": {
   "codemirror_mode": {
    "name": "ipython",
    "version": 3
   },
   "file_extension": ".py",
   "mimetype": "text/x-python",
   "name": "python",
   "nbconvert_exporter": "python",
   "pygments_lexer": "ipython3",
   "version": "3.8.5-final"
  },
  "orig_nbformat": 2,
  "kernelspec": {
   "name": "python3",
   "display_name": "Python 3.8.5 64-bit (conda)",
   "metadata": {
    "interpreter": {
     "hash": "93eea2fb843057bf8d16d555a498c4d0e91d6b554ae33d102d29dc7a71712e3a"
    }
   }
  }
 },
 "nbformat": 4,
 "nbformat_minor": 2,
 "cells": [
  {
   "cell_type": "code",
   "execution_count": 78,
   "metadata": {},
   "outputs": [],
   "source": [
    "import os\n",
    "import json\n",
    "from glob import glob\n",
    "import urllib\n",
    "import requests\n",
    "\n",
    "import pandas as pd\n",
    "import numpy as np\n",
    "\n",
    "import matplotlib.pyplot as plt\n",
    "import seaborn as sns\n",
    "plt.style.use('ggplot')"
   ]
  },
  {
   "cell_type": "code",
   "execution_count": 95,
   "metadata": {},
   "outputs": [],
   "source": [
    "def load(name: str='magazine', root_dir: str='../raw/'):\n",
    "    PATH = {\n",
    "        'magazine': os.path.join(root_dir, 'magazine.json'), \n",
    "        'metadata': os.path.join(root_dir, 'metadata.json'), \n",
    "        'users': os.path.join(root_dir, 'users.json'),\n",
    "        'dev': os.path.join(root_dir, 'dev.users'),\n",
    "        'test': os.path.join(root_dir, 'test.users')\n",
    "        }\n",
    "    \n",
    "    if name in ['magazine', 'metadata', 'users']:\n",
    "        data = pd.DataFrame([json.loads(line) for line in open(PATH[name], 'r', encoding='utf-8')])\n",
    "    elif name in ['dev', 'test']:\n",
    "        data = pd.read_csv(PATH['dev'], header=None)\n",
    "    else:\n",
    "        raise NotImplementedError()\n",
    "\n",
    "    return data"
   ]
  },
  {
   "cell_type": "code",
   "execution_count": 96,
   "metadata": {},
   "outputs": [],
   "source": [
    "magazine = load(name='magazine')\n",
    "metadata = load(name='metadata')\n",
    "users = load(name='users')"
   ]
  },
  {
   "cell_type": "code",
   "execution_count": 97,
   "metadata": {},
   "outputs": [
    {
     "output_type": "execute_result",
     "data": {
      "text/plain": [
       "                                             keyword_list  \\\n",
       "0                                                      []   \n",
       "1                                                      []   \n",
       "2                                                      []   \n",
       "3                                                      []   \n",
       "4                                                      []   \n",
       "...                                                   ...   \n",
       "310753                                                 []   \n",
       "310754                                                 []   \n",
       "310755                                                 []   \n",
       "310756  [{'cnt': 1, 'keyword': '꽃병 꽃꽂이'}, {'cnt': 1, '...   \n",
       "310757                                                 []   \n",
       "\n",
       "                                           following_list  \\\n",
       "0                                    [@perytail, @brunch]   \n",
       "1       [@holidaymemories, @wadiz, @sciforus, @dailydu...   \n",
       "2       [@commerceguy, @sunsutu, @kakao-it, @joohoonja...   \n",
       "3       [@amberjeon48, @forsy20, @nemotokki, @hawann, ...   \n",
       "4       [@dwcha7342, @iammento, @kakao-it, @dkam, @ant...   \n",
       "...                                                   ...   \n",
       "310753  [@login002, @kkonal, @leeraha, @tobeme, @sohyu...   \n",
       "310754  [@simplelife-1p, @mint5051, @thecapitalist, @s...   \n",
       "310755        [@cometseeker, @bijou, @suhanjang, @brunch]   \n",
       "310756  [@taekangk, @cielbleu, @yongisa, @joongheekim,...   \n",
       "310757                                                 []   \n",
       "\n",
       "                                       id  \n",
       "0       #901985d8bc4c481805c4a4f911814c4a  \n",
       "1       #1fd89e9dcfa64b45020d9eaca54e0eed  \n",
       "2       #1d94baaea71a831e1f33e1c6bd126ed5  \n",
       "3       #04641c01892b12dc018b1410e4928c0d  \n",
       "4       #65bcaff862aadff877e461f54187ab62  \n",
       "...                                   ...  \n",
       "310753  #2863e47d50f1640df6dac10b7bad94fb  \n",
       "310754  #4341a155d1966e5618e310c45386aea4  \n",
       "310755  #0d70f397a78d2ef638f812592fa8e6ba  \n",
       "310756  #1bbf5e3d1e4c373103981cdd819812da  \n",
       "310757  #680cbb3ccc817891d2002f20a503e7e6  \n",
       "\n",
       "[310758 rows x 3 columns]"
      ],
      "text/html": "<div>\n<style scoped>\n    .dataframe tbody tr th:only-of-type {\n        vertical-align: middle;\n    }\n\n    .dataframe tbody tr th {\n        vertical-align: top;\n    }\n\n    .dataframe thead th {\n        text-align: right;\n    }\n</style>\n<table border=\"1\" class=\"dataframe\">\n  <thead>\n    <tr style=\"text-align: right;\">\n      <th></th>\n      <th>keyword_list</th>\n      <th>following_list</th>\n      <th>id</th>\n    </tr>\n  </thead>\n  <tbody>\n    <tr>\n      <th>0</th>\n      <td>[]</td>\n      <td>[@perytail, @brunch]</td>\n      <td>#901985d8bc4c481805c4a4f911814c4a</td>\n    </tr>\n    <tr>\n      <th>1</th>\n      <td>[]</td>\n      <td>[@holidaymemories, @wadiz, @sciforus, @dailydu...</td>\n      <td>#1fd89e9dcfa64b45020d9eaca54e0eed</td>\n    </tr>\n    <tr>\n      <th>2</th>\n      <td>[]</td>\n      <td>[@commerceguy, @sunsutu, @kakao-it, @joohoonja...</td>\n      <td>#1d94baaea71a831e1f33e1c6bd126ed5</td>\n    </tr>\n    <tr>\n      <th>3</th>\n      <td>[]</td>\n      <td>[@amberjeon48, @forsy20, @nemotokki, @hawann, ...</td>\n      <td>#04641c01892b12dc018b1410e4928c0d</td>\n    </tr>\n    <tr>\n      <th>4</th>\n      <td>[]</td>\n      <td>[@dwcha7342, @iammento, @kakao-it, @dkam, @ant...</td>\n      <td>#65bcaff862aadff877e461f54187ab62</td>\n    </tr>\n    <tr>\n      <th>...</th>\n      <td>...</td>\n      <td>...</td>\n      <td>...</td>\n    </tr>\n    <tr>\n      <th>310753</th>\n      <td>[]</td>\n      <td>[@login002, @kkonal, @leeraha, @tobeme, @sohyu...</td>\n      <td>#2863e47d50f1640df6dac10b7bad94fb</td>\n    </tr>\n    <tr>\n      <th>310754</th>\n      <td>[]</td>\n      <td>[@simplelife-1p, @mint5051, @thecapitalist, @s...</td>\n      <td>#4341a155d1966e5618e310c45386aea4</td>\n    </tr>\n    <tr>\n      <th>310755</th>\n      <td>[]</td>\n      <td>[@cometseeker, @bijou, @suhanjang, @brunch]</td>\n      <td>#0d70f397a78d2ef638f812592fa8e6ba</td>\n    </tr>\n    <tr>\n      <th>310756</th>\n      <td>[{'cnt': 1, 'keyword': '꽃병 꽃꽂이'}, {'cnt': 1, '...</td>\n      <td>[@taekangk, @cielbleu, @yongisa, @joongheekim,...</td>\n      <td>#1bbf5e3d1e4c373103981cdd819812da</td>\n    </tr>\n    <tr>\n      <th>310757</th>\n      <td>[]</td>\n      <td>[]</td>\n      <td>#680cbb3ccc817891d2002f20a503e7e6</td>\n    </tr>\n  </tbody>\n</table>\n<p>310758 rows × 3 columns</p>\n</div>"
     },
     "metadata": {},
     "execution_count": 97
    }
   ],
   "source": [
    "users"
   ]
  }
 ]
}