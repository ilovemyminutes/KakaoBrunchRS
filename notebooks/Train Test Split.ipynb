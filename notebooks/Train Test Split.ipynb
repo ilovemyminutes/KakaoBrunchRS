{
 "cells": [
  {
   "cell_type": "code",
   "execution_count": 2,
   "metadata": {},
   "outputs": [],
   "source": [
    "import os\n",
    "import ast\n",
    "import json\n",
    "from glob import glob\n",
    "from collections import Counter\n",
    "import sys\n",
    "sys.path.insert(0, '../')\n",
    "\n",
    "import pandas as pd\n",
    "import numpy as np\n",
    "from sklearn.feature_extraction.text import TfidfVectorizer\n",
    "\n",
    "import matplotlib.pyplot as plt\n",
    "import seaborn as sns\n",
    "plt.style.use('ggplot')\n",
    "\n",
    "# import networkx as nx\n",
    "from modules.load_data import load"
   ]
  },
  {
   "cell_type": "code",
   "execution_count": 17,
   "metadata": {},
   "outputs": [
    {
     "data": {
      "text/plain": [
       "((3000, 1), (5000, 1))"
      ]
     },
     "execution_count": 17,
     "metadata": {},
     "output_type": "execute_result"
    }
   ],
   "source": [
    "read = load('read')\n",
    "dev = load('dev')\n",
    "test = load('test')\n",
    "dev.shape, test.shape"
   ]
  },
  {
   "cell_type": "code",
   "execution_count": 24,
   "metadata": {},
   "outputs": [
    {
     "data": {
      "text/plain": [
       "2000"
      ]
     },
     "execution_count": 24,
     "metadata": {},
     "output_type": "execute_result"
    }
   ],
   "source": [
    "in_dev = read[read['user_private'].isin(dev['user_private'])]['user_private']\n",
    "in_test = read[read['user_private'].isin(test['user_private'])]['user_private']\n",
    "\n",
    "num_union_dev_test = len(set(in_dev.tolist()).union(set(in_test.tolist())))\n",
    "num_inter_dev_test = len(set(in_dev.tolist()).intersection(set(in_test.tolist())))\n",
    "\n",
    "num_union_dev_test - num_inter_dev_test"
   ]
  },
  {
   "cell_type": "markdown",
   "metadata": {},
   "source": [
    "$\\{user | user \\in dev\\} \\subset \\{user | user \\in test\\}$"
   ]
  },
  {
   "cell_type": "code",
   "execution_count": 27,
   "metadata": {},
   "outputs": [
    {
     "data": {
      "text/html": [
       "<div>\n",
       "<style scoped>\n",
       "    .dataframe tbody tr th:only-of-type {\n",
       "        vertical-align: middle;\n",
       "    }\n",
       "\n",
       "    .dataframe tbody tr th {\n",
       "        vertical-align: top;\n",
       "    }\n",
       "\n",
       "    .dataframe thead th {\n",
       "        text-align: right;\n",
       "    }\n",
       "</style>\n",
       "<table border=\"1\" class=\"dataframe\">\n",
       "  <thead>\n",
       "    <tr style=\"text-align: right;\">\n",
       "      <th></th>\n",
       "      <th>start_time</th>\n",
       "      <th>user_private</th>\n",
       "      <th>sequence</th>\n",
       "    </tr>\n",
       "  </thead>\n",
       "  <tbody>\n",
       "    <tr>\n",
       "      <th>0</th>\n",
       "      <td>2018100100</td>\n",
       "      <td>#e208be4ffea19b1ceb5cea2e3c4dc32c</td>\n",
       "      <td>[@kty0613_91]</td>\n",
       "    </tr>\n",
       "    <tr>\n",
       "      <th>1</th>\n",
       "      <td>2018100100</td>\n",
       "      <td>#0a3d493f3b2318be80f391eaa00bfd1c</td>\n",
       "      <td>[@miamiyoung_31, @banksalad_49, @rlfrjsdn_95, ...</td>\n",
       "    </tr>\n",
       "    <tr>\n",
       "      <th>2</th>\n",
       "      <td>2018100100</td>\n",
       "      <td>#b90d3ee7ed0d7d827aae168e159749f1</td>\n",
       "      <td>[@joeunha_4, @yoonvi_3]</td>\n",
       "    </tr>\n",
       "    <tr>\n",
       "      <th>3</th>\n",
       "      <td>2018100100</td>\n",
       "      <td>#072f742eda9359cdac03ad080193c11d</td>\n",
       "      <td>[@doyeonsunim_240, @k52524_297, @bule13_33, @k...</td>\n",
       "    </tr>\n",
       "    <tr>\n",
       "      <th>4</th>\n",
       "      <td>2018100100</td>\n",
       "      <td>#bfc17aa1eed7f6e1993aaeac8333bdb9</td>\n",
       "      <td>[@eundang_472, @eundang_472, @bookguru_29, @bo...</td>\n",
       "    </tr>\n",
       "    <tr>\n",
       "      <th>...</th>\n",
       "      <td>...</td>\n",
       "      <td>...</td>\n",
       "      <td>...</td>\n",
       "    </tr>\n",
       "    <tr>\n",
       "      <th>3172952</th>\n",
       "      <td>2019022823</td>\n",
       "      <td>#1dac7bf43434040c71ec35052e251ee4</td>\n",
       "      <td>[@dearsangho_59, @dearsangho_59, @bluechamber_...</td>\n",
       "    </tr>\n",
       "    <tr>\n",
       "      <th>3172953</th>\n",
       "      <td>2019022823</td>\n",
       "      <td>#686cbcfd5dfa7e186dc3c28821170a5e</td>\n",
       "      <td>[@ah11_98, @ah11_98, @ah11_97, @mothertive_66,...</td>\n",
       "    </tr>\n",
       "    <tr>\n",
       "      <th>3172954</th>\n",
       "      <td>2019022823</td>\n",
       "      <td>#0c4c58048bfadedd650e92081b67d811</td>\n",
       "      <td>[@brunch_151, @brunch_151]</td>\n",
       "    </tr>\n",
       "    <tr>\n",
       "      <th>3172955</th>\n",
       "      <td>2019022823</td>\n",
       "      <td>#1eab0886c0f0f32156f9ab1e5d0fffab</td>\n",
       "      <td>[@rory_7, @rory_7]</td>\n",
       "    </tr>\n",
       "    <tr>\n",
       "      <th>3172956</th>\n",
       "      <td>2019022823</td>\n",
       "      <td>#005be6888ba3f083eed1806ba427cc3a</td>\n",
       "      <td>[@cliche-cliche_1, @cliche-cliche_5]</td>\n",
       "    </tr>\n",
       "  </tbody>\n",
       "</table>\n",
       "<p>3172957 rows × 3 columns</p>\n",
       "</div>"
      ],
      "text/plain": [
       "         start_time                       user_private  \\\n",
       "0        2018100100  #e208be4ffea19b1ceb5cea2e3c4dc32c   \n",
       "1        2018100100  #0a3d493f3b2318be80f391eaa00bfd1c   \n",
       "2        2018100100  #b90d3ee7ed0d7d827aae168e159749f1   \n",
       "3        2018100100  #072f742eda9359cdac03ad080193c11d   \n",
       "4        2018100100  #bfc17aa1eed7f6e1993aaeac8333bdb9   \n",
       "...             ...                                ...   \n",
       "3172952  2019022823  #1dac7bf43434040c71ec35052e251ee4   \n",
       "3172953  2019022823  #686cbcfd5dfa7e186dc3c28821170a5e   \n",
       "3172954  2019022823  #0c4c58048bfadedd650e92081b67d811   \n",
       "3172955  2019022823  #1eab0886c0f0f32156f9ab1e5d0fffab   \n",
       "3172956  2019022823  #005be6888ba3f083eed1806ba427cc3a   \n",
       "\n",
       "                                                  sequence  \n",
       "0                                            [@kty0613_91]  \n",
       "1        [@miamiyoung_31, @banksalad_49, @rlfrjsdn_95, ...  \n",
       "2                                  [@joeunha_4, @yoonvi_3]  \n",
       "3        [@doyeonsunim_240, @k52524_297, @bule13_33, @k...  \n",
       "4        [@eundang_472, @eundang_472, @bookguru_29, @bo...  \n",
       "...                                                    ...  \n",
       "3172952  [@dearsangho_59, @dearsangho_59, @bluechamber_...  \n",
       "3172953  [@ah11_98, @ah11_98, @ah11_97, @mothertive_66,...  \n",
       "3172954                         [@brunch_151, @brunch_151]  \n",
       "3172955                                 [@rory_7, @rory_7]  \n",
       "3172956               [@cliche-cliche_1, @cliche-cliche_5]  \n",
       "\n",
       "[3172957 rows x 3 columns]"
      ]
     },
     "execution_count": 27,
     "metadata": {},
     "output_type": "execute_result"
    }
   ],
   "source": [
    "read[~read['user_private'].isin(test['user_private'])].reset_index(drop=True)"
   ]
  }
 ],
 "metadata": {
  "kernelspec": {
   "display_name": "Python 3",
   "language": "python",
   "name": "python3"
  },
  "language_info": {
   "codemirror_mode": {
    "name": "ipython",
    "version": 3
   },
   "file_extension": ".py",
   "mimetype": "text/x-python",
   "name": "python",
   "nbconvert_exporter": "python",
   "pygments_lexer": "ipython3",
   "version": "3.8.5"
  }
 },
 "nbformat": 4,
 "nbformat_minor": 2
}