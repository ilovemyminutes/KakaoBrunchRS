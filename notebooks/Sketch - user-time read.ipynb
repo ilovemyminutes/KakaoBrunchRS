{
 "metadata": {
  "language_info": {
   "codemirror_mode": {
    "name": "ipython",
    "version": 3
   },
   "file_extension": ".py",
   "mimetype": "text/x-python",
   "name": "python",
   "nbconvert_exporter": "python",
   "pygments_lexer": "ipython3",
   "version": "3.7.10-final"
  },
  "orig_nbformat": 2,
  "kernelspec": {
   "name": "python3",
   "display_name": "Python 3.7.10 64-bit",
   "metadata": {
    "interpreter": {
     "hash": "31f2aee4e71d21fbe5cf8b01ff0e069b9275f58929596ceb00d14d90e3e16cd6"
    }
   }
  }
 },
 "nbformat": 4,
 "nbformat_minor": 2,
 "cells": [
  {
   "cell_type": "code",
   "execution_count": 1,
   "metadata": {},
   "outputs": [],
   "source": [
    "import os\n",
    "import ast\n",
    "import time\n",
    "from tqdm import tqdm\n",
    "import json\n",
    "from glob import glob\n",
    "from collections import Counter, defaultdict\n",
    "import sys\n",
    "sys.path.insert(0, '../')\n",
    "\n",
    "import pandas as pd\n",
    "import numpy as np\n",
    "\n",
    "from load_data import load_raw, load_post_id_encoder\n",
    "from tfidf import load_tfidf\n",
    "from config import DataRoots\n",
    "from utils import iterate_data_files, squeeze\n",
    "from preprocessing import UserLogsGenerator"
   ]
  },
  {
   "cell_type": "code",
   "execution_count": 11,
   "metadata": {},
   "outputs": [],
   "source": [
    "def get_user_time_read(root_dir: str=DataRoots.raw, save_as: str='../raw/user_time_read.json'):\n",
    "    paths = sorted(glob(os.path.join(root_dir, \"read/*\")))[:10]\n",
    "    user_time_read = defaultdict(list)\n",
    "\n",
    "    for path in tqdm(paths):\n",
    "        timestamp = os.path.basename(path)\n",
    "        raw_logs = list(map(lambda x: x[:-1], open(path, 'r').readlines()))\n",
    "        users = list(map(lambda x: x.split()[0], raw_logs))\n",
    "        sequences = list(map(lambda x: x.split()[1:], raw_logs))\n",
    "\n",
    "        for user, seq in zip(users, sequences):\n",
    "            logs = [timestamp, seq]\n",
    "            user_time_read[user].append(logs)\n",
    "    \n",
    "    if save_as is not None:\n",
    "        import json\n",
    "        with open(save_as, \"w\") as json_file:\n",
    "            json.dump(user_time_read, json_file)\n",
    "        print(f'File saved successfully as {save_as}')"
   ]
  },
  {
   "cell_type": "code",
   "execution_count": 12,
   "metadata": {},
   "outputs": [
    {
     "output_type": "stream",
     "name": "stderr",
     "text": [
      "0it [00:00, ?it/s]File saved successfully as ../raw/user_time_read.json\n",
      "\n"
     ]
    }
   ],
   "source": [
    "get_user_time_read()"
   ]
  }
 ]
}